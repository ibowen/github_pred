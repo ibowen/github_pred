{
 "cells": [
  {
   "cell_type": "code",
   "execution_count": 1,
   "metadata": {
    "collapsed": true
   },
   "outputs": [],
   "source": [
    "import json\n",
    "import time, datetime\n",
    "import pandas as pd\n",
    "import os\n",
    "from dateutil import parser"
   ]
  },
  {
   "cell_type": "code",
   "execution_count": 6,
   "metadata": {
    "collapsed": true
   },
   "outputs": [],
   "source": [
    "df_Stats_52w_cmmt_1000_4 = pd.read_csv('./data/drive-download-20161003T034836Z/df_Stats_52w_cmmt_1000_4.csv')"
   ]
  },
  {
   "cell_type": "code",
   "execution_count": 7,
   "metadata": {
    "collapsed": false
   },
   "outputs": [
    {
     "data": {
      "text/html": [
       "<div>\n",
       "<table border=\"1\" class=\"dataframe\">\n",
       "  <thead>\n",
       "    <tr style=\"text-align: right;\">\n",
       "      <th></th>\n",
       "      <th>Unnamed: 0</th>\n",
       "      <th>all_commits</th>\n",
       "      <th>owner_commits</th>\n",
       "      <th>owner</th>\n",
       "      <th>repo</th>\n",
       "    </tr>\n",
       "  </thead>\n",
       "  <tbody>\n",
       "    <tr>\n",
       "      <th>0</th>\n",
       "      <td>0</td>\n",
       "      <td>20</td>\n",
       "      <td>0</td>\n",
       "      <td>twbs</td>\n",
       "      <td>bootstrap</td>\n",
       "    </tr>\n",
       "    <tr>\n",
       "      <th>1</th>\n",
       "      <td>1</td>\n",
       "      <td>37</td>\n",
       "      <td>0</td>\n",
       "      <td>twbs</td>\n",
       "      <td>bootstrap</td>\n",
       "    </tr>\n",
       "    <tr>\n",
       "      <th>2</th>\n",
       "      <td>2</td>\n",
       "      <td>23</td>\n",
       "      <td>0</td>\n",
       "      <td>twbs</td>\n",
       "      <td>bootstrap</td>\n",
       "    </tr>\n",
       "    <tr>\n",
       "      <th>3</th>\n",
       "      <td>3</td>\n",
       "      <td>64</td>\n",
       "      <td>0</td>\n",
       "      <td>twbs</td>\n",
       "      <td>bootstrap</td>\n",
       "    </tr>\n",
       "    <tr>\n",
       "      <th>4</th>\n",
       "      <td>4</td>\n",
       "      <td>24</td>\n",
       "      <td>0</td>\n",
       "      <td>twbs</td>\n",
       "      <td>bootstrap</td>\n",
       "    </tr>\n",
       "  </tbody>\n",
       "</table>\n",
       "</div>"
      ],
      "text/plain": [
       "   Unnamed: 0  all_commits  owner_commits owner       repo\n",
       "0           0           20              0  twbs  bootstrap\n",
       "1           1           37              0  twbs  bootstrap\n",
       "2           2           23              0  twbs  bootstrap\n",
       "3           3           64              0  twbs  bootstrap\n",
       "4           4           24              0  twbs  bootstrap"
      ]
     },
     "execution_count": 7,
     "metadata": {},
     "output_type": "execute_result"
    }
   ],
   "source": [
    "df_Stats_52w_cmmt_1000_4.head()"
   ]
  },
  {
   "cell_type": "code",
   "execution_count": 4,
   "metadata": {
    "collapsed": true
   },
   "outputs": [],
   "source": [
    "df_Stats_day_hr_com_1000_5 = pd.read_csv('./data/drive-download-20161003T034836Z/df_Stats_day_hr_com_1000_5.csv')"
   ]
  },
  {
   "cell_type": "code",
   "execution_count": 5,
   "metadata": {
    "collapsed": false
   },
   "outputs": [
    {
     "data": {
      "text/html": [
       "<div>\n",
       "<table border=\"1\" class=\"dataframe\">\n",
       "  <thead>\n",
       "    <tr style=\"text-align: right;\">\n",
       "      <th></th>\n",
       "      <th>Unnamed: 0</th>\n",
       "      <th>day_of_week</th>\n",
       "      <th>hour_of_day</th>\n",
       "      <th>num_of_commits</th>\n",
       "      <th>owner</th>\n",
       "      <th>repo</th>\n",
       "    </tr>\n",
       "  </thead>\n",
       "  <tbody>\n",
       "    <tr>\n",
       "      <th>0</th>\n",
       "      <td>0</td>\n",
       "      <td>0</td>\n",
       "      <td>0</td>\n",
       "      <td>82</td>\n",
       "      <td>twbs</td>\n",
       "      <td>bootstrap</td>\n",
       "    </tr>\n",
       "    <tr>\n",
       "      <th>1</th>\n",
       "      <td>1</td>\n",
       "      <td>0</td>\n",
       "      <td>1</td>\n",
       "      <td>72</td>\n",
       "      <td>twbs</td>\n",
       "      <td>bootstrap</td>\n",
       "    </tr>\n",
       "    <tr>\n",
       "      <th>2</th>\n",
       "      <td>2</td>\n",
       "      <td>0</td>\n",
       "      <td>2</td>\n",
       "      <td>28</td>\n",
       "      <td>twbs</td>\n",
       "      <td>bootstrap</td>\n",
       "    </tr>\n",
       "    <tr>\n",
       "      <th>3</th>\n",
       "      <td>3</td>\n",
       "      <td>0</td>\n",
       "      <td>3</td>\n",
       "      <td>19</td>\n",
       "      <td>twbs</td>\n",
       "      <td>bootstrap</td>\n",
       "    </tr>\n",
       "    <tr>\n",
       "      <th>4</th>\n",
       "      <td>4</td>\n",
       "      <td>0</td>\n",
       "      <td>4</td>\n",
       "      <td>17</td>\n",
       "      <td>twbs</td>\n",
       "      <td>bootstrap</td>\n",
       "    </tr>\n",
       "  </tbody>\n",
       "</table>\n",
       "</div>"
      ],
      "text/plain": [
       "   Unnamed: 0  day_of_week  hour_of_day  num_of_commits owner       repo\n",
       "0           0            0            0              82  twbs  bootstrap\n",
       "1           1            0            1              72  twbs  bootstrap\n",
       "2           2            0            2              28  twbs  bootstrap\n",
       "3           3            0            3              19  twbs  bootstrap\n",
       "4           4            0            4              17  twbs  bootstrap"
      ]
     },
     "execution_count": 5,
     "metadata": {},
     "output_type": "execute_result"
    }
   ],
   "source": [
    "df_Stats_day_hr_com_1000_5.head()"
   ]
  },
  {
   "cell_type": "code",
   "execution_count": 8,
   "metadata": {
    "collapsed": true
   },
   "outputs": [],
   "source": [
    "df_Stats_w_freq_1000_3 = pd.read_csv('./data/drive-download-20161003T034836Z/df_Stats_w_freq_1000_3.csv')"
   ]
  },
  {
   "cell_type": "code",
   "execution_count": 9,
   "metadata": {
    "collapsed": false
   },
   "outputs": [
    {
     "data": {
      "text/html": [
       "<div>\n",
       "<table border=\"1\" class=\"dataframe\">\n",
       "  <thead>\n",
       "    <tr style=\"text-align: right;\">\n",
       "      <th></th>\n",
       "      <th>Unnamed: 0</th>\n",
       "      <th>week</th>\n",
       "      <th>num_of_additions</th>\n",
       "      <th>num_of_deletions</th>\n",
       "      <th>owner</th>\n",
       "      <th>repo</th>\n",
       "    </tr>\n",
       "  </thead>\n",
       "  <tbody>\n",
       "    <tr>\n",
       "      <th>0</th>\n",
       "      <td>0</td>\n",
       "      <td>1303603200</td>\n",
       "      <td>6018</td>\n",
       "      <td>-473</td>\n",
       "      <td>twbs</td>\n",
       "      <td>bootstrap</td>\n",
       "    </tr>\n",
       "    <tr>\n",
       "      <th>1</th>\n",
       "      <td>1</td>\n",
       "      <td>1304208000</td>\n",
       "      <td>7571</td>\n",
       "      <td>-6094</td>\n",
       "      <td>twbs</td>\n",
       "      <td>bootstrap</td>\n",
       "    </tr>\n",
       "    <tr>\n",
       "      <th>2</th>\n",
       "      <td>2</td>\n",
       "      <td>1304812800</td>\n",
       "      <td>225</td>\n",
       "      <td>-10</td>\n",
       "      <td>twbs</td>\n",
       "      <td>bootstrap</td>\n",
       "    </tr>\n",
       "    <tr>\n",
       "      <th>3</th>\n",
       "      <td>3</td>\n",
       "      <td>1305417600</td>\n",
       "      <td>0</td>\n",
       "      <td>0</td>\n",
       "      <td>twbs</td>\n",
       "      <td>bootstrap</td>\n",
       "    </tr>\n",
       "    <tr>\n",
       "      <th>4</th>\n",
       "      <td>4</td>\n",
       "      <td>1306022400</td>\n",
       "      <td>0</td>\n",
       "      <td>0</td>\n",
       "      <td>twbs</td>\n",
       "      <td>bootstrap</td>\n",
       "    </tr>\n",
       "  </tbody>\n",
       "</table>\n",
       "</div>"
      ],
      "text/plain": [
       "   Unnamed: 0        week  num_of_additions  num_of_deletions owner       repo\n",
       "0           0  1303603200              6018              -473  twbs  bootstrap\n",
       "1           1  1304208000              7571             -6094  twbs  bootstrap\n",
       "2           2  1304812800               225               -10  twbs  bootstrap\n",
       "3           3  1305417600                 0                 0  twbs  bootstrap\n",
       "4           4  1306022400                 0                 0  twbs  bootstrap"
      ]
     },
     "execution_count": 9,
     "metadata": {},
     "output_type": "execute_result"
    }
   ],
   "source": [
    "df_Stats_w_freq_1000_3.head()"
   ]
  },
  {
   "cell_type": "code",
   "execution_count": 10,
   "metadata": {
    "collapsed": true
   },
   "outputs": [],
   "source": [
    "df_contribution_his = pd.read_csv('./data/drive-download-20161003T034836Z/df_contribution_his.csv')"
   ]
  },
  {
   "cell_type": "code",
   "execution_count": 11,
   "metadata": {
    "collapsed": false
   },
   "outputs": [
    {
     "data": {
      "text/html": [
       "<div>\n",
       "<table border=\"1\" class=\"dataframe\">\n",
       "  <thead>\n",
       "    <tr style=\"text-align: right;\">\n",
       "      <th></th>\n",
       "      <th>a</th>\n",
       "      <th>c</th>\n",
       "      <th>d</th>\n",
       "      <th>w</th>\n",
       "      <th>owner</th>\n",
       "      <th>repo</th>\n",
       "      <th>contributorName</th>\n",
       "      <th>contributorId</th>\n",
       "    </tr>\n",
       "  </thead>\n",
       "  <tbody>\n",
       "    <tr>\n",
       "      <th>1</th>\n",
       "      <td>0</td>\n",
       "      <td>0</td>\n",
       "      <td>0</td>\n",
       "      <td>1304208000</td>\n",
       "      <td>twbs</td>\n",
       "      <td>bootstrap</td>\n",
       "      <td>rahulnwn</td>\n",
       "      <td>954075</td>\n",
       "    </tr>\n",
       "    <tr>\n",
       "      <th>2</th>\n",
       "      <td>0</td>\n",
       "      <td>0</td>\n",
       "      <td>0</td>\n",
       "      <td>1304812800</td>\n",
       "      <td>twbs</td>\n",
       "      <td>bootstrap</td>\n",
       "      <td>rahulnwn</td>\n",
       "      <td>954075</td>\n",
       "    </tr>\n",
       "    <tr>\n",
       "      <th>3</th>\n",
       "      <td>0</td>\n",
       "      <td>0</td>\n",
       "      <td>0</td>\n",
       "      <td>1305417600</td>\n",
       "      <td>twbs</td>\n",
       "      <td>bootstrap</td>\n",
       "      <td>rahulnwn</td>\n",
       "      <td>954075</td>\n",
       "    </tr>\n",
       "    <tr>\n",
       "      <th>4</th>\n",
       "      <td>0</td>\n",
       "      <td>0</td>\n",
       "      <td>0</td>\n",
       "      <td>1306022400</td>\n",
       "      <td>twbs</td>\n",
       "      <td>bootstrap</td>\n",
       "      <td>rahulnwn</td>\n",
       "      <td>954075</td>\n",
       "    </tr>\n",
       "    <tr>\n",
       "      <th>5</th>\n",
       "      <td>0</td>\n",
       "      <td>0</td>\n",
       "      <td>0</td>\n",
       "      <td>1306627200</td>\n",
       "      <td>twbs</td>\n",
       "      <td>bootstrap</td>\n",
       "      <td>rahulnwn</td>\n",
       "      <td>954075</td>\n",
       "    </tr>\n",
       "  </tbody>\n",
       "</table>\n",
       "</div>"
      ],
      "text/plain": [
       "   a  c  d           w owner       repo contributorName  contributorId\n",
       "1  0  0  0  1304208000  twbs  bootstrap        rahulnwn         954075\n",
       "2  0  0  0  1304812800  twbs  bootstrap        rahulnwn         954075\n",
       "3  0  0  0  1305417600  twbs  bootstrap        rahulnwn         954075\n",
       "4  0  0  0  1306022400  twbs  bootstrap        rahulnwn         954075\n",
       "5  0  0  0  1306627200  twbs  bootstrap        rahulnwn         954075"
      ]
     },
     "execution_count": 11,
     "metadata": {},
     "output_type": "execute_result"
    }
   ],
   "source": [
    "df_contribution_his.head()"
   ]
  },
  {
   "cell_type": "code",
   "execution_count": 12,
   "metadata": {
    "collapsed": true
   },
   "outputs": [],
   "source": [
    "df_contributor_main_1000 = pd.read_csv('./data/drive-download-20161003T034836Z/df_contributor_main_1000.csv')"
   ]
  },
  {
   "cell_type": "code",
   "execution_count": 13,
   "metadata": {
    "collapsed": false
   },
   "outputs": [
    {
     "data": {
      "text/html": [
       "<div>\n",
       "<table border=\"1\" class=\"dataframe\">\n",
       "  <thead>\n",
       "    <tr style=\"text-align: right;\">\n",
       "      <th></th>\n",
       "      <th>Unnamed: 0</th>\n",
       "      <th>contributorName</th>\n",
       "      <th>owner</th>\n",
       "      <th>repo</th>\n",
       "      <th>ttl_commits</th>\n",
       "      <th>userType</th>\n",
       "    </tr>\n",
       "  </thead>\n",
       "  <tbody>\n",
       "    <tr>\n",
       "      <th>0</th>\n",
       "      <td>0</td>\n",
       "      <td>rahulnwn</td>\n",
       "      <td>twbs</td>\n",
       "      <td>bootstrap</td>\n",
       "      <td>3.0</td>\n",
       "      <td>User</td>\n",
       "    </tr>\n",
       "    <tr>\n",
       "      <th>1</th>\n",
       "      <td>0</td>\n",
       "      <td>reywood</td>\n",
       "      <td>twbs</td>\n",
       "      <td>bootstrap</td>\n",
       "      <td>3.0</td>\n",
       "      <td>User</td>\n",
       "    </tr>\n",
       "    <tr>\n",
       "      <th>2</th>\n",
       "      <td>0</td>\n",
       "      <td>meleyal</td>\n",
       "      <td>twbs</td>\n",
       "      <td>bootstrap</td>\n",
       "      <td>3.0</td>\n",
       "      <td>User</td>\n",
       "    </tr>\n",
       "    <tr>\n",
       "      <th>3</th>\n",
       "      <td>0</td>\n",
       "      <td>DHS</td>\n",
       "      <td>twbs</td>\n",
       "      <td>bootstrap</td>\n",
       "      <td>3.0</td>\n",
       "      <td>User</td>\n",
       "    </tr>\n",
       "    <tr>\n",
       "      <th>4</th>\n",
       "      <td>0</td>\n",
       "      <td>sprice</td>\n",
       "      <td>twbs</td>\n",
       "      <td>bootstrap</td>\n",
       "      <td>3.0</td>\n",
       "      <td>User</td>\n",
       "    </tr>\n",
       "  </tbody>\n",
       "</table>\n",
       "</div>"
      ],
      "text/plain": [
       "   Unnamed: 0 contributorName owner       repo  ttl_commits userType\n",
       "0           0        rahulnwn  twbs  bootstrap          3.0     User\n",
       "1           0         reywood  twbs  bootstrap          3.0     User\n",
       "2           0         meleyal  twbs  bootstrap          3.0     User\n",
       "3           0             DHS  twbs  bootstrap          3.0     User\n",
       "4           0          sprice  twbs  bootstrap          3.0     User"
      ]
     },
     "execution_count": 13,
     "metadata": {},
     "output_type": "execute_result"
    }
   ],
   "source": [
    "df_contributor_main_1000.head()"
   ]
  },
  {
   "cell_type": "code",
   "execution_count": 14,
   "metadata": {
    "collapsed": true
   },
   "outputs": [],
   "source": [
    "df_stat_repo_main_1000 = pd.read_csv('./data/drive-download-20161003T034836Z/df_stat_repo_main_1000.csv')"
   ]
  },
  {
   "cell_type": "code",
   "execution_count": 15,
   "metadata": {
    "collapsed": false
   },
   "outputs": [
    {
     "data": {
      "text/html": [
       "<div>\n",
       "<table border=\"1\" class=\"dataframe\">\n",
       "  <thead>\n",
       "    <tr style=\"text-align: right;\">\n",
       "      <th></th>\n",
       "      <th>owner</th>\n",
       "      <th>repo</th>\n",
       "      <th>contributorName</th>\n",
       "      <th>contributorId</th>\n",
       "      <th>a</th>\n",
       "      <th>c</th>\n",
       "      <th>d</th>\n",
       "    </tr>\n",
       "  </thead>\n",
       "  <tbody>\n",
       "    <tr>\n",
       "      <th>0</th>\n",
       "      <td>twbs</td>\n",
       "      <td>bootstrap</td>\n",
       "      <td>rahulnwn</td>\n",
       "      <td>954075</td>\n",
       "      <td>3</td>\n",
       "      <td>3</td>\n",
       "      <td>2</td>\n",
       "    </tr>\n",
       "    <tr>\n",
       "      <th>1</th>\n",
       "      <td>twbs</td>\n",
       "      <td>bootstrap</td>\n",
       "      <td>reywood</td>\n",
       "      <td>1796302</td>\n",
       "      <td>25</td>\n",
       "      <td>3</td>\n",
       "      <td>3</td>\n",
       "    </tr>\n",
       "    <tr>\n",
       "      <th>2</th>\n",
       "      <td>twbs</td>\n",
       "      <td>bootstrap</td>\n",
       "      <td>meleyal</td>\n",
       "      <td>15045</td>\n",
       "      <td>28</td>\n",
       "      <td>3</td>\n",
       "      <td>28</td>\n",
       "    </tr>\n",
       "    <tr>\n",
       "      <th>3</th>\n",
       "      <td>twbs</td>\n",
       "      <td>bootstrap</td>\n",
       "      <td>DHS</td>\n",
       "      <td>326442</td>\n",
       "      <td>16</td>\n",
       "      <td>3</td>\n",
       "      <td>16</td>\n",
       "    </tr>\n",
       "    <tr>\n",
       "      <th>4</th>\n",
       "      <td>twbs</td>\n",
       "      <td>bootstrap</td>\n",
       "      <td>sprice</td>\n",
       "      <td>165397</td>\n",
       "      <td>3</td>\n",
       "      <td>3</td>\n",
       "      <td>6</td>\n",
       "    </tr>\n",
       "  </tbody>\n",
       "</table>\n",
       "</div>"
      ],
      "text/plain": [
       "  owner       repo contributorName  contributorId   a  c   d\n",
       "0  twbs  bootstrap        rahulnwn         954075   3  3   2\n",
       "1  twbs  bootstrap         reywood        1796302  25  3   3\n",
       "2  twbs  bootstrap         meleyal          15045  28  3  28\n",
       "3  twbs  bootstrap             DHS         326442  16  3  16\n",
       "4  twbs  bootstrap          sprice         165397   3  3   6"
      ]
     },
     "execution_count": 15,
     "metadata": {},
     "output_type": "execute_result"
    }
   ],
   "source": [
    "df_stat_repo_main_1000.head()"
   ]
  },
  {
   "cell_type": "code",
   "execution_count": 31,
   "metadata": {
    "collapsed": false
   },
   "outputs": [],
   "source": [
    "df_weekly_commits_1000_2 = pd.read_csv('./data/drive-download-20161003T034836Z/df_weekly_commits_1000_2.csv')"
   ]
  },
  {
   "cell_type": "code",
   "execution_count": 32,
   "metadata": {
    "collapsed": false
   },
   "outputs": [
    {
     "data": {
      "text/html": [
       "<div>\n",
       "<table border=\"1\" class=\"dataframe\">\n",
       "  <thead>\n",
       "    <tr style=\"text-align: right;\">\n",
       "      <th></th>\n",
       "      <th>Unnamed: 0</th>\n",
       "      <th>total</th>\n",
       "      <th>Sun</th>\n",
       "      <th>Mon</th>\n",
       "      <th>Tue</th>\n",
       "      <th>Wed</th>\n",
       "      <th>Thur</th>\n",
       "      <th>Fri</th>\n",
       "      <th>Sat</th>\n",
       "      <th>owner</th>\n",
       "      <th>repo</th>\n",
       "      <th>date</th>\n",
       "    </tr>\n",
       "  </thead>\n",
       "  <tbody>\n",
       "    <tr>\n",
       "      <th>0</th>\n",
       "      <td>0</td>\n",
       "      <td>16</td>\n",
       "      <td>1</td>\n",
       "      <td>0</td>\n",
       "      <td>5</td>\n",
       "      <td>4</td>\n",
       "      <td>2</td>\n",
       "      <td>2</td>\n",
       "      <td>2</td>\n",
       "      <td>twbs</td>\n",
       "      <td>bootstrap</td>\n",
       "      <td>2015-10-04 00:00:00</td>\n",
       "    </tr>\n",
       "    <tr>\n",
       "      <th>1</th>\n",
       "      <td>1</td>\n",
       "      <td>27</td>\n",
       "      <td>3</td>\n",
       "      <td>5</td>\n",
       "      <td>1</td>\n",
       "      <td>9</td>\n",
       "      <td>2</td>\n",
       "      <td>4</td>\n",
       "      <td>3</td>\n",
       "      <td>twbs</td>\n",
       "      <td>bootstrap</td>\n",
       "      <td>2015-10-11 00:00:00</td>\n",
       "    </tr>\n",
       "    <tr>\n",
       "      <th>2</th>\n",
       "      <td>2</td>\n",
       "      <td>24</td>\n",
       "      <td>0</td>\n",
       "      <td>3</td>\n",
       "      <td>1</td>\n",
       "      <td>1</td>\n",
       "      <td>1</td>\n",
       "      <td>13</td>\n",
       "      <td>5</td>\n",
       "      <td>twbs</td>\n",
       "      <td>bootstrap</td>\n",
       "      <td>2015-10-18 00:00:00</td>\n",
       "    </tr>\n",
       "    <tr>\n",
       "      <th>3</th>\n",
       "      <td>3</td>\n",
       "      <td>39</td>\n",
       "      <td>1</td>\n",
       "      <td>6</td>\n",
       "      <td>6</td>\n",
       "      <td>7</td>\n",
       "      <td>16</td>\n",
       "      <td>1</td>\n",
       "      <td>2</td>\n",
       "      <td>twbs</td>\n",
       "      <td>bootstrap</td>\n",
       "      <td>2015-10-25 00:00:00</td>\n",
       "    </tr>\n",
       "    <tr>\n",
       "      <th>4</th>\n",
       "      <td>4</td>\n",
       "      <td>15</td>\n",
       "      <td>2</td>\n",
       "      <td>1</td>\n",
       "      <td>7</td>\n",
       "      <td>1</td>\n",
       "      <td>4</td>\n",
       "      <td>0</td>\n",
       "      <td>0</td>\n",
       "      <td>twbs</td>\n",
       "      <td>bootstrap</td>\n",
       "      <td>2015-11-01 00:00:00</td>\n",
       "    </tr>\n",
       "  </tbody>\n",
       "</table>\n",
       "</div>"
      ],
      "text/plain": [
       "   Unnamed: 0  total  Sun  Mon  Tue  Wed  Thur  Fri  Sat owner       repo  \\\n",
       "0           0     16    1    0    5    4     2    2    2  twbs  bootstrap   \n",
       "1           1     27    3    5    1    9     2    4    3  twbs  bootstrap   \n",
       "2           2     24    0    3    1    1     1   13    5  twbs  bootstrap   \n",
       "3           3     39    1    6    6    7    16    1    2  twbs  bootstrap   \n",
       "4           4     15    2    1    7    1     4    0    0  twbs  bootstrap   \n",
       "\n",
       "                  date  \n",
       "0  2015-10-04 00:00:00  \n",
       "1  2015-10-11 00:00:00  \n",
       "2  2015-10-18 00:00:00  \n",
       "3  2015-10-25 00:00:00  \n",
       "4  2015-11-01 00:00:00  "
      ]
     },
     "execution_count": 32,
     "metadata": {},
     "output_type": "execute_result"
    }
   ],
   "source": [
    "df_weekly_commits_1000_2.head()"
   ]
  },
  {
   "cell_type": "markdown",
   "metadata": {},
   "source": [
    "### ETL full starrings"
   ]
  },
  {
   "cell_type": "code",
   "execution_count": 2,
   "metadata": {
    "collapsed": true
   },
   "outputs": [],
   "source": [
    "starrings_full = pd.read_csv('./data/starrings_full.csv')"
   ]
  },
  {
   "cell_type": "code",
   "execution_count": 3,
   "metadata": {
    "collapsed": false
   },
   "outputs": [
    {
     "data": {
      "text/html": [
       "<div>\n",
       "<table border=\"1\" class=\"dataframe\">\n",
       "  <thead>\n",
       "    <tr style=\"text-align: right;\">\n",
       "      <th></th>\n",
       "      <th>owner</th>\n",
       "      <th>repo</th>\n",
       "      <th>starred_at</th>\n",
       "      <th>user.login</th>\n",
       "      <th>user.site_admin</th>\n",
       "      <th>user.type</th>\n",
       "      <th>user.id</th>\n",
       "    </tr>\n",
       "  </thead>\n",
       "  <tbody>\n",
       "    <tr>\n",
       "      <th>0</th>\n",
       "      <td>npm</td>\n",
       "      <td>marky-markdown</td>\n",
       "      <td>2014-12-19T22:20:50Z</td>\n",
       "      <td>ceejbot</td>\n",
       "      <td>False</td>\n",
       "      <td>User</td>\n",
       "      <td>757502</td>\n",
       "    </tr>\n",
       "    <tr>\n",
       "      <th>1</th>\n",
       "      <td>npm</td>\n",
       "      <td>marky-markdown</td>\n",
       "      <td>2015-01-06T09:12:49Z</td>\n",
       "      <td>sorrycc</td>\n",
       "      <td>False</td>\n",
       "      <td>User</td>\n",
       "      <td>35128</td>\n",
       "    </tr>\n",
       "    <tr>\n",
       "      <th>2</th>\n",
       "      <td>npm</td>\n",
       "      <td>marky-markdown</td>\n",
       "      <td>2015-01-14T18:56:14Z</td>\n",
       "      <td>bcoe</td>\n",
       "      <td>False</td>\n",
       "      <td>User</td>\n",
       "      <td>194609</td>\n",
       "    </tr>\n",
       "    <tr>\n",
       "      <th>3</th>\n",
       "      <td>npm</td>\n",
       "      <td>marky-markdown</td>\n",
       "      <td>2015-01-26T21:30:28Z</td>\n",
       "      <td>pose</td>\n",
       "      <td>False</td>\n",
       "      <td>User</td>\n",
       "      <td>419703</td>\n",
       "    </tr>\n",
       "    <tr>\n",
       "      <th>4</th>\n",
       "      <td>npm</td>\n",
       "      <td>marky-markdown</td>\n",
       "      <td>2015-01-29T16:43:08Z</td>\n",
       "      <td>mattallty</td>\n",
       "      <td>False</td>\n",
       "      <td>User</td>\n",
       "      <td>178616</td>\n",
       "    </tr>\n",
       "  </tbody>\n",
       "</table>\n",
       "</div>"
      ],
      "text/plain": [
       "  owner            repo            starred_at user.login user.site_admin  \\\n",
       "0   npm  marky-markdown  2014-12-19T22:20:50Z    ceejbot           False   \n",
       "1   npm  marky-markdown  2015-01-06T09:12:49Z    sorrycc           False   \n",
       "2   npm  marky-markdown  2015-01-14T18:56:14Z       bcoe           False   \n",
       "3   npm  marky-markdown  2015-01-26T21:30:28Z       pose           False   \n",
       "4   npm  marky-markdown  2015-01-29T16:43:08Z  mattallty           False   \n",
       "\n",
       "  user.type  user.id  \n",
       "0      User   757502  \n",
       "1      User    35128  \n",
       "2      User   194609  \n",
       "3      User   419703  \n",
       "4      User   178616  "
      ]
     },
     "execution_count": 3,
     "metadata": {},
     "output_type": "execute_result"
    }
   ],
   "source": [
    "starrings_full.head()"
   ]
  },
  {
   "cell_type": "code",
   "execution_count": 9,
   "metadata": {
    "collapsed": false
   },
   "outputs": [],
   "source": [
    "# transform isodate into datetime\n",
    "starrings_full.starred_at = starrings_full.starred_at.apply(lambda x : parser.parse(x))"
   ]
  },
  {
   "cell_type": "code",
   "execution_count": 74,
   "metadata": {
    "collapsed": true
   },
   "outputs": [],
   "source": [
    "starrings_full52 = starrings_full[starrings_full['starred_at'] >= '2015-10-04']"
   ]
  },
  {
   "cell_type": "code",
   "execution_count": 75,
   "metadata": {
    "collapsed": false
   },
   "outputs": [],
   "source": [
    "starrings_full52['year'] = starrings_full52.starred_at.dt.year\n",
    "starrings_full52['weekofyear'] = starrings_full52.starred_at.dt.weekofyear"
   ]
  },
  {
   "cell_type": "code",
   "execution_count": 76,
   "metadata": {
    "collapsed": false
   },
   "outputs": [
    {
     "data": {
      "text/plain": [
       "array([44, 45, 47, 48, 49, 50, 53,  1,  2,  3,  4,  5,  6,  7,  9, 11, 12,\n",
       "       13, 14, 15, 17, 19, 20, 21, 22, 23, 24, 25, 27, 28, 29, 30, 31, 32,\n",
       "       33, 34, 35, 37, 38, 40, 41, 42, 43, 46, 51, 52,  8, 10, 16, 18, 26,\n",
       "       36])"
      ]
     },
     "execution_count": 76,
     "metadata": {},
     "output_type": "execute_result"
    }
   ],
   "source": [
    "starrings_full52['weekofyear'].unique()"
   ]
  },
  {
   "cell_type": "code",
   "execution_count": 77,
   "metadata": {
    "collapsed": false
   },
   "outputs": [
    {
     "data": {
      "text/plain": [
       "[40, 41, 42, 43, 44, 45, 46, 47, 48, 49, 50, 51, 52, 53]"
      ]
     },
     "execution_count": 77,
     "metadata": {},
     "output_type": "execute_result"
    }
   ],
   "source": [
    "sorted(starrings_full52[starrings_full52['year'] == 2015]['weekofyear'].unique())"
   ]
  },
  {
   "cell_type": "code",
   "execution_count": 79,
   "metadata": {
    "collapsed": false
   },
   "outputs": [
    {
     "data": {
      "text/plain": [
       "array([ 1,  2,  3,  4,  5,  6,  7,  9, 11, 12, 13, 14, 15, 17, 19, 20, 21,\n",
       "       22, 23, 24, 25, 27, 28, 29, 30, 31, 32, 33, 34, 35, 37, 38,  8, 10,\n",
       "       16, 18, 26, 36, 53])"
      ]
     },
     "execution_count": 79,
     "metadata": {},
     "output_type": "execute_result"
    }
   ],
   "source": [
    "starrings_full52[starrings_full52['year'] == 2016]['weekofyear'].unique()"
   ]
  },
  {
   "cell_type": "code",
   "execution_count": 80,
   "metadata": {
    "collapsed": true
   },
   "outputs": [],
   "source": [
    "# weekofyear in 2015 - 39\n",
    "# weekofyear in 2016 + 14\n",
    "starrings_full52['weekofyear'] = starrings_full52['weekofyear'].apply(lambda i : i - 39 if i >= 40 else i + 14)"
   ]
  },
  {
   "cell_type": "code",
   "execution_count": 81,
   "metadata": {
    "collapsed": false
   },
   "outputs": [
    {
     "data": {
      "text/plain": [
       "array([ 5,  6,  8,  9, 10, 11, 14, 15, 16, 17, 18, 19, 20, 21, 23, 25, 26,\n",
       "       27, 28, 29, 31, 33, 34, 35, 36, 37, 38, 39, 41, 42, 43, 44, 45, 46,\n",
       "       47, 48, 49, 51, 52,  1,  2,  3,  4,  7, 12, 13, 22, 24, 30, 32, 40,\n",
       "       50])"
      ]
     },
     "execution_count": 81,
     "metadata": {},
     "output_type": "execute_result"
    }
   ],
   "source": [
    "starrings_full52.weekofyear.unique()"
   ]
  },
  {
   "cell_type": "code",
   "execution_count": 82,
   "metadata": {
    "collapsed": true
   },
   "outputs": [],
   "source": [
    "starrings_full52_group = starrings_full52.groupby(by=['owner', 'repo', 'weekofyear'])['starred_at'].count().reset_index()"
   ]
  },
  {
   "cell_type": "code",
   "execution_count": 83,
   "metadata": {
    "collapsed": false
   },
   "outputs": [],
   "source": [
    "starrings_full52_group.columns = ['owner', 'repo', 'weekofyear', 'total_stars']"
   ]
  },
  {
   "cell_type": "code",
   "execution_count": 84,
   "metadata": {
    "collapsed": false
   },
   "outputs": [],
   "source": [
    "starrings_full52_group.to_csv('./data/starrings_full52_group.csv', index=False, header=True)"
   ]
  },
  {
   "cell_type": "code",
   "execution_count": 85,
   "metadata": {
    "collapsed": false
   },
   "outputs": [
    {
     "data": {
      "text/html": [
       "<div>\n",
       "<table border=\"1\" class=\"dataframe\">\n",
       "  <thead>\n",
       "    <tr style=\"text-align: right;\">\n",
       "      <th></th>\n",
       "      <th>owner</th>\n",
       "      <th>repo</th>\n",
       "      <th>weekofyear</th>\n",
       "      <th>total_stars</th>\n",
       "    </tr>\n",
       "  </thead>\n",
       "  <tbody>\n",
       "    <tr>\n",
       "      <th>0</th>\n",
       "      <td>BVLC</td>\n",
       "      <td>caffe</td>\n",
       "      <td>1</td>\n",
       "      <td>8</td>\n",
       "    </tr>\n",
       "    <tr>\n",
       "      <th>1</th>\n",
       "      <td>BVLC</td>\n",
       "      <td>caffe</td>\n",
       "      <td>2</td>\n",
       "      <td>104</td>\n",
       "    </tr>\n",
       "    <tr>\n",
       "      <th>2</th>\n",
       "      <td>BVLC</td>\n",
       "      <td>caffe</td>\n",
       "      <td>3</td>\n",
       "      <td>99</td>\n",
       "    </tr>\n",
       "    <tr>\n",
       "      <th>3</th>\n",
       "      <td>BVLC</td>\n",
       "      <td>caffe</td>\n",
       "      <td>4</td>\n",
       "      <td>96</td>\n",
       "    </tr>\n",
       "    <tr>\n",
       "      <th>4</th>\n",
       "      <td>BVLC</td>\n",
       "      <td>caffe</td>\n",
       "      <td>5</td>\n",
       "      <td>132</td>\n",
       "    </tr>\n",
       "  </tbody>\n",
       "</table>\n",
       "</div>"
      ],
      "text/plain": [
       "  owner   repo  weekofyear  total_stars\n",
       "0  BVLC  caffe           1            8\n",
       "1  BVLC  caffe           2          104\n",
       "2  BVLC  caffe           3           99\n",
       "3  BVLC  caffe           4           96\n",
       "4  BVLC  caffe           5          132"
      ]
     },
     "execution_count": 85,
     "metadata": {},
     "output_type": "execute_result"
    }
   ],
   "source": [
    "starrings_full52_group.head()"
   ]
  },
  {
   "cell_type": "markdown",
   "metadata": {},
   "source": [
    "### Check max date against"
   ]
  },
  {
   "cell_type": "code",
   "execution_count": 30,
   "metadata": {
    "collapsed": false
   },
   "outputs": [
    {
     "data": {
      "text/plain": [
       "Timestamp('2016-09-25 17:56:55+0000', tz='UTC')"
      ]
     },
     "execution_count": 30,
     "metadata": {},
     "output_type": "execute_result"
    }
   ],
   "source": [
    "starrings_full.starred_at.max()"
   ]
  },
  {
   "cell_type": "code",
   "execution_count": 36,
   "metadata": {
    "collapsed": false
   },
   "outputs": [
    {
     "data": {
      "text/plain": [
       "38"
      ]
     },
     "execution_count": 36,
     "metadata": {},
     "output_type": "execute_result"
    }
   ],
   "source": [
    "starrings_full.starred_at.max().isocalendar()[1]"
   ]
  },
  {
   "cell_type": "code",
   "execution_count": 33,
   "metadata": {
    "collapsed": true
   },
   "outputs": [],
   "source": [
    "df_weekly_commits_1000_2.date = df_weekly_commits_1000_2.date.apply(lambda x : parser.parse(x))"
   ]
  },
  {
   "cell_type": "code",
   "execution_count": 34,
   "metadata": {
    "collapsed": false
   },
   "outputs": [
    {
     "data": {
      "text/plain": [
       "Timestamp('2016-10-02 00:00:00')"
      ]
     },
     "execution_count": 34,
     "metadata": {},
     "output_type": "execute_result"
    }
   ],
   "source": [
    "df_weekly_commits_1000_2.date.max()"
   ]
  },
  {
   "cell_type": "code",
   "execution_count": 56,
   "metadata": {
    "collapsed": false
   },
   "outputs": [
    {
     "data": {
      "text/plain": [
       "Timestamp('2015-10-04 00:00:00')"
      ]
     },
     "execution_count": 56,
     "metadata": {},
     "output_type": "execute_result"
    }
   ],
   "source": [
    "df_weekly_commits_1000_2.date.min()"
   ]
  },
  {
   "cell_type": "code",
   "execution_count": 37,
   "metadata": {
    "collapsed": false
   },
   "outputs": [
    {
     "data": {
      "text/plain": [
       "39"
      ]
     },
     "execution_count": 37,
     "metadata": {},
     "output_type": "execute_result"
    }
   ],
   "source": [
    "df_weekly_commits_1000_2.date.max().isocalendar()[1]"
   ]
  },
  {
   "cell_type": "markdown",
   "metadata": {},
   "source": [
    "### It should start with 2015-10-04 ~ 2016-09-25"
   ]
  },
  {
   "cell_type": "code",
   "execution_count": null,
   "metadata": {
    "collapsed": true
   },
   "outputs": [],
   "source": []
  }
 ],
 "metadata": {
  "kernelspec": {
   "display_name": "Python 2",
   "language": "python",
   "name": "python2"
  },
  "language_info": {
   "codemirror_mode": {
    "name": "ipython",
    "version": 2
   },
   "file_extension": ".py",
   "mimetype": "text/x-python",
   "name": "python",
   "nbconvert_exporter": "python",
   "pygments_lexer": "ipython2",
   "version": "2.7.10"
  },
  "widgets": {
   "state": {},
   "version": "1.1.2"
  }
 },
 "nbformat": 4,
 "nbformat_minor": 0
}
