{
 "cells": [
  {
   "cell_type": "code",
   "execution_count": 1,
   "metadata": {
    "collapsed": true
   },
   "outputs": [],
   "source": [
    "import numpy as np\n",
    "import pandas as pd\n",
    "import json\n",
    "import matplotlib.pyplot as plt\n",
    "%matplotlib inline"
   ]
  },
  {
   "cell_type": "code",
   "execution_count": 2,
   "metadata": {
    "collapsed": true
   },
   "outputs": [],
   "source": [
    "starrings = pd.read_csv('./data/starrings_full.csv')"
   ]
  },
  {
   "cell_type": "code",
   "execution_count": 3,
   "metadata": {
    "collapsed": false,
    "scrolled": false
   },
   "outputs": [
    {
     "data": {
      "text/html": [
       "<div>\n",
       "<table border=\"1\" class=\"dataframe\">\n",
       "  <thead>\n",
       "    <tr style=\"text-align: right;\">\n",
       "      <th></th>\n",
       "      <th>owner</th>\n",
       "      <th>repo</th>\n",
       "      <th>starred_at</th>\n",
       "      <th>user.login</th>\n",
       "      <th>user.site_admin</th>\n",
       "      <th>user.type</th>\n",
       "      <th>user.id</th>\n",
       "    </tr>\n",
       "  </thead>\n",
       "  <tbody>\n",
       "    <tr>\n",
       "      <th>0</th>\n",
       "      <td>npm</td>\n",
       "      <td>marky-markdown</td>\n",
       "      <td>2014-12-19T22:20:50Z</td>\n",
       "      <td>ceejbot</td>\n",
       "      <td>False</td>\n",
       "      <td>User</td>\n",
       "      <td>757502</td>\n",
       "    </tr>\n",
       "    <tr>\n",
       "      <th>1</th>\n",
       "      <td>npm</td>\n",
       "      <td>marky-markdown</td>\n",
       "      <td>2015-01-06T09:12:49Z</td>\n",
       "      <td>sorrycc</td>\n",
       "      <td>False</td>\n",
       "      <td>User</td>\n",
       "      <td>35128</td>\n",
       "    </tr>\n",
       "    <tr>\n",
       "      <th>2</th>\n",
       "      <td>npm</td>\n",
       "      <td>marky-markdown</td>\n",
       "      <td>2015-01-14T18:56:14Z</td>\n",
       "      <td>bcoe</td>\n",
       "      <td>False</td>\n",
       "      <td>User</td>\n",
       "      <td>194609</td>\n",
       "    </tr>\n",
       "    <tr>\n",
       "      <th>3</th>\n",
       "      <td>npm</td>\n",
       "      <td>marky-markdown</td>\n",
       "      <td>2015-01-26T21:30:28Z</td>\n",
       "      <td>pose</td>\n",
       "      <td>False</td>\n",
       "      <td>User</td>\n",
       "      <td>419703</td>\n",
       "    </tr>\n",
       "    <tr>\n",
       "      <th>4</th>\n",
       "      <td>npm</td>\n",
       "      <td>marky-markdown</td>\n",
       "      <td>2015-01-29T16:43:08Z</td>\n",
       "      <td>mattallty</td>\n",
       "      <td>False</td>\n",
       "      <td>User</td>\n",
       "      <td>178616</td>\n",
       "    </tr>\n",
       "  </tbody>\n",
       "</table>\n",
       "</div>"
      ],
      "text/plain": [
       "  owner            repo            starred_at user.login user.site_admin  \\\n",
       "0   npm  marky-markdown  2014-12-19T22:20:50Z    ceejbot           False   \n",
       "1   npm  marky-markdown  2015-01-06T09:12:49Z    sorrycc           False   \n",
       "2   npm  marky-markdown  2015-01-14T18:56:14Z       bcoe           False   \n",
       "3   npm  marky-markdown  2015-01-26T21:30:28Z       pose           False   \n",
       "4   npm  marky-markdown  2015-01-29T16:43:08Z  mattallty           False   \n",
       "\n",
       "  user.type  user.id  \n",
       "0      User   757502  \n",
       "1      User    35128  \n",
       "2      User   194609  \n",
       "3      User   419703  \n",
       "4      User   178616  "
      ]
     },
     "execution_count": 3,
     "metadata": {},
     "output_type": "execute_result"
    }
   ],
   "source": [
    "starrings.head()"
   ]
  },
  {
   "cell_type": "code",
   "execution_count": 4,
   "metadata": {
    "collapsed": true
   },
   "outputs": [],
   "source": [
    "repo_list = pd.read_csv('./data/repos-with-homepage.csv')"
   ]
  },
  {
   "cell_type": "code",
   "execution_count": 6,
   "metadata": {
    "collapsed": true
   },
   "outputs": [],
   "source": [
    "starrings['full_name'] = starrings['owner'] + '/' + starrings['repo']"
   ]
  },
  {
   "cell_type": "code",
   "execution_count": 7,
   "metadata": {
    "collapsed": false
   },
   "outputs": [],
   "source": [
    "repo_list['full_name2'] = repo_list['org_id'] + '/' + repo_list['name']"
   ]
  },
  {
   "cell_type": "code",
   "execution_count": 9,
   "metadata": {
    "collapsed": false
   },
   "outputs": [
    {
     "data": {
      "text/plain": [
       "0"
      ]
     },
     "execution_count": 9,
     "metadata": {},
     "output_type": "execute_result"
    }
   ],
   "source": [
    "len(set(repo_list.full_name2.tolist()) - set(starrings['full_name'].unique().tolist()))"
   ]
  },
  {
   "cell_type": "markdown",
   "metadata": {},
   "source": [
    "### {repo: [user.id1, user.id2, ...]}"
   ]
  },
  {
   "cell_type": "code",
   "execution_count": 13,
   "metadata": {
    "collapsed": true
   },
   "outputs": [],
   "source": [
    "repos_users_map = {} "
   ]
  },
  {
   "cell_type": "code",
   "execution_count": 14,
   "metadata": {
    "collapsed": true
   },
   "outputs": [],
   "source": [
    "repos = starrings['full_name'].unique().tolist()"
   ]
  },
  {
   "cell_type": "code",
   "execution_count": 15,
   "metadata": {
    "collapsed": false
   },
   "outputs": [
    {
     "data": {
      "text/plain": [
       "709"
      ]
     },
     "execution_count": 15,
     "metadata": {},
     "output_type": "execute_result"
    }
   ],
   "source": [
    "len(repos)"
   ]
  },
  {
   "cell_type": "code",
   "execution_count": 16,
   "metadata": {
    "collapsed": false
   },
   "outputs": [
    {
     "name": "stdout",
     "output_type": "stream",
     "text": [
      "already done with 0\n",
      "already done with 100\n",
      "already done with 200\n",
      "already done with 300\n",
      "already done with 400\n",
      "already done with 500\n",
      "already done with 600\n",
      "already done with 700\n"
     ]
    }
   ],
   "source": [
    "counter = 0\n",
    "for repo in repos:\n",
    "    if counter % 100 == 0:\n",
    "        print 'already done with {}'.format(counter)\n",
    "    repos_users_map[repo] = starrings[starrings['full_name'] == repo]['user.id'].unique().tolist()\n",
    "    counter += 1"
   ]
  },
  {
   "cell_type": "markdown",
   "metadata": {},
   "source": [
    "### {'repo1_repo2' : [repo1, repo2, [common_users], is_connected]}"
   ]
  },
  {
   "cell_type": "code",
   "execution_count": 17,
   "metadata": {
    "collapsed": true
   },
   "outputs": [],
   "source": [
    "repo_repo_users = {}"
   ]
  },
  {
   "cell_type": "code",
   "execution_count": 18,
   "metadata": {
    "collapsed": false
   },
   "outputs": [],
   "source": [
    "for k1, v1 in repos_users_map.iteritems():\n",
    "    for k2, v2 in repos_users_map.iteritems():\n",
    "        if k1 == k2:\n",
    "            continue\n",
    "        key = '_'.join(sorted([k1, k2]))\n",
    "        if key in repo_repo_users.keys():\n",
    "            continue\n",
    "        common_users = list(set(v1) & set(v2))\n",
    "        is_connected = len(common_users) != 0\n",
    "        repo_repo_users[key] = [k1, k2, common_users, is_connected]"
   ]
  },
  {
   "cell_type": "code",
   "execution_count": 19,
   "metadata": {
    "collapsed": false
   },
   "outputs": [
    {
     "data": {
      "text/plain": [
       "250986"
      ]
     },
     "execution_count": 19,
     "metadata": {},
     "output_type": "execute_result"
    }
   ],
   "source": [
    "len(repo_repo_users.keys()) # total 247456, all match should be 709*708/2=250986"
   ]
  },
  {
   "cell_type": "markdown",
   "metadata": {},
   "source": [
    "### [repo1, repo2, [common_users], is_connected]"
   ]
  },
  {
   "cell_type": "code",
   "execution_count": 20,
   "metadata": {
    "collapsed": true
   },
   "outputs": [],
   "source": [
    "import csv\n",
    "with open(\"./data/repo_repo_users.csv\", \"wb\") as f:\n",
    "    writer = csv.writer(f)\n",
    "    writer.writerows(repo_repo_users.values())"
   ]
  },
  {
   "cell_type": "code",
   "execution_count": 21,
   "metadata": {
    "collapsed": false
   },
   "outputs": [
    {
     "data": {
      "text/plain": [
       "[['linkedin/inject',\n",
       "  'airbnb/enzyme',\n",
       "  [1283200,\n",
       "   19714,\n",
       "   116996,\n",
       "   182661,\n",
       "   149897,\n",
       "   1390475,\n",
       "   137612,\n",
       "   2882,\n",
       "   81552,\n",
       "   4756,\n",
       "   446613,\n",
       "   1298185,\n",
       "   5073946,\n",
       "   2723099,\n",
       "   1280922,\n",
       "   105758,\n",
       "   13491333,\n",
       "   1738400,\n",
       "   261027,\n",
       "   1195074,\n",
       "   1214630,\n",
       "   2245162,\n",
       "   45868,\n",
       "   225712,\n",
       "   5654065,\n",
       "   66100,\n",
       "   515714,\n",
       "   5499703,\n",
       "   627410,\n",
       "   1160522,\n",
       "   130494,\n",
       "   961856,\n",
       "   138050,\n",
       "   3436611,\n",
       "   506438,\n",
       "   4579914,\n",
       "   1337046,\n",
       "   1128312,\n",
       "   464978,\n",
       "   870995,\n",
       "   194260,\n",
       "   615381,\n",
       "   502358,\n",
       "   1458008,\n",
       "   6399322,\n",
       "   276955,\n",
       "   124380,\n",
       "   6502877,\n",
       "   152287,\n",
       "   290272,\n",
       "   79451,\n",
       "   652388,\n",
       "   286950,\n",
       "   22249,\n",
       "   396013,\n",
       "   740978,\n",
       "   667603,\n",
       "   127349,\n",
       "   28534,\n",
       "   352105,\n",
       "   2296,\n",
       "   319609,\n",
       "   63402],\n",
       "  True],\n",
       " ['cloudera/Impala',\n",
       "  'microsoft/TypeScript',\n",
       "  [650753,\n",
       "   7543300,\n",
       "   863754,\n",
       "   634379,\n",
       "   128525,\n",
       "   5729965,\n",
       "   398655,\n",
       "   4901397,\n",
       "   603158,\n",
       "   103447,\n",
       "   4968473,\n",
       "   554159,\n",
       "   565790,\n",
       "   11814,\n",
       "   1055787,\n",
       "   1490484,\n",
       "   8683573,\n",
       "   2041398,\n",
       "   684771,\n",
       "   6937657,\n",
       "   133179,\n",
       "   2999356,\n",
       "   2487306,\n",
       "   82501,\n",
       "   105033,\n",
       "   3489866,\n",
       "   1429067,\n",
       "   732751,\n",
       "   1667152,\n",
       "   13155,\n",
       "   2716047,\n",
       "   1828949,\n",
       "   628313,\n",
       "   1506907,\n",
       "   1942620,\n",
       "   1129566,\n",
       "   1159775,\n",
       "   101988,\n",
       "   11365,\n",
       "   12391,\n",
       "   5381740,\n",
       "   5047,\n",
       "   1318589,\n",
       "   3444336,\n",
       "   10134641,\n",
       "   1442931,\n",
       "   134774,\n",
       "   36985,\n",
       "   88188,\n",
       "   2183293,\n",
       "   5171327,\n",
       "   13491333,\n",
       "   5751944,\n",
       "   778377,\n",
       "   42634,\n",
       "   588431,\n",
       "   139065,\n",
       "   152723,\n",
       "   140436,\n",
       "   865817,\n",
       "   946848,\n",
       "   1286818,\n",
       "   4074659,\n",
       "   5366948,\n",
       "   50860,\n",
       "   4370605,\n",
       "   1180335,\n",
       "   8628543,\n",
       "   76982,\n",
       "   979129,\n",
       "   345274,\n",
       "   1717023,\n",
       "   523965,\n",
       "   413886,\n",
       "   8437025,\n",
       "   317129,\n",
       "   42194,\n",
       "   2286805,\n",
       "   59094,\n",
       "   3962588,\n",
       "   72997,\n",
       "   167803,\n",
       "   3804900,\n",
       "   121064,\n",
       "   1651945,\n",
       "   1286378,\n",
       "   330987,\n",
       "   1083629,\n",
       "   15718639,\n",
       "   781553,\n",
       "   138487,\n",
       "   320251,\n",
       "   1027331,\n",
       "   4448518,\n",
       "   76552,\n",
       "   3329806,\n",
       "   1036163,\n",
       "   193300,\n",
       "   94489,\n",
       "   631068,\n",
       "   678685,\n",
       "   105758,\n",
       "   1404191,\n",
       "   1748769,\n",
       "   6017315,\n",
       "   919844,\n",
       "   3382565,\n",
       "   10174247,\n",
       "   236840,\n",
       "   45868,\n",
       "   2345773,\n",
       "   31150,\n",
       "   5029171,\n",
       "   7858484,\n",
       "   1405237,\n",
       "   446262,\n",
       "   627410,\n",
       "   6643001,\n",
       "   684347,\n",
       "   1926460,\n",
       "   2386239,\n",
       "   453953,\n",
       "   2882,\n",
       "   1585718,\n",
       "   222026,\n",
       "   1169232,\n",
       "   2005841,\n",
       "   1942359,\n",
       "   792291,\n",
       "   20820,\n",
       "   516153,\n",
       "   6490,\n",
       "   2599771,\n",
       "   3131232,\n",
       "   188257,\n",
       "   4075067,\n",
       "   1591142,\n",
       "   32617,\n",
       "   886122,\n",
       "   690578,\n",
       "   948545,\n",
       "   12987761,\n",
       "   24123,\n",
       "   440041,\n",
       "   614777,\n",
       "   9023,\n",
       "   1468284,\n",
       "   1746301,\n",
       "   489344,\n",
       "   1411,\n",
       "   2561412,\n",
       "   554887,\n",
       "   501740,\n",
       "   943597,\n",
       "   492946,\n",
       "   321944,\n",
       "   5877145,\n",
       "   2146203,\n",
       "   308124,\n",
       "   1361821,\n",
       "   19881,\n",
       "   1621930,\n",
       "   11224493,\n",
       "   1610158,\n",
       "   2225583,\n",
       "   80306,\n",
       "   1024948,\n",
       "   148919,\n",
       "   3018168,\n",
       "   4688315,\n",
       "   888252,\n",
       "   1221055,\n",
       "   595909,\n",
       "   5085642,\n",
       "   1880012,\n",
       "   3413969,\n",
       "   228309,\n",
       "   1396696,\n",
       "   3502756,\n",
       "   200511,\n",
       "   7870949,\n",
       "   978919,\n",
       "   928236,\n",
       "   1189869,\n",
       "   1179548,\n",
       "   2450938,\n",
       "   328702],\n",
       "  True]]"
      ]
     },
     "execution_count": 21,
     "metadata": {},
     "output_type": "execute_result"
    }
   ],
   "source": [
    "repo_repo_users.values()[0:2]"
   ]
  },
  {
   "cell_type": "markdown",
   "metadata": {},
   "source": [
    "### simple count the common users"
   ]
  },
  {
   "cell_type": "code",
   "execution_count": 3,
   "metadata": {
    "collapsed": false
   },
   "outputs": [],
   "source": [
    "repo_repo_users = pd.read_csv('./data/repo_repo_users.csv', header=None)"
   ]
  },
  {
   "cell_type": "code",
   "execution_count": 4,
   "metadata": {
    "collapsed": false
   },
   "outputs": [],
   "source": [
    "repo_repo_users.columns = ['Source', 'Target', 'common_users', 'is_connected']"
   ]
  },
  {
   "cell_type": "code",
   "execution_count": 5,
   "metadata": {
    "collapsed": true
   },
   "outputs": [],
   "source": [
    "repo_repo_users['Weight'] = repo_repo_users['common_users'].apply(lambda x : len(x))"
   ]
  },
  {
   "cell_type": "code",
   "execution_count": 8,
   "metadata": {
    "collapsed": false
   },
   "outputs": [
    {
     "data": {
      "text/plain": [
       "<matplotlib.axes._subplots.AxesSubplot at 0x10578cd90>"
      ]
     },
     "execution_count": 8,
     "metadata": {},
     "output_type": "execute_result"
    },
    {
     "data": {
      "image/png": "[encoded data removed]",
      "text/plain": [
       "<matplotlib.figure.Figure at 0x10578cc90>"
      ]
     },
     "metadata": {},
     "output_type": "display_data"
    }
   ],
   "source": [
    "np.log(repo_repo_users['Weight']).hist()"
   ]
  },
  {
   "cell_type": "code",
   "execution_count": 9,
   "metadata": {
    "collapsed": true
   },
   "outputs": [],
   "source": [
    "repo_repo_users['Weight'] = repo_repo_users['Weight'].apply(lambda x : np.log(x))"
   ]
  },
  {
   "cell_type": "code",
   "execution_count": 10,
   "metadata": {
    "collapsed": false
   },
   "outputs": [
    {
     "data": {
      "text/html": [
       "<div>\n",
       "<table border=\"1\" class=\"dataframe\">\n",
       "  <thead>\n",
       "    <tr style=\"text-align: right;\">\n",
       "      <th></th>\n",
       "      <th>Source</th>\n",
       "      <th>Target</th>\n",
       "      <th>common_users</th>\n",
       "      <th>is_connected</th>\n",
       "      <th>Weight</th>\n",
       "    </tr>\n",
       "  </thead>\n",
       "  <tbody>\n",
       "    <tr>\n",
       "      <th>0</th>\n",
       "      <td>oozie</td>\n",
       "      <td>PTVS</td>\n",
       "      <td>[3054232, 5772169, 1673081, 5877145]</td>\n",
       "      <td>True</td>\n",
       "      <td>3.583519</td>\n",
       "    </tr>\n",
       "    <tr>\n",
       "      <th>1</th>\n",
       "      <td>mysql-server</td>\n",
       "      <td>kobold</td>\n",
       "      <td>[2882, 48936, 54254, 10000, 227057, 2041398]</td>\n",
       "      <td>True</td>\n",
       "      <td>3.784190</td>\n",
       "    </tr>\n",
       "    <tr>\n",
       "      <th>2</th>\n",
       "      <td>flux</td>\n",
       "      <td>rake</td>\n",
       "      <td>[5161474, 6025220, 322054, 4685837, 9990676, 5...</td>\n",
       "      <td>True</td>\n",
       "      <td>7.080026</td>\n",
       "    </tr>\n",
       "    <tr>\n",
       "      <th>3</th>\n",
       "      <td>material-design-icons</td>\n",
       "      <td>WebFundamentals</td>\n",
       "      <td>[8880128, 393220, 1572872, 1097738, 5472278, 5...</td>\n",
       "      <td>True</td>\n",
       "      <td>9.683215</td>\n",
       "    </tr>\n",
       "    <tr>\n",
       "      <th>4</th>\n",
       "      <td>jstorm</td>\n",
       "      <td>cdk</td>\n",
       "      <td>[650753, 3584226, 2773827, 2123078, 693320, 54...</td>\n",
       "      <td>True</td>\n",
       "      <td>4.634729</td>\n",
       "    </tr>\n",
       "  </tbody>\n",
       "</table>\n",
       "</div>"
      ],
      "text/plain": [
       "                  Source           Target  \\\n",
       "0                  oozie             PTVS   \n",
       "1           mysql-server           kobold   \n",
       "2                   flux             rake   \n",
       "3  material-design-icons  WebFundamentals   \n",
       "4                 jstorm              cdk   \n",
       "\n",
       "                                        common_users is_connected    Weight  \n",
       "0               [3054232, 5772169, 1673081, 5877145]         True  3.583519  \n",
       "1       [2882, 48936, 54254, 10000, 227057, 2041398]         True  3.784190  \n",
       "2  [5161474, 6025220, 322054, 4685837, 9990676, 5...         True  7.080026  \n",
       "3  [8880128, 393220, 1572872, 1097738, 5472278, 5...         True  9.683215  \n",
       "4  [650753, 3584226, 2773827, 2123078, 693320, 54...         True  4.634729  "
      ]
     },
     "execution_count": 10,
     "metadata": {},
     "output_type": "execute_result"
    }
   ],
   "source": [
    "repo_repo_users.head()"
   ]
  },
  {
   "cell_type": "code",
   "execution_count": 11,
   "metadata": {
    "collapsed": true
   },
   "outputs": [],
   "source": [
    "repo_repo_users[['Source', 'Target', 'Weight']].to_csv('./data/repo_repo_counts.csv', index=False)"
   ]
  }
 ],
 "metadata": {
  "kernelspec": {
   "display_name": "Python 2",
   "language": "python",
   "name": "python2"
  },
  "language_info": {
   "codemirror_mode": {
    "name": "ipython",
    "version": 2
   },
   "file_extension": ".py",
   "mimetype": "text/x-python",
   "name": "python",
   "nbconvert_exporter": "python",
   "pygments_lexer": "ipython2",
   "version": "2.7.10"
  },
  "widgets": {
   "state": {},
   "version": "1.1.2"
  }
 },
 "nbformat": 4,
 "nbformat_minor": 0
}
