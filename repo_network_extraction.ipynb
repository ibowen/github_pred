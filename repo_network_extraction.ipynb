{
 "cells": [
  {
   "cell_type": "code",
   "execution_count": 1,
   "metadata": {
    "collapsed": true
   },
   "outputs": [],
   "source": [
    "import numpy as np\n",
    "import pandas as pd\n",
    "import json"
   ]
  },
  {
   "cell_type": "code",
   "execution_count": 113,
   "metadata": {
    "collapsed": true
   },
   "outputs": [],
   "source": [
    "starrings = pd.read_csv('./data/starrings_full.csv')"
   ]
  },
  {
   "cell_type": "code",
   "execution_count": 114,
   "metadata": {
    "collapsed": false,
    "scrolled": true
   },
   "outputs": [
    {
     "data": {
      "text/html": [
       "<div>\n",
       "<table border=\"1\" class=\"dataframe\">\n",
       "  <thead>\n",
       "    <tr style=\"text-align: right;\">\n",
       "      <th></th>\n",
       "      <th>owner</th>\n",
       "      <th>repo</th>\n",
       "      <th>starred_at</th>\n",
       "      <th>user.login</th>\n",
       "      <th>user.site_admin</th>\n",
       "      <th>user.type</th>\n",
       "      <th>user.id</th>\n",
       "    </tr>\n",
       "  </thead>\n",
       "  <tbody>\n",
       "    <tr>\n",
       "      <th>0</th>\n",
       "      <td>npm</td>\n",
       "      <td>marky-markdown</td>\n",
       "      <td>2014-12-19T22:20:50Z</td>\n",
       "      <td>ceejbot</td>\n",
       "      <td>False</td>\n",
       "      <td>User</td>\n",
       "      <td>757502</td>\n",
       "    </tr>\n",
       "    <tr>\n",
       "      <th>1</th>\n",
       "      <td>npm</td>\n",
       "      <td>marky-markdown</td>\n",
       "      <td>2015-01-06T09:12:49Z</td>\n",
       "      <td>sorrycc</td>\n",
       "      <td>False</td>\n",
       "      <td>User</td>\n",
       "      <td>35128</td>\n",
       "    </tr>\n",
       "    <tr>\n",
       "      <th>2</th>\n",
       "      <td>npm</td>\n",
       "      <td>marky-markdown</td>\n",
       "      <td>2015-01-14T18:56:14Z</td>\n",
       "      <td>bcoe</td>\n",
       "      <td>False</td>\n",
       "      <td>User</td>\n",
       "      <td>194609</td>\n",
       "    </tr>\n",
       "    <tr>\n",
       "      <th>3</th>\n",
       "      <td>npm</td>\n",
       "      <td>marky-markdown</td>\n",
       "      <td>2015-01-26T21:30:28Z</td>\n",
       "      <td>pose</td>\n",
       "      <td>False</td>\n",
       "      <td>User</td>\n",
       "      <td>419703</td>\n",
       "    </tr>\n",
       "    <tr>\n",
       "      <th>4</th>\n",
       "      <td>npm</td>\n",
       "      <td>marky-markdown</td>\n",
       "      <td>2015-01-29T16:43:08Z</td>\n",
       "      <td>mattallty</td>\n",
       "      <td>False</td>\n",
       "      <td>User</td>\n",
       "      <td>178616</td>\n",
       "    </tr>\n",
       "  </tbody>\n",
       "</table>\n",
       "</div>"
      ],
      "text/plain": [
       "  owner            repo            starred_at user.login user.site_admin  \\\n",
       "0   npm  marky-markdown  2014-12-19T22:20:50Z    ceejbot           False   \n",
       "1   npm  marky-markdown  2015-01-06T09:12:49Z    sorrycc           False   \n",
       "2   npm  marky-markdown  2015-01-14T18:56:14Z       bcoe           False   \n",
       "3   npm  marky-markdown  2015-01-26T21:30:28Z       pose           False   \n",
       "4   npm  marky-markdown  2015-01-29T16:43:08Z  mattallty           False   \n",
       "\n",
       "  user.type  user.id  \n",
       "0      User   757502  \n",
       "1      User    35128  \n",
       "2      User   194609  \n",
       "3      User   419703  \n",
       "4      User   178616  "
      ]
     },
     "execution_count": 114,
     "metadata": {},
     "output_type": "execute_result"
    }
   ],
   "source": [
    "starrings.head()"
   ]
  },
  {
   "cell_type": "code",
   "execution_count": 115,
   "metadata": {
    "collapsed": false
   },
   "outputs": [
    {
     "data": {
      "text/plain": [
       "708"
      ]
     },
     "execution_count": 115,
     "metadata": {},
     "output_type": "execute_result"
    }
   ],
   "source": [
    "len(starrings['repo'].unique())"
   ]
  },
  {
   "cell_type": "code",
   "execution_count": 69,
   "metadata": {
    "collapsed": false
   },
   "outputs": [
    {
     "data": {
      "text/plain": [
       "(1829731, 7)"
      ]
     },
     "execution_count": 69,
     "metadata": {},
     "output_type": "execute_result"
    }
   ],
   "source": [
    "starrings.shape"
   ]
  },
  {
   "cell_type": "code",
   "execution_count": 70,
   "metadata": {
    "collapsed": true
   },
   "outputs": [],
   "source": [
    "orgs = pd.read_csv('./data/repos-with-homepage.csv')"
   ]
  },
  {
   "cell_type": "code",
   "execution_count": 71,
   "metadata": {
    "collapsed": false
   },
   "outputs": [],
   "source": [
    "orgs = orgs[['repo_id', 'full_name']].drop_duplicates()"
   ]
  },
  {
   "cell_type": "code",
   "execution_count": 103,
   "metadata": {
    "collapsed": false
   },
   "outputs": [
    {
     "data": {
      "text/html": [
       "<div>\n",
       "<table border=\"1\" class=\"dataframe\">\n",
       "  <thead>\n",
       "    <tr style=\"text-align: right;\">\n",
       "      <th></th>\n",
       "      <th>repo_id</th>\n",
       "      <th>full_name</th>\n",
       "    </tr>\n",
       "  </thead>\n",
       "  <tbody>\n",
       "    <tr>\n",
       "      <th>0</th>\n",
       "      <td>196334</td>\n",
       "      <td>google/upb</td>\n",
       "    </tr>\n",
       "    <tr>\n",
       "      <th>1</th>\n",
       "      <td>1936771</td>\n",
       "      <td>google/truth</td>\n",
       "    </tr>\n",
       "    <tr>\n",
       "      <th>2</th>\n",
       "      <td>3248529</td>\n",
       "      <td>google/signet</td>\n",
       "    </tr>\n",
       "    <tr>\n",
       "      <th>3</th>\n",
       "      <td>3248531</td>\n",
       "      <td>google/autoparse</td>\n",
       "    </tr>\n",
       "    <tr>\n",
       "      <th>4</th>\n",
       "      <td>3277842</td>\n",
       "      <td>google/google-api-ruby-client</td>\n",
       "    </tr>\n",
       "  </tbody>\n",
       "</table>\n",
       "</div>"
      ],
      "text/plain": [
       "   repo_id                      full_name\n",
       "0   196334                     google/upb\n",
       "1  1936771                   google/truth\n",
       "2  3248529                  google/signet\n",
       "3  3248531               google/autoparse\n",
       "4  3277842  google/google-api-ruby-client"
      ]
     },
     "execution_count": 103,
     "metadata": {},
     "output_type": "execute_result"
    }
   ],
   "source": [
    "orgs.head()"
   ]
  },
  {
   "cell_type": "code",
   "execution_count": 72,
   "metadata": {
    "collapsed": false
   },
   "outputs": [
    {
     "data": {
      "text/plain": [
       "709"
      ]
     },
     "execution_count": 72,
     "metadata": {},
     "output_type": "execute_result"
    }
   ],
   "source": [
    "len(orgs)"
   ]
  },
  {
   "cell_type": "code",
   "execution_count": 73,
   "metadata": {
    "collapsed": false
   },
   "outputs": [
    {
     "data": {
      "text/html": [
       "<div>\n",
       "<table border=\"1\" class=\"dataframe\">\n",
       "  <thead>\n",
       "    <tr style=\"text-align: right;\">\n",
       "      <th></th>\n",
       "      <th>repo_id</th>\n",
       "      <th>full_name</th>\n",
       "    </tr>\n",
       "  </thead>\n",
       "  <tbody>\n",
       "    <tr>\n",
       "      <th>0</th>\n",
       "      <td>196334</td>\n",
       "      <td>google/upb</td>\n",
       "    </tr>\n",
       "    <tr>\n",
       "      <th>1</th>\n",
       "      <td>1936771</td>\n",
       "      <td>google/truth</td>\n",
       "    </tr>\n",
       "    <tr>\n",
       "      <th>2</th>\n",
       "      <td>3248529</td>\n",
       "      <td>google/signet</td>\n",
       "    </tr>\n",
       "    <tr>\n",
       "      <th>3</th>\n",
       "      <td>3248531</td>\n",
       "      <td>google/autoparse</td>\n",
       "    </tr>\n",
       "    <tr>\n",
       "      <th>4</th>\n",
       "      <td>3277842</td>\n",
       "      <td>google/google-api-ruby-client</td>\n",
       "    </tr>\n",
       "  </tbody>\n",
       "</table>\n",
       "</div>"
      ],
      "text/plain": [
       "   repo_id                      full_name\n",
       "0   196334                     google/upb\n",
       "1  1936771                   google/truth\n",
       "2  3248529                  google/signet\n",
       "3  3248531               google/autoparse\n",
       "4  3277842  google/google-api-ruby-client"
      ]
     },
     "execution_count": 73,
     "metadata": {},
     "output_type": "execute_result"
    }
   ],
   "source": [
    "orgs.head()"
   ]
  },
  {
   "cell_type": "code",
   "execution_count": 95,
   "metadata": {
    "collapsed": false
   },
   "outputs": [],
   "source": [
    "starrings['full_name'] = starrings['owner'].apply(lambda x : x.lower()) + '/' + starrings['repo'].apply(lambda x : x.lower())"
   ]
  },
  {
   "cell_type": "code",
   "execution_count": 96,
   "metadata": {
    "collapsed": false
   },
   "outputs": [
    {
     "data": {
      "text/html": [
       "<div>\n",
       "<table border=\"1\" class=\"dataframe\">\n",
       "  <thead>\n",
       "    <tr style=\"text-align: right;\">\n",
       "      <th></th>\n",
       "      <th>owner</th>\n",
       "      <th>repo</th>\n",
       "      <th>starred_at</th>\n",
       "      <th>user.login</th>\n",
       "      <th>user.site_admin</th>\n",
       "      <th>user.type</th>\n",
       "      <th>user.id</th>\n",
       "      <th>full_name</th>\n",
       "    </tr>\n",
       "  </thead>\n",
       "  <tbody>\n",
       "    <tr>\n",
       "      <th>0</th>\n",
       "      <td>npm</td>\n",
       "      <td>marky-markdown</td>\n",
       "      <td>2014-12-19T22:20:50Z</td>\n",
       "      <td>ceejbot</td>\n",
       "      <td>False</td>\n",
       "      <td>User</td>\n",
       "      <td>757502</td>\n",
       "      <td>npm/marky-markdown</td>\n",
       "    </tr>\n",
       "    <tr>\n",
       "      <th>1</th>\n",
       "      <td>npm</td>\n",
       "      <td>marky-markdown</td>\n",
       "      <td>2015-01-06T09:12:49Z</td>\n",
       "      <td>sorrycc</td>\n",
       "      <td>False</td>\n",
       "      <td>User</td>\n",
       "      <td>35128</td>\n",
       "      <td>npm/marky-markdown</td>\n",
       "    </tr>\n",
       "    <tr>\n",
       "      <th>2</th>\n",
       "      <td>npm</td>\n",
       "      <td>marky-markdown</td>\n",
       "      <td>2015-01-14T18:56:14Z</td>\n",
       "      <td>bcoe</td>\n",
       "      <td>False</td>\n",
       "      <td>User</td>\n",
       "      <td>194609</td>\n",
       "      <td>npm/marky-markdown</td>\n",
       "    </tr>\n",
       "    <tr>\n",
       "      <th>3</th>\n",
       "      <td>npm</td>\n",
       "      <td>marky-markdown</td>\n",
       "      <td>2015-01-26T21:30:28Z</td>\n",
       "      <td>pose</td>\n",
       "      <td>False</td>\n",
       "      <td>User</td>\n",
       "      <td>419703</td>\n",
       "      <td>npm/marky-markdown</td>\n",
       "    </tr>\n",
       "    <tr>\n",
       "      <th>4</th>\n",
       "      <td>npm</td>\n",
       "      <td>marky-markdown</td>\n",
       "      <td>2015-01-29T16:43:08Z</td>\n",
       "      <td>mattallty</td>\n",
       "      <td>False</td>\n",
       "      <td>User</td>\n",
       "      <td>178616</td>\n",
       "      <td>npm/marky-markdown</td>\n",
       "    </tr>\n",
       "  </tbody>\n",
       "</table>\n",
       "</div>"
      ],
      "text/plain": [
       "  owner            repo            starred_at user.login user.site_admin  \\\n",
       "0   npm  marky-markdown  2014-12-19T22:20:50Z    ceejbot           False   \n",
       "1   npm  marky-markdown  2015-01-06T09:12:49Z    sorrycc           False   \n",
       "2   npm  marky-markdown  2015-01-14T18:56:14Z       bcoe           False   \n",
       "3   npm  marky-markdown  2015-01-26T21:30:28Z       pose           False   \n",
       "4   npm  marky-markdown  2015-01-29T16:43:08Z  mattallty           False   \n",
       "\n",
       "  user.type  user.id           full_name  \n",
       "0      User   757502  npm/marky-markdown  \n",
       "1      User    35128  npm/marky-markdown  \n",
       "2      User   194609  npm/marky-markdown  \n",
       "3      User   419703  npm/marky-markdown  \n",
       "4      User   178616  npm/marky-markdown  "
      ]
     },
     "execution_count": 96,
     "metadata": {},
     "output_type": "execute_result"
    }
   ],
   "source": [
    "starrings.head()"
   ]
  },
  {
   "cell_type": "code",
   "execution_count": 97,
   "metadata": {
    "collapsed": false
   },
   "outputs": [
    {
     "data": {
      "text/plain": [
       "709"
      ]
     },
     "execution_count": 97,
     "metadata": {},
     "output_type": "execute_result"
    }
   ],
   "source": [
    "len(starrings['full_name'].unique())"
   ]
  },
  {
   "cell_type": "code",
   "execution_count": 98,
   "metadata": {
    "collapsed": true
   },
   "outputs": [],
   "source": [
    "orgs['full_name'] = orgs['full_name'].apply(lambda x : x.lower())"
   ]
  },
  {
   "cell_type": "code",
   "execution_count": 99,
   "metadata": {
    "collapsed": false
   },
   "outputs": [],
   "source": [
    "orgs_map = dict(zip(orgs['full_name'], orgs['repo_id']))"
   ]
  },
  {
   "cell_type": "code",
   "execution_count": 101,
   "metadata": {
    "collapsed": false
   },
   "outputs": [],
   "source": [
    "starrings['repo_id'] = starrings['full_name'].apply(lambda x : orgs_map[x])"
   ]
  },
  {
   "cell_type": "code",
   "execution_count": 102,
   "metadata": {
    "collapsed": false
   },
   "outputs": [
    {
     "data": {
      "text/html": [
       "<div>\n",
       "<table border=\"1\" class=\"dataframe\">\n",
       "  <thead>\n",
       "    <tr style=\"text-align: right;\">\n",
       "      <th></th>\n",
       "      <th>owner</th>\n",
       "      <th>repo</th>\n",
       "      <th>starred_at</th>\n",
       "      <th>user.login</th>\n",
       "      <th>user.site_admin</th>\n",
       "      <th>user.type</th>\n",
       "      <th>user.id</th>\n",
       "      <th>full_name</th>\n",
       "      <th>repo_id</th>\n",
       "    </tr>\n",
       "  </thead>\n",
       "  <tbody>\n",
       "    <tr>\n",
       "      <th>0</th>\n",
       "      <td>npm</td>\n",
       "      <td>marky-markdown</td>\n",
       "      <td>2014-12-19T22:20:50Z</td>\n",
       "      <td>ceejbot</td>\n",
       "      <td>False</td>\n",
       "      <td>User</td>\n",
       "      <td>757502</td>\n",
       "      <td>npm/marky-markdown</td>\n",
       "      <td>27984586</td>\n",
       "    </tr>\n",
       "    <tr>\n",
       "      <th>1</th>\n",
       "      <td>npm</td>\n",
       "      <td>marky-markdown</td>\n",
       "      <td>2015-01-06T09:12:49Z</td>\n",
       "      <td>sorrycc</td>\n",
       "      <td>False</td>\n",
       "      <td>User</td>\n",
       "      <td>35128</td>\n",
       "      <td>npm/marky-markdown</td>\n",
       "      <td>27984586</td>\n",
       "    </tr>\n",
       "    <tr>\n",
       "      <th>2</th>\n",
       "      <td>npm</td>\n",
       "      <td>marky-markdown</td>\n",
       "      <td>2015-01-14T18:56:14Z</td>\n",
       "      <td>bcoe</td>\n",
       "      <td>False</td>\n",
       "      <td>User</td>\n",
       "      <td>194609</td>\n",
       "      <td>npm/marky-markdown</td>\n",
       "      <td>27984586</td>\n",
       "    </tr>\n",
       "    <tr>\n",
       "      <th>3</th>\n",
       "      <td>npm</td>\n",
       "      <td>marky-markdown</td>\n",
       "      <td>2015-01-26T21:30:28Z</td>\n",
       "      <td>pose</td>\n",
       "      <td>False</td>\n",
       "      <td>User</td>\n",
       "      <td>419703</td>\n",
       "      <td>npm/marky-markdown</td>\n",
       "      <td>27984586</td>\n",
       "    </tr>\n",
       "    <tr>\n",
       "      <th>4</th>\n",
       "      <td>npm</td>\n",
       "      <td>marky-markdown</td>\n",
       "      <td>2015-01-29T16:43:08Z</td>\n",
       "      <td>mattallty</td>\n",
       "      <td>False</td>\n",
       "      <td>User</td>\n",
       "      <td>178616</td>\n",
       "      <td>npm/marky-markdown</td>\n",
       "      <td>27984586</td>\n",
       "    </tr>\n",
       "  </tbody>\n",
       "</table>\n",
       "</div>"
      ],
      "text/plain": [
       "  owner            repo            starred_at user.login user.site_admin  \\\n",
       "0   npm  marky-markdown  2014-12-19T22:20:50Z    ceejbot           False   \n",
       "1   npm  marky-markdown  2015-01-06T09:12:49Z    sorrycc           False   \n",
       "2   npm  marky-markdown  2015-01-14T18:56:14Z       bcoe           False   \n",
       "3   npm  marky-markdown  2015-01-26T21:30:28Z       pose           False   \n",
       "4   npm  marky-markdown  2015-01-29T16:43:08Z  mattallty           False   \n",
       "\n",
       "  user.type  user.id           full_name   repo_id  \n",
       "0      User   757502  npm/marky-markdown  27984586  \n",
       "1      User    35128  npm/marky-markdown  27984586  \n",
       "2      User   194609  npm/marky-markdown  27984586  \n",
       "3      User   419703  npm/marky-markdown  27984586  \n",
       "4      User   178616  npm/marky-markdown  27984586  "
      ]
     },
     "execution_count": 102,
     "metadata": {},
     "output_type": "execute_result"
    }
   ],
   "source": [
    "starrings.head()"
   ]
  },
  {
   "cell_type": "code",
   "execution_count": 104,
   "metadata": {
    "collapsed": false
   },
   "outputs": [
    {
     "data": {
      "text/html": [
       "<div>\n",
       "<table border=\"1\" class=\"dataframe\">\n",
       "  <thead>\n",
       "    <tr style=\"text-align: right;\">\n",
       "      <th></th>\n",
       "      <th>repo_id</th>\n",
       "      <th>full_name</th>\n",
       "    </tr>\n",
       "  </thead>\n",
       "  <tbody>\n",
       "    <tr>\n",
       "      <th>348</th>\n",
       "      <td>27984586</td>\n",
       "      <td>npm/marky-markdown</td>\n",
       "    </tr>\n",
       "  </tbody>\n",
       "</table>\n",
       "</div>"
      ],
      "text/plain": [
       "      repo_id           full_name\n",
       "348  27984586  npm/marky-markdown"
      ]
     },
     "execution_count": 104,
     "metadata": {},
     "output_type": "execute_result"
    }
   ],
   "source": [
    "orgs[orgs['full_name'] == 'npm/marky-markdown']"
   ]
  },
  {
   "cell_type": "markdown",
   "metadata": {},
   "source": [
    "### {repo: [user.id1, user.id2, ...]}"
   ]
  },
  {
   "cell_type": "code",
   "execution_count": 105,
   "metadata": {
    "collapsed": true
   },
   "outputs": [],
   "source": [
    "repos_users_map = {}"
   ]
  },
  {
   "cell_type": "code",
   "execution_count": 106,
   "metadata": {
    "collapsed": false
   },
   "outputs": [],
   "source": [
    "repos = (starrings['repo_id']).unique().tolist()"
   ]
  },
  {
   "cell_type": "code",
   "execution_count": 107,
   "metadata": {
    "collapsed": false
   },
   "outputs": [
    {
     "data": {
      "text/plain": [
       "709"
      ]
     },
     "execution_count": 107,
     "metadata": {},
     "output_type": "execute_result"
    }
   ],
   "source": [
    "len(repos)"
   ]
  },
  {
   "cell_type": "code",
   "execution_count": 108,
   "metadata": {
    "collapsed": false
   },
   "outputs": [],
   "source": [
    "for repo_id in repos:\n",
    "    repos_users_map[repo_id] = starrings[starrings['repo_id'] == repo_id]['user.id'].unique().tolist()"
   ]
  },
  {
   "cell_type": "code",
   "execution_count": 109,
   "metadata": {
    "collapsed": true
   },
   "outputs": [],
   "source": [
    "with open('./data/repos_users_map.json', 'w') as fp:\n",
    "    json.dump(repos_users_map, fp)"
   ]
  },
  {
   "cell_type": "markdown",
   "metadata": {},
   "source": [
    "### {'repo1_repo2' : [repo1, repo2, [common_users], is_connected]}"
   ]
  },
  {
   "cell_type": "code",
   "execution_count": 110,
   "metadata": {
    "collapsed": true
   },
   "outputs": [],
   "source": [
    "repo_repo_users = {}"
   ]
  },
  {
   "cell_type": "code",
   "execution_count": 112,
   "metadata": {
    "collapsed": false
   },
   "outputs": [
    {
     "ename": "KeyboardInterrupt",
     "evalue": "",
     "output_type": "error",
     "traceback": [
      "\u001b[0;31m---------------------------------------------------------------------------\u001b[0m",
      "\u001b[0;31mKeyboardInterrupt\u001b[0m                         Traceback (most recent call last)",
      "\u001b[0;32m<ipython-input-112-7e6393ede423>\u001b[0m in \u001b[0;36m<module>\u001b[0;34m()\u001b[0m\n\u001b[1;32m      6\u001b[0m         \u001b[0;32mif\u001b[0m \u001b[0mkey\u001b[0m \u001b[0;32min\u001b[0m \u001b[0mrepo_repo_users\u001b[0m\u001b[0;34m.\u001b[0m\u001b[0mkeys\u001b[0m\u001b[0;34m(\u001b[0m\u001b[0;34m)\u001b[0m\u001b[0;34m:\u001b[0m\u001b[0;34m\u001b[0m\u001b[0m\n\u001b[1;32m      7\u001b[0m             \u001b[0;32mcontinue\u001b[0m\u001b[0;34m\u001b[0m\u001b[0m\n\u001b[0;32m----> 8\u001b[0;31m         \u001b[0mcommon_users\u001b[0m \u001b[0;34m=\u001b[0m \u001b[0mlist\u001b[0m\u001b[0;34m(\u001b[0m\u001b[0mset\u001b[0m\u001b[0;34m(\u001b[0m\u001b[0mv1\u001b[0m\u001b[0;34m)\u001b[0m \u001b[0;34m&\u001b[0m \u001b[0mset\u001b[0m\u001b[0;34m(\u001b[0m\u001b[0mv2\u001b[0m\u001b[0;34m)\u001b[0m\u001b[0;34m)\u001b[0m\u001b[0;34m\u001b[0m\u001b[0m\n\u001b[0m\u001b[1;32m      9\u001b[0m         \u001b[0mis_connected\u001b[0m \u001b[0;34m=\u001b[0m \u001b[0mlen\u001b[0m\u001b[0;34m(\u001b[0m\u001b[0mcommon_users\u001b[0m\u001b[0;34m)\u001b[0m \u001b[0;34m!=\u001b[0m \u001b[0;36m0\u001b[0m\u001b[0;34m\u001b[0m\u001b[0m\n\u001b[1;32m     10\u001b[0m         \u001b[0mrepo_repo_users\u001b[0m\u001b[0;34m[\u001b[0m\u001b[0mkey\u001b[0m\u001b[0;34m]\u001b[0m \u001b[0;34m=\u001b[0m \u001b[0;34m[\u001b[0m\u001b[0mk1\u001b[0m\u001b[0;34m,\u001b[0m \u001b[0mk2\u001b[0m\u001b[0;34m,\u001b[0m \u001b[0mcommon_users\u001b[0m\u001b[0;34m,\u001b[0m \u001b[0mis_connected\u001b[0m\u001b[0;34m]\u001b[0m\u001b[0;34m\u001b[0m\u001b[0m\n",
      "\u001b[0;31mKeyboardInterrupt\u001b[0m: "
     ]
    }
   ],
   "source": [
    "for k1, v1 in repos_users_map.iteritems():\n",
    "    for k2, v2 in repos_users_map.iteritems():\n",
    "        if k1 == k2:\n",
    "            continue\n",
    "        key = '_'.join(map(str, sorted([k1, k2])))\n",
    "        if key in repo_repo_users.keys():\n",
    "            continue\n",
    "        common_users = list(set(v1) & set(v2))\n",
    "        is_connected = len(common_users) != 0\n",
    "        repo_repo_users[key] = [k1, k2, common_users, is_connected]"
   ]
  },
  {
   "cell_type": "code",
   "execution_count": 30,
   "metadata": {
    "collapsed": false
   },
   "outputs": [
    {
     "data": {
      "text/plain": [
       "247456"
      ]
     },
     "execution_count": 30,
     "metadata": {},
     "output_type": "execute_result"
    }
   ],
   "source": [
    "len(repo_repo_users.keys()) # total 250986"
   ]
  },
  {
   "cell_type": "markdown",
   "metadata": {},
   "source": [
    "### [repo1, repo2, [common_users], is_connected]"
   ]
  },
  {
   "cell_type": "code",
   "execution_count": 31,
   "metadata": {
    "collapsed": true
   },
   "outputs": [],
   "source": [
    "import csv\n",
    "with open(\"./data/repo_repo_users.csv\", \"wb\") as f:\n",
    "    writer = csv.writer(f)\n",
    "    writer.writerows(repo_repo_users.values())"
   ]
  },
  {
   "cell_type": "code",
   "execution_count": 32,
   "metadata": {
    "collapsed": false
   },
   "outputs": [
    {
     "data": {
      "text/plain": [
       "[['oozie', 'PTVS', [3054232, 5772169, 1673081, 5877145], True],\n",
       " ['mysql-server',\n",
       "  'kobold',\n",
       "  [2882, 48936, 54254, 10000, 227057, 2041398],\n",
       "  True]]"
      ]
     },
     "execution_count": 32,
     "metadata": {},
     "output_type": "execute_result"
    }
   ],
   "source": [
    "repo_repo_users.values()[0:2]"
   ]
  }
 ],
 "metadata": {
  "kernelspec": {
   "display_name": "Python 2",
   "language": "python",
   "name": "python2"
  },
  "language_info": {
   "codemirror_mode": {
    "name": "ipython",
    "version": 2
   },
   "file_extension": ".py",
   "mimetype": "text/x-python",
   "name": "python",
   "nbconvert_exporter": "python",
   "pygments_lexer": "ipython2",
   "version": "2.7.10"
  },
  "widgets": {
   "state": {},
   "version": "1.1.2"
  }
 },
 "nbformat": 4,
 "nbformat_minor": 0
}
