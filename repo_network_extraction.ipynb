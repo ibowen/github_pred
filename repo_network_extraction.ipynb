{
 "cells": [
  {
   "cell_type": "code",
   "execution_count": 1,
   "metadata": {
    "collapsed": true
   },
   "outputs": [],
   "source": [
    "import numpy as np\n",
    "import pandas as pd\n",
    "import json"
   ]
  },
  {
   "cell_type": "code",
   "execution_count": 2,
   "metadata": {
    "collapsed": true
   },
   "outputs": [],
   "source": [
    "starrings = pd.read_csv('./data/starrings_full.csv')"
   ]
  },
  {
   "cell_type": "code",
   "execution_count": 3,
   "metadata": {
    "collapsed": false,
    "scrolled": true
   },
   "outputs": [
    {
     "data": {
      "text/html": [
       "<div>\n",
       "<table border=\"1\" class=\"dataframe\">\n",
       "  <thead>\n",
       "    <tr style=\"text-align: right;\">\n",
       "      <th></th>\n",
       "      <th>owner</th>\n",
       "      <th>repo</th>\n",
       "      <th>starred_at</th>\n",
       "      <th>user.login</th>\n",
       "      <th>user.site_admin</th>\n",
       "      <th>user.type</th>\n",
       "      <th>user.id</th>\n",
       "    </tr>\n",
       "  </thead>\n",
       "  <tbody>\n",
       "    <tr>\n",
       "      <th>0</th>\n",
       "      <td>npm</td>\n",
       "      <td>marky-markdown</td>\n",
       "      <td>2014-12-19T22:20:50Z</td>\n",
       "      <td>ceejbot</td>\n",
       "      <td>False</td>\n",
       "      <td>User</td>\n",
       "      <td>757502</td>\n",
       "    </tr>\n",
       "    <tr>\n",
       "      <th>1</th>\n",
       "      <td>npm</td>\n",
       "      <td>marky-markdown</td>\n",
       "      <td>2015-01-06T09:12:49Z</td>\n",
       "      <td>sorrycc</td>\n",
       "      <td>False</td>\n",
       "      <td>User</td>\n",
       "      <td>35128</td>\n",
       "    </tr>\n",
       "    <tr>\n",
       "      <th>2</th>\n",
       "      <td>npm</td>\n",
       "      <td>marky-markdown</td>\n",
       "      <td>2015-01-14T18:56:14Z</td>\n",
       "      <td>bcoe</td>\n",
       "      <td>False</td>\n",
       "      <td>User</td>\n",
       "      <td>194609</td>\n",
       "    </tr>\n",
       "    <tr>\n",
       "      <th>3</th>\n",
       "      <td>npm</td>\n",
       "      <td>marky-markdown</td>\n",
       "      <td>2015-01-26T21:30:28Z</td>\n",
       "      <td>pose</td>\n",
       "      <td>False</td>\n",
       "      <td>User</td>\n",
       "      <td>419703</td>\n",
       "    </tr>\n",
       "    <tr>\n",
       "      <th>4</th>\n",
       "      <td>npm</td>\n",
       "      <td>marky-markdown</td>\n",
       "      <td>2015-01-29T16:43:08Z</td>\n",
       "      <td>mattallty</td>\n",
       "      <td>False</td>\n",
       "      <td>User</td>\n",
       "      <td>178616</td>\n",
       "    </tr>\n",
       "  </tbody>\n",
       "</table>\n",
       "</div>"
      ],
      "text/plain": [
       "  owner            repo            starred_at user.login user.site_admin  \\\n",
       "0   npm  marky-markdown  2014-12-19T22:20:50Z    ceejbot           False   \n",
       "1   npm  marky-markdown  2015-01-06T09:12:49Z    sorrycc           False   \n",
       "2   npm  marky-markdown  2015-01-14T18:56:14Z       bcoe           False   \n",
       "3   npm  marky-markdown  2015-01-26T21:30:28Z       pose           False   \n",
       "4   npm  marky-markdown  2015-01-29T16:43:08Z  mattallty           False   \n",
       "\n",
       "  user.type  user.id  \n",
       "0      User   757502  \n",
       "1      User    35128  \n",
       "2      User   194609  \n",
       "3      User   419703  \n",
       "4      User   178616  "
      ]
     },
     "execution_count": 3,
     "metadata": {},
     "output_type": "execute_result"
    }
   ],
   "source": [
    "starrings.head()"
   ]
  },
  {
   "cell_type": "code",
   "execution_count": 4,
   "metadata": {
    "collapsed": false
   },
   "outputs": [
    {
     "data": {
      "text/plain": [
       "(1829731, 7)"
      ]
     },
     "execution_count": 4,
     "metadata": {},
     "output_type": "execute_result"
    }
   ],
   "source": [
    "starrings.shape"
   ]
  },
  {
   "cell_type": "markdown",
   "metadata": {},
   "source": [
    "### {repo: [user.id1, user.id2, ...]}"
   ]
  },
  {
   "cell_type": "code",
   "execution_count": 5,
   "metadata": {
    "collapsed": true
   },
   "outputs": [],
   "source": [
    "repos_users_map = {} "
   ]
  },
  {
   "cell_type": "code",
   "execution_count": 6,
   "metadata": {
    "collapsed": false
   },
   "outputs": [],
   "source": [
    "repos = starrings['repo'].unique().tolist()"
   ]
  },
  {
   "cell_type": "code",
   "execution_count": 7,
   "metadata": {
    "collapsed": false
   },
   "outputs": [
    {
     "data": {
      "text/plain": [
       "704"
      ]
     },
     "execution_count": 7,
     "metadata": {},
     "output_type": "execute_result"
    }
   ],
   "source": [
    "len(repos)"
   ]
  },
  {
   "cell_type": "code",
   "execution_count": 8,
   "metadata": {
    "collapsed": false
   },
   "outputs": [],
   "source": [
    "for repo in repos:\n",
    "    repos_users_map[repo] = starrings[starrings['repo'] == repo]['user.id'].unique().tolist()"
   ]
  },
  {
   "cell_type": "code",
   "execution_count": 24,
   "metadata": {
    "collapsed": true
   },
   "outputs": [],
   "source": [
    "with open('./data/repos_users_map.json', 'w') as fp:\n",
    "    json.dump(repos_users_map, fp)"
   ]
  },
  {
   "cell_type": "markdown",
   "metadata": {},
   "source": [
    "### {'repo1_repo2' : [repo1, repo2, [common_users], is_connected]}"
   ]
  },
  {
   "cell_type": "code",
   "execution_count": 25,
   "metadata": {
    "collapsed": true
   },
   "outputs": [],
   "source": [
    "repo_repo_users = {}"
   ]
  },
  {
   "cell_type": "code",
   "execution_count": 29,
   "metadata": {
    "collapsed": false
   },
   "outputs": [],
   "source": [
    "for k1, v1 in repos_users_map.iteritems():\n",
    "    for k2, v2 in repos_users_map.iteritems():\n",
    "        if k1 == k2:\n",
    "            continue\n",
    "        key = '_'.join(sorted([k1, k2]))\n",
    "        if key in repo_repo_users.keys():\n",
    "            continue\n",
    "        common_users = list(set(v1) & set(v2))\n",
    "        is_connected = len(common_users) != 0\n",
    "        repo_repo_users[key] = [k1, k2, common_users, is_connected]"
   ]
  },
  {
   "cell_type": "code",
   "execution_count": 30,
   "metadata": {
    "collapsed": false
   },
   "outputs": [
    {
     "data": {
      "text/plain": [
       "247456"
      ]
     },
     "execution_count": 30,
     "metadata": {},
     "output_type": "execute_result"
    }
   ],
   "source": [
    "len(repo_repo_users.keys()) # total 247456"
   ]
  },
  {
   "cell_type": "markdown",
   "metadata": {},
   "source": [
    "### [repo1, repo2, [common_users], is_connected]"
   ]
  },
  {
   "cell_type": "code",
   "execution_count": 31,
   "metadata": {
    "collapsed": true
   },
   "outputs": [],
   "source": [
    "import csv\n",
    "with open(\"./data/repo_repo_users.csv\", \"wb\") as f:\n",
    "    writer = csv.writer(f)\n",
    "    writer.writerows(repo_repo_users.values())"
   ]
  },
  {
   "cell_type": "code",
   "execution_count": 32,
   "metadata": {
    "collapsed": false
   },
   "outputs": [
    {
     "data": {
      "text/plain": [
       "[['oozie', 'PTVS', [3054232, 5772169, 1673081, 5877145], True],\n",
       " ['mysql-server',\n",
       "  'kobold',\n",
       "  [2882, 48936, 54254, 10000, 227057, 2041398],\n",
       "  True]]"
      ]
     },
     "execution_count": 32,
     "metadata": {},
     "output_type": "execute_result"
    }
   ],
   "source": [
    "repo_repo_users.values()[0:2]"
   ]
  }
 ],
 "metadata": {
  "kernelspec": {
   "display_name": "Python 2",
   "language": "python",
   "name": "python2"
  },
  "language_info": {
   "codemirror_mode": {
    "name": "ipython",
    "version": 2
   },
   "file_extension": ".py",
   "mimetype": "text/x-python",
   "name": "python",
   "nbconvert_exporter": "python",
   "pygments_lexer": "ipython2",
   "version": "2.7.10"
  },
  "widgets": {
   "state": {},
   "version": "1.1.2"
  }
 },
 "nbformat": 4,
 "nbformat_minor": 0
}
