{
 "cells": [
  {
   "cell_type": "code",
   "execution_count": 2,
   "metadata": {
    "collapsed": true
   },
   "outputs": [],
   "source": [
    "import numpy as np\n",
    "import pandas as pd\n",
    "import json\n",
    "import matplotlib.pyplot as plt\n",
    "%matplotlib inline"
   ]
  },
  {
   "cell_type": "code",
   "execution_count": 2,
   "metadata": {
    "collapsed": true
   },
   "outputs": [],
   "source": [
    "starrings = pd.read_csv('./data/starrings_full.csv')"
   ]
  },
  {
   "cell_type": "code",
   "execution_count": 3,
   "metadata": {
    "collapsed": false,
    "scrolled": true
   },
   "outputs": [
    {
     "data": {
      "text/html": [
       "<div>\n",
       "<table border=\"1\" class=\"dataframe\">\n",
       "  <thead>\n",
       "    <tr style=\"text-align: right;\">\n",
       "      <th></th>\n",
       "      <th>owner</th>\n",
       "      <th>repo</th>\n",
       "      <th>starred_at</th>\n",
       "      <th>user.login</th>\n",
       "      <th>user.site_admin</th>\n",
       "      <th>user.type</th>\n",
       "      <th>user.id</th>\n",
       "    </tr>\n",
       "  </thead>\n",
       "  <tbody>\n",
       "    <tr>\n",
       "      <th>0</th>\n",
       "      <td>npm</td>\n",
       "      <td>marky-markdown</td>\n",
       "      <td>2014-12-19T22:20:50Z</td>\n",
       "      <td>ceejbot</td>\n",
       "      <td>False</td>\n",
       "      <td>User</td>\n",
       "      <td>757502</td>\n",
       "    </tr>\n",
       "    <tr>\n",
       "      <th>1</th>\n",
       "      <td>npm</td>\n",
       "      <td>marky-markdown</td>\n",
       "      <td>2015-01-06T09:12:49Z</td>\n",
       "      <td>sorrycc</td>\n",
       "      <td>False</td>\n",
       "      <td>User</td>\n",
       "      <td>35128</td>\n",
       "    </tr>\n",
       "    <tr>\n",
       "      <th>2</th>\n",
       "      <td>npm</td>\n",
       "      <td>marky-markdown</td>\n",
       "      <td>2015-01-14T18:56:14Z</td>\n",
       "      <td>bcoe</td>\n",
       "      <td>False</td>\n",
       "      <td>User</td>\n",
       "      <td>194609</td>\n",
       "    </tr>\n",
       "    <tr>\n",
       "      <th>3</th>\n",
       "      <td>npm</td>\n",
       "      <td>marky-markdown</td>\n",
       "      <td>2015-01-26T21:30:28Z</td>\n",
       "      <td>pose</td>\n",
       "      <td>False</td>\n",
       "      <td>User</td>\n",
       "      <td>419703</td>\n",
       "    </tr>\n",
       "    <tr>\n",
       "      <th>4</th>\n",
       "      <td>npm</td>\n",
       "      <td>marky-markdown</td>\n",
       "      <td>2015-01-29T16:43:08Z</td>\n",
       "      <td>mattallty</td>\n",
       "      <td>False</td>\n",
       "      <td>User</td>\n",
       "      <td>178616</td>\n",
       "    </tr>\n",
       "  </tbody>\n",
       "</table>\n",
       "</div>"
      ],
      "text/plain": [
       "  owner            repo            starred_at user.login user.site_admin  \\\n",
       "0   npm  marky-markdown  2014-12-19T22:20:50Z    ceejbot           False   \n",
       "1   npm  marky-markdown  2015-01-06T09:12:49Z    sorrycc           False   \n",
       "2   npm  marky-markdown  2015-01-14T18:56:14Z       bcoe           False   \n",
       "3   npm  marky-markdown  2015-01-26T21:30:28Z       pose           False   \n",
       "4   npm  marky-markdown  2015-01-29T16:43:08Z  mattallty           False   \n",
       "\n",
       "  user.type  user.id  \n",
       "0      User   757502  \n",
       "1      User    35128  \n",
       "2      User   194609  \n",
       "3      User   419703  \n",
       "4      User   178616  "
      ]
     },
     "execution_count": 3,
     "metadata": {},
     "output_type": "execute_result"
    }
   ],
   "source": [
    "starrings.head()"
   ]
  },
  {
   "cell_type": "code",
   "execution_count": 4,
   "metadata": {
    "collapsed": false
   },
   "outputs": [
    {
     "data": {
      "text/plain": [
       "(1829731, 7)"
      ]
     },
     "execution_count": 4,
     "metadata": {},
     "output_type": "execute_result"
    }
   ],
   "source": [
    "starrings.shape"
   ]
  },
  {
   "cell_type": "markdown",
   "metadata": {},
   "source": [
    "### {repo: [user.id1, user.id2, ...]}"
   ]
  },
  {
   "cell_type": "code",
   "execution_count": 5,
   "metadata": {
    "collapsed": true
   },
   "outputs": [],
   "source": [
    "repos_users_map = {} "
   ]
  },
  {
   "cell_type": "code",
   "execution_count": 6,
   "metadata": {
    "collapsed": false
   },
   "outputs": [],
   "source": [
    "repos = starrings['repo'].unique().tolist()"
   ]
  },
  {
   "cell_type": "code",
   "execution_count": 7,
   "metadata": {
    "collapsed": false
   },
   "outputs": [
    {
     "data": {
      "text/plain": [
       "704"
      ]
     },
     "execution_count": 7,
     "metadata": {},
     "output_type": "execute_result"
    }
   ],
   "source": [
    "len(repos)"
   ]
  },
  {
   "cell_type": "code",
   "execution_count": 8,
   "metadata": {
    "collapsed": false
   },
   "outputs": [],
   "source": [
    "for repo in repos:\n",
    "    repos_users_map[repo] = starrings[starrings['repo'] == repo]['user.id'].unique().tolist()"
   ]
  },
  {
   "cell_type": "code",
   "execution_count": 24,
   "metadata": {
    "collapsed": true
   },
   "outputs": [],
   "source": [
    "with open('./data/repos_users_map.json', 'w') as fp:\n",
    "    json.dump(repos_users_map, fp)"
   ]
  },
  {
   "cell_type": "markdown",
   "metadata": {},
   "source": [
    "### {'repo1_repo2' : [repo1, repo2, [common_users], is_connected]}"
   ]
  },
  {
   "cell_type": "code",
   "execution_count": 25,
   "metadata": {
    "collapsed": true
   },
   "outputs": [],
   "source": [
    "repo_repo_users = {}"
   ]
  },
  {
   "cell_type": "code",
   "execution_count": 29,
   "metadata": {
    "collapsed": false
   },
   "outputs": [],
   "source": [
    "for k1, v1 in repos_users_map.iteritems():\n",
    "    for k2, v2 in repos_users_map.iteritems():\n",
    "        if k1 == k2:\n",
    "            continue\n",
    "        key = '_'.join(sorted([k1, k2]))\n",
    "        if key in repo_repo_users.keys():\n",
    "            continue\n",
    "        common_users = list(set(v1) & set(v2))\n",
    "        is_connected = len(common_users) != 0\n",
    "        repo_repo_users[key] = [k1, k2, common_users, is_connected]"
   ]
  },
  {
   "cell_type": "code",
   "execution_count": 30,
   "metadata": {
    "collapsed": false
   },
   "outputs": [
    {
     "data": {
      "text/plain": [
       "247456"
      ]
     },
     "execution_count": 30,
     "metadata": {},
     "output_type": "execute_result"
    }
   ],
   "source": [
    "len(repo_repo_users.keys()) # total 247456"
   ]
  },
  {
   "cell_type": "markdown",
   "metadata": {},
   "source": [
    "### [repo1, repo2, [common_users], is_connected]"
   ]
  },
  {
   "cell_type": "code",
   "execution_count": 31,
   "metadata": {
    "collapsed": true
   },
   "outputs": [],
   "source": [
    "import csv\n",
    "with open(\"./data/repo_repo_users.csv\", \"wb\") as f:\n",
    "    writer = csv.writer(f)\n",
    "    writer.writerows(repo_repo_users.values())"
   ]
  },
  {
   "cell_type": "code",
   "execution_count": 32,
   "metadata": {
    "collapsed": false
   },
   "outputs": [
    {
     "data": {
      "text/plain": [
       "[['oozie', 'PTVS', [3054232, 5772169, 1673081, 5877145], True],\n",
       " ['mysql-server',\n",
       "  'kobold',\n",
       "  [2882, 48936, 54254, 10000, 227057, 2041398],\n",
       "  True]]"
      ]
     },
     "execution_count": 32,
     "metadata": {},
     "output_type": "execute_result"
    }
   ],
   "source": [
    "repo_repo_users.values()[0:2]"
   ]
  },
  {
   "cell_type": "code",
   "execution_count": 3,
   "metadata": {
    "collapsed": false
   },
   "outputs": [],
   "source": [
    "repo_repo_users = pd.read_csv('./data/repo_repo_users.csv', header=None)"
   ]
  },
  {
   "cell_type": "code",
   "execution_count": 4,
   "metadata": {
    "collapsed": false
   },
   "outputs": [],
   "source": [
    "repo_repo_users.columns = ['Source', 'Target', 'common_users', 'is_connected']"
   ]
  },
  {
   "cell_type": "code",
   "execution_count": 5,
   "metadata": {
    "collapsed": true
   },
   "outputs": [],
   "source": [
    "repo_repo_users['Weight'] = repo_repo_users['common_users'].apply(lambda x : len(x))"
   ]
  },
  {
   "cell_type": "code",
   "execution_count": 8,
   "metadata": {
    "collapsed": false
   },
   "outputs": [
    {
     "data": {
      "text/plain": [
       "<matplotlib.axes._subplots.AxesSubplot at 0x10578cd90>"
      ]
     },
     "execution_count": 8,
     "metadata": {},
     "output_type": "execute_result"
    },
    {
     "data": {
      "image/png": "[encoded data removed]",
      "text/plain": [
       "<matplotlib.figure.Figure at 0x10578cc90>"
      ]
     },
     "metadata": {},
     "output_type": "display_data"
    }
   ],
   "source": [
    "np.log(repo_repo_users['Weight']).hist()"
   ]
  },
  {
   "cell_type": "code",
   "execution_count": 9,
   "metadata": {
    "collapsed": true
   },
   "outputs": [],
   "source": [
    "repo_repo_users['Weight'] = repo_repo_users['Weight'].apply(lambda x : np.log(x))"
   ]
  },
  {
   "cell_type": "code",
   "execution_count": 10,
   "metadata": {
    "collapsed": false
   },
   "outputs": [
    {
     "data": {
      "text/html": [
       "<div>\n",
       "<table border=\"1\" class=\"dataframe\">\n",
       "  <thead>\n",
       "    <tr style=\"text-align: right;\">\n",
       "      <th></th>\n",
       "      <th>Source</th>\n",
       "      <th>Target</th>\n",
       "      <th>common_users</th>\n",
       "      <th>is_connected</th>\n",
       "      <th>Weight</th>\n",
       "    </tr>\n",
       "  </thead>\n",
       "  <tbody>\n",
       "    <tr>\n",
       "      <th>0</th>\n",
       "      <td>oozie</td>\n",
       "      <td>PTVS</td>\n",
       "      <td>[3054232, 5772169, 1673081, 5877145]</td>\n",
       "      <td>True</td>\n",
       "      <td>3.583519</td>\n",
       "    </tr>\n",
       "    <tr>\n",
       "      <th>1</th>\n",
       "      <td>mysql-server</td>\n",
       "      <td>kobold</td>\n",
       "      <td>[2882, 48936, 54254, 10000, 227057, 2041398]</td>\n",
       "      <td>True</td>\n",
       "      <td>3.784190</td>\n",
       "    </tr>\n",
       "    <tr>\n",
       "      <th>2</th>\n",
       "      <td>flux</td>\n",
       "      <td>rake</td>\n",
       "      <td>[5161474, 6025220, 322054, 4685837, 9990676, 5...</td>\n",
       "      <td>True</td>\n",
       "      <td>7.080026</td>\n",
       "    </tr>\n",
       "    <tr>\n",
       "      <th>3</th>\n",
       "      <td>material-design-icons</td>\n",
       "      <td>WebFundamentals</td>\n",
       "      <td>[8880128, 393220, 1572872, 1097738, 5472278, 5...</td>\n",
       "      <td>True</td>\n",
       "      <td>9.683215</td>\n",
       "    </tr>\n",
       "    <tr>\n",
       "      <th>4</th>\n",
       "      <td>jstorm</td>\n",
       "      <td>cdk</td>\n",
       "      <td>[650753, 3584226, 2773827, 2123078, 693320, 54...</td>\n",
       "      <td>True</td>\n",
       "      <td>4.634729</td>\n",
       "    </tr>\n",
       "  </tbody>\n",
       "</table>\n",
       "</div>"
      ],
      "text/plain": [
       "                  Source           Target  \\\n",
       "0                  oozie             PTVS   \n",
       "1           mysql-server           kobold   \n",
       "2                   flux             rake   \n",
       "3  material-design-icons  WebFundamentals   \n",
       "4                 jstorm              cdk   \n",
       "\n",
       "                                        common_users is_connected    Weight  \n",
       "0               [3054232, 5772169, 1673081, 5877145]         True  3.583519  \n",
       "1       [2882, 48936, 54254, 10000, 227057, 2041398]         True  3.784190  \n",
       "2  [5161474, 6025220, 322054, 4685837, 9990676, 5...         True  7.080026  \n",
       "3  [8880128, 393220, 1572872, 1097738, 5472278, 5...         True  9.683215  \n",
       "4  [650753, 3584226, 2773827, 2123078, 693320, 54...         True  4.634729  "
      ]
     },
     "execution_count": 10,
     "metadata": {},
     "output_type": "execute_result"
    }
   ],
   "source": [
    "repo_repo_users.head()"
   ]
  },
  {
   "cell_type": "code",
   "execution_count": 11,
   "metadata": {
    "collapsed": true
   },
   "outputs": [],
   "source": [
    "repo_repo_users[['Source', 'Target', 'Weight']].to_csv('./data/repo_repo_counts.csv', index=False)"
   ]
  }
 ],
 "metadata": {
  "kernelspec": {
   "display_name": "Python 2",
   "language": "python",
   "name": "python2"
  },
  "language_info": {
   "codemirror_mode": {
    "name": "ipython",
    "version": 2
   },
   "file_extension": ".py",
   "mimetype": "text/x-python",
   "name": "python",
   "nbconvert_exporter": "python",
   "pygments_lexer": "ipython2",
   "version": "2.7.10"
  },
  "widgets": {
   "state": {},
   "version": "1.1.2"
  }
 },
 "nbformat": 4,
 "nbformat_minor": 0
}
