{
 "cells": [
  {
   "cell_type": "code",
   "execution_count": 28,
   "metadata": {
    "collapsed": true
   },
   "outputs": [],
   "source": [
    "import json\n",
    "import time, datetime\n",
    "from pymongo import MongoClient\n",
    "import pandas as pd\n",
    "import os\n",
    "from dateutil import parser"
   ]
  },
  {
   "cell_type": "markdown",
   "metadata": {},
   "source": [
    "### Convert mongo json into csv"
   ]
  },
  {
   "cell_type": "code",
   "execution_count": 2,
   "metadata": {
    "collapsed": true
   },
   "outputs": [],
   "source": [
    "db_url = 'ec2-54-67-97-244.us-west-1.compute.amazonaws.com:27017'\n",
    "db_name = 'activities'"
   ]
  },
  {
   "cell_type": "code",
   "execution_count": 3,
   "metadata": {
    "collapsed": true
   },
   "outputs": [],
   "source": [
    "# start_day = datetime.datetime(2015, 1, 1)"
   ]
  },
  {
   "cell_type": "code",
   "execution_count": 4,
   "metadata": {
    "collapsed": true
   },
   "outputs": [],
   "source": [
    "mongocli = MongoClient(db_url)# init mongodb client\n",
    "mongodb = mongocli[db_name] # connect 'github' database"
   ]
  },
  {
   "cell_type": "code",
   "execution_count": 5,
   "metadata": {
    "collapsed": false
   },
   "outputs": [
    {
     "data": {
      "text/plain": [
       "9592"
      ]
     },
     "execution_count": 5,
     "metadata": {},
     "output_type": "execute_result"
    }
   ],
   "source": [
    "stars = mongodb['repos.IanLunn.Hover.stargazers'].find({\"starred_at\": {\"$gte\": '2015-01-01'}},\n",
    "                                                        {\"_id\":0, \"starred_at\": 1, \"user.type\": 1, \"user.id\":1, \"user.login\":1, \"user.site_admin\":1})\n",
    "stars.count(with_limit_and_skip=True) # enable limit"
   ]
  },
  {
   "cell_type": "code",
   "execution_count": 6,
   "metadata": {
    "collapsed": false
   },
   "outputs": [
    {
     "name": "stdout",
     "output_type": "stream",
     "text": [
      "['IanLunn', 'Hover', u'2015-01-01T09:41:31Z', u'jason-gu', False, u'User', 2045134]\n",
      "['IanLunn', 'Hover', u'2015-01-02T07:28:13Z', u'ddliu', False, u'User', 797146]\n",
      "['IanLunn', 'Hover', u'2015-01-02T16:48:40Z', u'gopalindians', False, u'User', 1937433]\n",
      "['IanLunn', 'Hover', u'2015-01-02T23:21:49Z', u'Siot', False, u'User', 4410120]\n",
      "['IanLunn', 'Hover', u'2015-01-03T08:48:12Z', u'cxwe', False, u'User', 9068824]\n",
      "['IanLunn', 'Hover', u'2015-01-03T11:42:45Z', u'putaoshu', False, u'User', 406587]\n",
      "['IanLunn', 'Hover', u'2015-01-03T13:28:07Z', u'eLmre', False, u'User', 3106214]\n",
      "['IanLunn', 'Hover', u'2015-01-03T17:58:51Z', u'imkarthikk', False, u'User', 973265]\n",
      "['IanLunn', 'Hover', u'2015-01-04T03:06:59Z', u'xiaokaike', False, u'User', 4251499]\n",
      "['IanLunn', 'Hover', u'2015-01-04T06:39:23Z', u'jso0', False, u'User', 6308325]\n"
     ]
    }
   ],
   "source": [
    "for s in stars.limit(10):\n",
    "    print ['IanLunn', 'Hover'] + [s['starred_at']] + s['user'].values()"
   ]
  },
  {
   "cell_type": "code",
   "execution_count": 7,
   "metadata": {
    "collapsed": true
   },
   "outputs": [],
   "source": [
    "mongocli.close()"
   ]
  },
  {
   "cell_type": "code",
   "execution_count": 8,
   "metadata": {
    "collapsed": true
   },
   "outputs": [],
   "source": [
    "def starring_etl(mongodb, coll_name, start_day):\n",
    "    \"\"\" Description: function to flatten mongodb into dataframe\n",
    "        - mongodb: mongodb database connection\n",
    "        - coll_name: collection name\n",
    "        - start_day: str, the day that the query starts from, ie. '2015-01-01'\n",
    "    \"\"\"\n",
    "    stars_list = [] # init a list to contain query result\n",
    "    stars = mongodb[coll_name].find({\"starred_at\": {\"$gte\": start_day}},\n",
    "                                                    {\"_id\":0, \"starred_at\": 1, \"user.type\": 1, \"user.id\":1, \"user.login\":1, \"user.site_admin\":1})\n",
    "    for star in stars:\n",
    "        stars_list.append(coll_name.split('.')[1:3] + [star['starred_at']] + star['user'].values()) # append the flattened row\n",
    "    # construct a dataframe\n",
    "    stars_df = pd.DataFrame(stars_list, columns=['owner', 'repo', 'starred_at', 'user.login', 'user.site_admin', 'user.type', 'user.id'])\n",
    "    print coll_name, stars_df.shape\n",
    "    \n",
    "    return stars_df"
   ]
  },
  {
   "cell_type": "code",
   "execution_count": 9,
   "metadata": {
    "collapsed": false
   },
   "outputs": [
    {
     "name": "stdout",
     "output_type": "stream",
     "text": [
      "repos.IanLunn.Hover.stargazers (9592, 7)\n"
     ]
    }
   ],
   "source": [
    "stars_df = starring_etl(mongodb, 'repos.IanLunn.Hover.stargazers', '2015-01-01')"
   ]
  },
  {
   "cell_type": "code",
   "execution_count": 49,
   "metadata": {
    "collapsed": false
   },
   "outputs": [],
   "source": [
    "def dump_starring(db_url, db_name, start_day):\n",
    "    \"\"\" Description: function to write \n",
    "        - db_url: mongodb url\n",
    "        - db_name: mongodb database name\n",
    "        - start_day: str, the day that the query starts from, ie. '2015-01-01'\n",
    "    \"\"\"\n",
    "    mongocli = MongoClient(db_url)# init mongodb client\n",
    "    mongodb = mongocli[db_name] # connect 'github' database\n",
    "    coll_names = mongodb.collection_names() # get collection names\n",
    "    \n",
    "    for coll_name in coll_names: # loop collections\n",
    "        # construct a dataframe\n",
    "        stars_df = starring_etl(mongodb=mongodb, coll_name=coll_name, start_day=start_day)\n",
    "        \n",
    "        # write out csv\n",
    "        file_name = 'starring_sample10.csv'\n",
    "        if not os.path.isfile(file_name): # if file not exist, wirte column names\n",
    "            stars_df.to_csv(file_name, index=False)\n",
    "        else: # else it exists, not append colnames\n",
    "            stars_df.to_csv(file_name, mode = 'a', header=False, index=False)\n",
    "        print coll_name + 'is completed...'\n",
    "        print '-------------------------------------------------'\n",
    "        \n",
    "    mongocli.close()"
   ]
  },
  {
   "cell_type": "code",
   "execution_count": 50,
   "metadata": {
    "collapsed": false,
    "scrolled": true
   },
   "outputs": [
    {
     "name": "stdout",
     "output_type": "stream",
     "text": [
      "repos.lebinh.ngxtop.stargazers (986, 7)\n",
      "repos.lebinh.ngxtop.stargazersis completed...\n",
      "-------------------------------------------------\n",
      "repos.madebymany.sir-trevor-js.stargazers (866, 7)\n",
      "repos.madebymany.sir-trevor-js.stargazersis completed...\n",
      "-------------------------------------------------\n",
      "repos.IanLunn.Hover.stargazers (9592, 7)\n",
      "repos.IanLunn.Hover.stargazersis completed...\n",
      "-------------------------------------------------\n",
      "repos.jschr.bootstrap-modal.stargazers (877, 7)\n",
      "repos.jschr.bootstrap-modal.stargazersis completed...\n",
      "-------------------------------------------------\n",
      "repos.eczarny.spectacle.stargazers (3814, 7)\n",
      "repos.eczarny.spectacle.stargazersis completed...\n",
      "-------------------------------------------------\n",
      "repos.jquery.jquery-ui.stargazers (1455, 7)\n",
      "repos.jquery.jquery-ui.stargazersis completed...\n",
      "-------------------------------------------------\n",
      "repos.JakeWharton.ViewPagerIndicator.stargazers (3547, 7)\n",
      "repos.JakeWharton.ViewPagerIndicator.stargazersis completed...\n",
      "-------------------------------------------------\n",
      "repos.rendrjs.rendr.stargazers (955, 7)\n",
      "repos.rendrjs.rendr.stargazersis completed...\n",
      "-------------------------------------------------\n",
      "repos.carrierwaveuploader.carrierwave.stargazers (1681, 7)\n",
      "repos.carrierwaveuploader.carrierwave.stargazersis completed...\n",
      "-------------------------------------------------\n",
      "repos.inconshreveable.ngrok.stargazers (4221, 7)\n",
      "repos.inconshreveable.ngrok.stargazersis completed...\n",
      "-------------------------------------------------\n"
     ]
    }
   ],
   "source": [
    "dump_starring(db_url, db_name, '2015-01-01')"
   ]
  },
  {
   "cell_type": "markdown",
   "metadata": {
    "collapsed": true
   },
   "source": [
    "### starring"
   ]
  },
  {
   "cell_type": "code",
   "execution_count": 51,
   "metadata": {
    "collapsed": true
   },
   "outputs": [],
   "source": [
    "starrings = pd.read_csv('./starring_sample10.csv')"
   ]
  },
  {
   "cell_type": "code",
   "execution_count": 52,
   "metadata": {
    "collapsed": false
   },
   "outputs": [
    {
     "data": {
      "text/html": [
       "<div>\n",
       "<table border=\"1\" class=\"dataframe\">\n",
       "  <thead>\n",
       "    <tr style=\"text-align: right;\">\n",
       "      <th></th>\n",
       "      <th>owner</th>\n",
       "      <th>repo</th>\n",
       "      <th>starred_at</th>\n",
       "      <th>user.login</th>\n",
       "      <th>user.site_admin</th>\n",
       "      <th>user.type</th>\n",
       "      <th>user.id</th>\n",
       "    </tr>\n",
       "  </thead>\n",
       "  <tbody>\n",
       "    <tr>\n",
       "      <th>0</th>\n",
       "      <td>lebinh</td>\n",
       "      <td>ngxtop</td>\n",
       "      <td>2015-01-01T02:07:47Z</td>\n",
       "      <td>GameCracker</td>\n",
       "      <td>False</td>\n",
       "      <td>User</td>\n",
       "      <td>4250690</td>\n",
       "    </tr>\n",
       "    <tr>\n",
       "      <th>1</th>\n",
       "      <td>lebinh</td>\n",
       "      <td>ngxtop</td>\n",
       "      <td>2015-01-01T18:44:45Z</td>\n",
       "      <td>qorbani</td>\n",
       "      <td>False</td>\n",
       "      <td>User</td>\n",
       "      <td>771382</td>\n",
       "    </tr>\n",
       "    <tr>\n",
       "      <th>2</th>\n",
       "      <td>lebinh</td>\n",
       "      <td>ngxtop</td>\n",
       "      <td>2015-01-02T18:38:04Z</td>\n",
       "      <td>vrrs</td>\n",
       "      <td>False</td>\n",
       "      <td>User</td>\n",
       "      <td>2623289</td>\n",
       "    </tr>\n",
       "    <tr>\n",
       "      <th>3</th>\n",
       "      <td>lebinh</td>\n",
       "      <td>ngxtop</td>\n",
       "      <td>2015-01-02T21:35:50Z</td>\n",
       "      <td>Aldor007</td>\n",
       "      <td>False</td>\n",
       "      <td>User</td>\n",
       "      <td>2446168</td>\n",
       "    </tr>\n",
       "    <tr>\n",
       "      <th>4</th>\n",
       "      <td>lebinh</td>\n",
       "      <td>ngxtop</td>\n",
       "      <td>2015-01-03T12:45:05Z</td>\n",
       "      <td>azhurbilo</td>\n",
       "      <td>False</td>\n",
       "      <td>User</td>\n",
       "      <td>6387460</td>\n",
       "    </tr>\n",
       "  </tbody>\n",
       "</table>\n",
       "</div>"
      ],
      "text/plain": [
       "    owner    repo            starred_at   user.login user.site_admin  \\\n",
       "0  lebinh  ngxtop  2015-01-01T02:07:47Z  GameCracker           False   \n",
       "1  lebinh  ngxtop  2015-01-01T18:44:45Z      qorbani           False   \n",
       "2  lebinh  ngxtop  2015-01-02T18:38:04Z         vrrs           False   \n",
       "3  lebinh  ngxtop  2015-01-02T21:35:50Z     Aldor007           False   \n",
       "4  lebinh  ngxtop  2015-01-03T12:45:05Z    azhurbilo           False   \n",
       "\n",
       "  user.type  user.id  \n",
       "0      User  4250690  \n",
       "1      User   771382  \n",
       "2      User  2623289  \n",
       "3      User  2446168  \n",
       "4      User  6387460  "
      ]
     },
     "execution_count": 52,
     "metadata": {},
     "output_type": "execute_result"
    }
   ],
   "source": [
    "starrings.head()"
   ]
  },
  {
   "cell_type": "code",
   "execution_count": 53,
   "metadata": {
    "collapsed": false
   },
   "outputs": [],
   "source": [
    "# transform isodate into datetime\n",
    "starrings.starred_at = starrings.starred_at.apply(lambda x : parser.parse(x))"
   ]
  },
  {
   "cell_type": "code",
   "execution_count": 54,
   "metadata": {
    "collapsed": false
   },
   "outputs": [],
   "source": [
    "starrings['year'] = starrings.starred_at.dt.year\n",
    "starrings['month'] = starrings.starred_at.dt.month\n",
    "starrings['week'] = starrings.starred_at.dt.week\n",
    "starrings['dayofweek'] = starrings.starred_at.dt.dayofweek"
   ]
  },
  {
   "cell_type": "code",
   "execution_count": 55,
   "metadata": {
    "collapsed": false
   },
   "outputs": [
    {
     "data": {
      "text/plain": [
       "owner        repo                year  month\n",
       "IanLunn      Hover               2015  1        2897\n",
       "                                       2         847\n",
       "                                       3         318\n",
       "                                       4         339\n",
       "                                       5         326\n",
       "                                       6         290\n",
       "                                       7         249\n",
       "                                       8         254\n",
       "                                       9         387\n",
       "                                       10        357\n",
       "                                       11        268\n",
       "                                       12        307\n",
       "                                 2016  1         395\n",
       "                                       2         303\n",
       "                                       3         427\n",
       "                                       4         308\n",
       "                                       5         319\n",
       "                                       6         290\n",
       "                                       7         325\n",
       "                                       8         299\n",
       "                                       9          87\n",
       "JakeWharton  ViewPagerIndicator  2015  1         180\n",
       "                                       2         120\n",
       "                                       3         171\n",
       "                                       4         190\n",
       "                                       5         187\n",
       "                                       6         159\n",
       "                                       7         176\n",
       "                                       8         172\n",
       "                                       9         186\n",
       "                                                ... \n",
       "madebymany   sir-trevor-js       2016  1          35\n",
       "                                       2          39\n",
       "                                       3          25\n",
       "                                       4          34\n",
       "                                       5          22\n",
       "                                       6          30\n",
       "                                       7          17\n",
       "                                       8          22\n",
       "                                       9           5\n",
       "rendrjs      rendr               2015  1          54\n",
       "                                       2         100\n",
       "                                       3         116\n",
       "                                       4          65\n",
       "                                       5          64\n",
       "                                       6          59\n",
       "                                       7          56\n",
       "                                       8          43\n",
       "                                       9          44\n",
       "                                       10         61\n",
       "                                       11         45\n",
       "                                       12         44\n",
       "                                 2016  1          41\n",
       "                                       2          33\n",
       "                                       3          27\n",
       "                                       4          22\n",
       "                                       5          23\n",
       "                                       6          18\n",
       "                                       7          19\n",
       "                                       8          18\n",
       "                                       9           3\n",
       "Name: starred_at, dtype: int64"
      ]
     },
     "execution_count": 55,
     "metadata": {},
     "output_type": "execute_result"
    }
   ],
   "source": [
    "starrings.groupby(by=['owner', 'repo', 'year', 'month'])['starred_at'].count()"
   ]
  },
  {
   "cell_type": "code",
   "execution_count": 56,
   "metadata": {
    "collapsed": true
   },
   "outputs": [],
   "source": [
    "starrings.to_csv('starrings_group_sample10.csv', index=False)"
   ]
  }
 ],
 "metadata": {
  "kernelspec": {
   "display_name": "Python 2",
   "language": "python",
   "name": "python2"
  },
  "language_info": {
   "codemirror_mode": {
    "name": "ipython",
    "version": 2
   },
   "file_extension": ".py",
   "mimetype": "text/x-python",
   "name": "python",
   "nbconvert_exporter": "python",
   "pygments_lexer": "ipython2",
   "version": "2.7.10"
  },
  "widgets": {
   "state": {},
   "version": "1.1.2"
  }
 },
 "nbformat": 4,
 "nbformat_minor": 0
}
