{
 "cells": [
  {
   "cell_type": "code",
   "execution_count": 1,
   "metadata": {
    "collapsed": true
   },
   "outputs": [],
   "source": [
    "import requests\n",
    "import json\n",
    "import time\n",
    "from pymongo import MongoClient\n",
    "import random\n",
    "import pandas as pd"
   ]
  },
  {
   "cell_type": "code",
   "execution_count": 5,
   "metadata": {
    "collapsed": true
   },
   "outputs": [],
   "source": [
    "def github_request(params, headers, per_page=30, page=1, show_head=False, show_body=False, is_write=False):\n",
    "    \"\"\" Description: function to perform a github api request\n",
    "        - params: a list of request parameters\n",
    "        - headers: a dict of request headers\n",
    "        - per_page: defalt 30 records per page, can go up to 100\n",
    "        - page: default starts from page 1\n",
    "        - show_head: default False, not show the response head\n",
    "        - show_body: default False, not show the response body\n",
    "        - is_write: default False, if write out to json file, default in current directory\n",
    "        - return: a string of status code, and a json object of response\n",
    "    \"\"\"\n",
    "    url = \"https://api.github.com/\" + '/'.join(params) + '?per_page={}&page={}'.format(per_page, page)\n",
    "    print 'requesting: ' + url\n",
    "    response = requests.get(url, headers=headers) # get response\n",
    "    if show_body:\n",
    "        # body\n",
    "        print json.dumps(response.json(), indent=1)\n",
    "        print '------------------------------------'\n",
    "    if show_head:\n",
    "        # header\n",
    "        for (k,v) in response.headers.items():\n",
    "            print k, \"=>\", v\n",
    "        print '------------------------------------'\n",
    "    file_name = '.'.join(params) + '.json'\n",
    "    if is_write:\n",
    "        with open(file_name, 'w') as jsonfile:\n",
    "            json.dump(response.json(), jsonfile)\n",
    "    print 'total records of this request: {}'.format(len(response.json()))\n",
    "    return response.headers['Status'], response.json()"
   ]
  },
  {
   "cell_type": "code",
   "execution_count": 6,
   "metadata": {
    "collapsed": true
   },
   "outputs": [],
   "source": [
    "def dump_mongo(db_url, db_name, params, headers):\n",
    "    \"\"\" Description: function to dump github api into mongodb\n",
    "        - db_url: mongodb url\n",
    "        - db_name: mongodb database name\n",
    "        - params: github api params\n",
    "        - headers: github api headers\n",
    "    \"\"\"\n",
    "    mongocli = MongoClient(db_url)# init mongodb client\n",
    "    mongodb = mongocli[db_name] # connect 'github' database\n",
    "    \n",
    "    page = 1\n",
    "    collection_name = '.'.join(params)\n",
    "    start_time = time.time()\n",
    "    while True:\n",
    "        status, json_body = github_request(params, headers,per_page=100,page=page)\n",
    "        print 'page {} :'.format(page), 'status: ' + status + '\\n'\n",
    "        if status == '422 Unprocessable Entity' or len(json_body) == 0:\n",
    "            break\n",
    "        mongodb[collection_name].insert(json_body)\n",
    "        page += 1\n",
    "        time.sleep(1)\n",
    "    mongocli.close() # close connection\n",
    "    elapsed_time = time.time() - start_time\n",
    "    print '------------------------------------'\n",
    "    print 'completed: {}'.format(elapsed_time)\n",
    "    "
   ]
  },
  {
   "cell_type": "code",
   "execution_count": 7,
   "metadata": {
    "collapsed": true
   },
   "outputs": [],
   "source": [
    "ACCESS_TOKEN = '219c8c8184c45933dd259f21eaf5ff726387e7ed'"
   ]
  },
  {
   "cell_type": "code",
   "execution_count": 8,
   "metadata": {
    "collapsed": true
   },
   "outputs": [],
   "source": [
    "db_url = 'ec2-54-67-97-244.us-west-1.compute.amazonaws.com:27017'\n",
    "db_name = 'activities'\n",
    "headers = {'Authorization' : 'token {}'.format(ACCESS_TOKEN),'Accept' : 'application/vnd.github.v3.star+json'}"
   ]
  },
  {
   "cell_type": "code",
   "execution_count": 9,
   "metadata": {
    "collapsed": true
   },
   "outputs": [],
   "source": [
    "repos = pd.read_csv('./data/repos.csv')"
   ]
  },
  {
   "cell_type": "code",
   "execution_count": 12,
   "metadata": {
    "collapsed": false
   },
   "outputs": [],
   "source": [
    "repo_portfolio = repos[['org_id', 'name']]"
   ]
  },
  {
   "cell_type": "code",
   "execution_count": 15,
   "metadata": {
    "collapsed": false
   },
   "outputs": [],
   "source": [
    "starring_list = []\n",
    "for _, row in repo_portfolio.iterrows():\n",
    "    starring_list.append(['repos', row['org_id'], row['name'], 'stargazers'])"
   ]
  },
  {
   "cell_type": "code",
   "execution_count": 17,
   "metadata": {
    "collapsed": false
   },
   "outputs": [
    {
     "name": "stdout",
     "output_type": "stream",
     "text": [
      "['repos', 'google', 'upb', 'stargazers']\n",
      "requesting: https://api.github.com/repos/google/upb/stargazers?per_page=100&page=1\n",
      "total records of this request: 100\n",
      "page 1 : status: 200 OK\n",
      "\n",
      "requesting: https://api.github.com/repos/google/upb/stargazers?per_page=100&page=2\n",
      "total records of this request: 100\n",
      "page 2 : status: 200 OK\n",
      "\n",
      "requesting: https://api.github.com/repos/google/upb/stargazers?per_page=100&page=3\n",
      "total records of this request: 100\n",
      "page 3 : status: 200 OK\n",
      "\n",
      "requesting: https://api.github.com/repos/google/upb/stargazers?per_page=100&page=4\n",
      "total records of this request: 100\n",
      "page 4 : status: 200 OK\n",
      "\n",
      "requesting: https://api.github.com/repos/google/upb/stargazers?per_page=100&page=5\n",
      "total records of this request: 100\n",
      "page 5 : status: 200 OK\n",
      "\n",
      "requesting: https://api.github.com/repos/google/upb/stargazers?per_page=100&page=6\n",
      "total records of this request: 100\n",
      "page 6 : status: 200 OK\n",
      "\n",
      "requesting: https://api.github.com/repos/google/upb/stargazers?per_page=100&page=7\n",
      "total records of this request: 92\n",
      "page 7 : status: 200 OK\n",
      "\n",
      "requesting: https://api.github.com/repos/google/upb/stargazers?per_page=100&page=8\n",
      "total records of this request: 0\n",
      "page 8 : status: 200 OK\n",
      "\n",
      "------------------------------------\n",
      "completed: 16.8775160313\n",
      "\n"
     ]
    }
   ],
   "source": [
    "for starring in starring_list:\n",
    "    print starring\n",
    "    dump_mongo(db_url,db_name,starring,headers)\n",
    "    print\n",
    "    break"
   ]
  },
  {
   "cell_type": "code",
   "execution_count": null,
   "metadata": {
    "collapsed": true
   },
   "outputs": [],
   "source": []
  }
 ],
 "metadata": {
  "kernelspec": {
   "display_name": "Python 2",
   "language": "python",
   "name": "python2"
  },
  "language_info": {
   "codemirror_mode": {
    "name": "ipython",
    "version": 2
   },
   "file_extension": ".py",
   "mimetype": "text/x-python",
   "name": "python",
   "nbconvert_exporter": "python",
   "pygments_lexer": "ipython2",
   "version": "2.7.10"
  },
  "widgets": {
   "state": {},
   "version": "1.1.2"
  }
 },
 "nbformat": 4,
 "nbformat_minor": 0
}
