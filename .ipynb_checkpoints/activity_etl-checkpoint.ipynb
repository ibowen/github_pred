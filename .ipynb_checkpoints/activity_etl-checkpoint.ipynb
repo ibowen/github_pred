{
 "cells": [
  {
   "cell_type": "code",
   "execution_count": 1,
   "metadata": {
    "collapsed": true
   },
   "outputs": [],
   "source": [
    "import json\n",
    "import time, datetime\n",
    "from pymongo import MongoClient\n",
    "import pandas as pd\n",
    "import os\n",
    "from dateutil import parser"
   ]
  },
  {
   "cell_type": "markdown",
   "metadata": {},
   "source": [
    "### Convert mongo json into csv"
   ]
  },
  {
   "cell_type": "code",
   "execution_count": 2,
   "metadata": {
    "collapsed": true
   },
   "outputs": [],
   "source": [
    "db_url = 'ec2-54-67-97-244.us-west-1.compute.amazonaws.com:27017'\n",
    "db_name = 'activities'"
   ]
  },
  {
   "cell_type": "code",
   "execution_count": 3,
   "metadata": {
    "collapsed": true
   },
   "outputs": [],
   "source": [
    "# start_day = datetime.datetime(2015, 1, 1)"
   ]
  },
  {
   "cell_type": "code",
   "execution_count": 4,
   "metadata": {
    "collapsed": true
   },
   "outputs": [],
   "source": [
    "mongocli = MongoClient(db_url)# init mongodb client\n",
    "mongodb = mongocli[db_name] # connect 'github' database"
   ]
  },
  {
   "cell_type": "code",
   "execution_count": 5,
   "metadata": {
    "collapsed": false
   },
   "outputs": [
    {
     "data": {
      "text/plain": [
       "9592"
      ]
     },
     "execution_count": 5,
     "metadata": {},
     "output_type": "execute_result"
    }
   ],
   "source": [
    "stars = mongodb['repos.IanLunn.Hover.stargazers'].find({\"starred_at\": {\"$gte\": '2015-01-01'}},\n",
    "                                                        {\"_id\":0, \"starred_at\": 1, \"user.type\": 1, \"user.id\":1, \"user.login\":1, \"user.site_admin\":1})\n",
    "stars.count(with_limit_and_skip=True) # enable limit"
   ]
  },
  {
   "cell_type": "code",
   "execution_count": 6,
   "metadata": {
    "collapsed": false
   },
   "outputs": [
    {
     "name": "stdout",
     "output_type": "stream",
     "text": [
      "['IanLunn', 'Hover', u'2015-01-01T09:41:31Z', u'jason-gu', False, u'User', 2045134]\n",
      "['IanLunn', 'Hover', u'2015-01-02T07:28:13Z', u'ddliu', False, u'User', 797146]\n",
      "['IanLunn', 'Hover', u'2015-01-02T16:48:40Z', u'gopalindians', False, u'User', 1937433]\n",
      "['IanLunn', 'Hover', u'2015-01-02T23:21:49Z', u'Siot', False, u'User', 4410120]\n",
      "['IanLunn', 'Hover', u'2015-01-03T08:48:12Z', u'cxwe', False, u'User', 9068824]\n",
      "['IanLunn', 'Hover', u'2015-01-03T11:42:45Z', u'putaoshu', False, u'User', 406587]\n",
      "['IanLunn', 'Hover', u'2015-01-03T13:28:07Z', u'eLmre', False, u'User', 3106214]\n",
      "['IanLunn', 'Hover', u'2015-01-03T17:58:51Z', u'imkarthikk', False, u'User', 973265]\n",
      "['IanLunn', 'Hover', u'2015-01-04T03:06:59Z', u'xiaokaike', False, u'User', 4251499]\n",
      "['IanLunn', 'Hover', u'2015-01-04T06:39:23Z', u'jso0', False, u'User', 6308325]\n"
     ]
    }
   ],
   "source": [
    "for s in stars.limit(10):\n",
    "    print ['IanLunn', 'Hover'] + [s['starred_at']] + s['user'].values()"
   ]
  },
  {
   "cell_type": "code",
   "execution_count": 7,
   "metadata": {
    "collapsed": true
   },
   "outputs": [],
   "source": [
    "mongocli.close()"
   ]
  },
  {
   "cell_type": "code",
   "execution_count": 8,
   "metadata": {
    "collapsed": true
   },
   "outputs": [],
   "source": [
    "def starring_etl(mongodb, coll_name, start_day):\n",
    "    \"\"\" Description: function to flatten mongodb into dataframe\n",
    "        - mongodb: mongodb database connection\n",
    "        - coll_name: collection name\n",
    "        - start_day: str, the day that the query starts from, ie. '2015-01-01'\n",
    "    \"\"\"\n",
    "    stars_list = [] # init a list to contain query result\n",
    "    stars = mongodb[coll_name].find({\"starred_at\": {\"$gte\": start_day}},\n",
    "                                                    {\"_id\":0, \"starred_at\": 1, \"user.type\": 1, \"user.id\":1, \"user.login\":1, \"user.site_admin\":1})\n",
    "    for star in stars:\n",
    "        stars_list.append(coll_name.split('.')[1:3] + [star['starred_at']] + star['user'].values()) # append the flattened row\n",
    "    # construct a dataframe\n",
    "    stars_df = pd.DataFrame(stars_list, columns=['owner', 'repo', 'starred_at', 'user.login', 'user.site_admin', 'user.type', 'user.id'])\n",
    "    print coll_name, stars_df.shape\n",
    "    \n",
    "    return stars_df"
   ]
  },
  {
   "cell_type": "code",
   "execution_count": 9,
   "metadata": {
    "collapsed": false
   },
   "outputs": [
    {
     "name": "stdout",
     "output_type": "stream",
     "text": [
      "repos.IanLunn.Hover.stargazers (9592, 7)\n"
     ]
    }
   ],
   "source": [
    "stars_df = starring_etl(mongodb, 'repos.IanLunn.Hover.stargazers', '2015-01-01')"
   ]
  },
  {
   "cell_type": "code",
   "execution_count": 49,
   "metadata": {
    "collapsed": false
   },
   "outputs": [],
   "source": [
    "def dump_starring(db_url, db_name, start_day):\n",
    "    \"\"\" Description: function to write \n",
    "        - db_url: mongodb url\n",
    "        - db_name: mongodb database name\n",
    "        - start_day: str, the day that the query starts from, ie. '2015-01-01'\n",
    "    \"\"\"\n",
    "    mongocli = MongoClient(db_url)# init mongodb client\n",
    "    mongodb = mongocli[db_name] # connect 'github' database\n",
    "    coll_names = mongodb.collection_names() # get collection names\n",
    "    \n",
    "    for coll_name in coll_names: # loop collections\n",
    "        # construct a dataframe\n",
    "        stars_df = starring_etl(mongodb=mongodb, coll_name=coll_name, start_day=start_day)\n",
    "        \n",
    "        # write out csv\n",
    "        file_name = 'starring_sample10.csv'\n",
    "        if not os.path.isfile(file_name): # if file not exist, wirte column names\n",
    "            stars_df.to_csv(file_name, index=False)\n",
    "        else: # else it exists, not append colnames\n",
    "            stars_df.to_csv(file_name, mode = 'a', header=False, index=False)\n",
    "        print coll_name + 'is completed...'\n",
    "        print '-------------------------------------------------'\n",
    "        \n",
    "    mongocli.close()"
   ]
  },
  {
   "cell_type": "code",
   "execution_count": 50,
   "metadata": {
    "collapsed": false,
    "scrolled": true
   },
   "outputs": [
    {
     "name": "stdout",
     "output_type": "stream",
     "text": [
      "repos.lebinh.ngxtop.stargazers (986, 7)\n",
      "repos.lebinh.ngxtop.stargazersis completed...\n",
      "-------------------------------------------------\n",
      "repos.madebymany.sir-trevor-js.stargazers (866, 7)\n",
      "repos.madebymany.sir-trevor-js.stargazersis completed...\n",
      "-------------------------------------------------\n",
      "repos.IanLunn.Hover.stargazers (9592, 7)\n",
      "repos.IanLunn.Hover.stargazersis completed...\n",
      "-------------------------------------------------\n",
      "repos.jschr.bootstrap-modal.stargazers (877, 7)\n",
      "repos.jschr.bootstrap-modal.stargazersis completed...\n",
      "-------------------------------------------------\n",
      "repos.eczarny.spectacle.stargazers (3814, 7)\n",
      "repos.eczarny.spectacle.stargazersis completed...\n",
      "-------------------------------------------------\n",
      "repos.jquery.jquery-ui.stargazers (1455, 7)\n",
      "repos.jquery.jquery-ui.stargazersis completed...\n",
      "-------------------------------------------------\n",
      "repos.JakeWharton.ViewPagerIndicator.stargazers (3547, 7)\n",
      "repos.JakeWharton.ViewPagerIndicator.stargazersis completed...\n",
      "-------------------------------------------------\n",
      "repos.rendrjs.rendr.stargazers (955, 7)\n",
      "repos.rendrjs.rendr.stargazersis completed...\n",
      "-------------------------------------------------\n",
      "repos.carrierwaveuploader.carrierwave.stargazers (1681, 7)\n",
      "repos.carrierwaveuploader.carrierwave.stargazersis completed...\n",
      "-------------------------------------------------\n",
      "repos.inconshreveable.ngrok.stargazers (4221, 7)\n",
      "repos.inconshreveable.ngrok.stargazersis completed...\n",
      "-------------------------------------------------\n"
     ]
    }
   ],
   "source": [
    "dump_starring(db_url, db_name, '2015-01-01')"
   ]
  },
  {
   "cell_type": "markdown",
   "metadata": {
    "collapsed": true
   },
   "source": [
    "### Slice starring with the last 52 weeks\n",
    "\n",
    "__20 Sep 2015 ~ 11 Sep 2016__"
   ]
  },
  {
   "cell_type": "code",
   "execution_count": 66,
   "metadata": {
    "collapsed": false
   },
   "outputs": [],
   "source": [
    "starrings = pd.read_csv('./data/starring_sample10.csv')"
   ]
  },
  {
   "cell_type": "code",
   "execution_count": 67,
   "metadata": {
    "collapsed": false
   },
   "outputs": [
    {
     "data": {
      "text/html": [
       "<div>\n",
       "<table border=\"1\" class=\"dataframe\">\n",
       "  <thead>\n",
       "    <tr style=\"text-align: right;\">\n",
       "      <th></th>\n",
       "      <th>owner</th>\n",
       "      <th>repo</th>\n",
       "      <th>starred_at</th>\n",
       "      <th>user.login</th>\n",
       "      <th>user.site_admin</th>\n",
       "      <th>user.type</th>\n",
       "      <th>user.id</th>\n",
       "    </tr>\n",
       "  </thead>\n",
       "  <tbody>\n",
       "    <tr>\n",
       "      <th>0</th>\n",
       "      <td>lebinh</td>\n",
       "      <td>ngxtop</td>\n",
       "      <td>2015-01-01T02:07:47Z</td>\n",
       "      <td>GameCracker</td>\n",
       "      <td>False</td>\n",
       "      <td>User</td>\n",
       "      <td>4250690</td>\n",
       "    </tr>\n",
       "    <tr>\n",
       "      <th>1</th>\n",
       "      <td>lebinh</td>\n",
       "      <td>ngxtop</td>\n",
       "      <td>2015-01-01T18:44:45Z</td>\n",
       "      <td>qorbani</td>\n",
       "      <td>False</td>\n",
       "      <td>User</td>\n",
       "      <td>771382</td>\n",
       "    </tr>\n",
       "    <tr>\n",
       "      <th>2</th>\n",
       "      <td>lebinh</td>\n",
       "      <td>ngxtop</td>\n",
       "      <td>2015-01-02T18:38:04Z</td>\n",
       "      <td>vrrs</td>\n",
       "      <td>False</td>\n",
       "      <td>User</td>\n",
       "      <td>2623289</td>\n",
       "    </tr>\n",
       "    <tr>\n",
       "      <th>3</th>\n",
       "      <td>lebinh</td>\n",
       "      <td>ngxtop</td>\n",
       "      <td>2015-01-02T21:35:50Z</td>\n",
       "      <td>Aldor007</td>\n",
       "      <td>False</td>\n",
       "      <td>User</td>\n",
       "      <td>2446168</td>\n",
       "    </tr>\n",
       "    <tr>\n",
       "      <th>4</th>\n",
       "      <td>lebinh</td>\n",
       "      <td>ngxtop</td>\n",
       "      <td>2015-01-03T12:45:05Z</td>\n",
       "      <td>azhurbilo</td>\n",
       "      <td>False</td>\n",
       "      <td>User</td>\n",
       "      <td>6387460</td>\n",
       "    </tr>\n",
       "  </tbody>\n",
       "</table>\n",
       "</div>"
      ],
      "text/plain": [
       "    owner    repo            starred_at   user.login user.site_admin  \\\n",
       "0  lebinh  ngxtop  2015-01-01T02:07:47Z  GameCracker           False   \n",
       "1  lebinh  ngxtop  2015-01-01T18:44:45Z      qorbani           False   \n",
       "2  lebinh  ngxtop  2015-01-02T18:38:04Z         vrrs           False   \n",
       "3  lebinh  ngxtop  2015-01-02T21:35:50Z     Aldor007           False   \n",
       "4  lebinh  ngxtop  2015-01-03T12:45:05Z    azhurbilo           False   \n",
       "\n",
       "  user.type  user.id  \n",
       "0      User  4250690  \n",
       "1      User   771382  \n",
       "2      User  2623289  \n",
       "3      User  2446168  \n",
       "4      User  6387460  "
      ]
     },
     "execution_count": 67,
     "metadata": {},
     "output_type": "execute_result"
    }
   ],
   "source": [
    "starrings.head()"
   ]
  },
  {
   "cell_type": "code",
   "execution_count": 68,
   "metadata": {
    "collapsed": false
   },
   "outputs": [],
   "source": [
    "# transform isodate into datetime\n",
    "starrings.starred_at = starrings.starred_at.apply(lambda x : parser.parse(x))"
   ]
  },
  {
   "cell_type": "code",
   "execution_count": 69,
   "metadata": {
    "collapsed": false
   },
   "outputs": [],
   "source": [
    "starrings52 = starrings[starrings['starred_at'] >= '2015-09-20']"
   ]
  },
  {
   "cell_type": "code",
   "execution_count": 70,
   "metadata": {
    "collapsed": false
   },
   "outputs": [],
   "source": [
    "starrings52['year'] = starrings52.starred_at.dt.year\n",
    "starrings52['weekofyear'] = starrings52.starred_at.dt.weekofyear"
   ]
  },
  {
   "cell_type": "code",
   "execution_count": 72,
   "metadata": {
    "collapsed": false
   },
   "outputs": [
    {
     "data": {
      "text/plain": [
       "array([38, 39, 40, 41, 42, 43, 44, 45, 46, 47, 48, 49, 50, 51, 52, 53,  1,\n",
       "        2,  3,  4,  5,  6,  7,  8,  9, 10, 11, 12, 13, 14, 15, 16, 17, 18,\n",
       "       19, 20, 21, 22, 23, 24, 25, 26, 27, 28, 29, 30, 31, 32, 33, 34, 35,\n",
       "       36])"
      ]
     },
     "execution_count": 72,
     "metadata": {},
     "output_type": "execute_result"
    }
   ],
   "source": [
    "starrings52['weekofyear'].unique()"
   ]
  },
  {
   "cell_type": "code",
   "execution_count": 73,
   "metadata": {
    "collapsed": false
   },
   "outputs": [
    {
     "data": {
      "text/plain": [
       "52"
      ]
     },
     "execution_count": 73,
     "metadata": {},
     "output_type": "execute_result"
    }
   ],
   "source": [
    "len(starrings52['weekofyear'].unique())"
   ]
  },
  {
   "cell_type": "code",
   "execution_count": 78,
   "metadata": {
    "collapsed": false
   },
   "outputs": [
    {
     "data": {
      "text/plain": [
       "array([38, 39, 40, 41, 42, 43, 44, 45, 46, 47, 48, 49, 50, 51, 52, 53])"
      ]
     },
     "execution_count": 78,
     "metadata": {},
     "output_type": "execute_result"
    }
   ],
   "source": [
    "starrings52[starrings52['year'] == 2015]['weekofyear'].unique()"
   ]
  },
  {
   "cell_type": "code",
   "execution_count": 79,
   "metadata": {
    "collapsed": false
   },
   "outputs": [
    {
     "data": {
      "text/plain": [
       "array([53,  1,  2,  3,  4,  5,  6,  7,  8,  9, 10, 11, 12, 13, 14, 15, 16,\n",
       "       17, 18, 19, 20, 21, 22, 23, 24, 25, 26, 27, 28, 29, 30, 31, 32, 33,\n",
       "       34, 35, 36])"
      ]
     },
     "execution_count": 79,
     "metadata": {},
     "output_type": "execute_result"
    }
   ],
   "source": [
    "starrings52[starrings52['year'] == 2016]['weekofyear'].unique()"
   ]
  },
  {
   "cell_type": "code",
   "execution_count": 80,
   "metadata": {
    "collapsed": false
   },
   "outputs": [],
   "source": [
    "# weekofyear in 2015 - 37\n",
    "# weekofyear in 2016 + 16\n",
    "starrings52['weekofyear'] = starrings52['weekofyear'].apply(lambda i : i - 37 if i >= 38 else i + 16)"
   ]
  },
  {
   "cell_type": "code",
   "execution_count": 81,
   "metadata": {
    "collapsed": false
   },
   "outputs": [
    {
     "data": {
      "text/plain": [
       "array([ 1,  2,  3,  4,  5,  6,  7,  8,  9, 10, 11, 12, 13, 14, 15, 16, 17,\n",
       "       18, 19, 20, 21, 22, 23, 24, 25, 26, 27, 28, 29, 30, 31, 32, 33, 34,\n",
       "       35, 36, 37, 38, 39, 40, 41, 42, 43, 44, 45, 46, 47, 48, 49, 50, 51,\n",
       "       52])"
      ]
     },
     "execution_count": 81,
     "metadata": {},
     "output_type": "execute_result"
    }
   ],
   "source": [
    "starrings52.weekofyear.unique()"
   ]
  },
  {
   "cell_type": "code",
   "execution_count": 84,
   "metadata": {
    "collapsed": false
   },
   "outputs": [
    {
     "data": {
      "text/plain": [
       "owner    repo   weekofyear\n",
       "IanLunn  Hover  1              15\n",
       "                2              84\n",
       "                3              67\n",
       "                4              74\n",
       "                5              82\n",
       "                6              95\n",
       "                7              72\n",
       "                8              76\n",
       "                9              55\n",
       "                10             66\n",
       "                11             56\n",
       "                12             70\n",
       "                13             60\n",
       "                14             75\n",
       "                15             71\n",
       "                16             79\n",
       "                17            107\n",
       "                18             90\n",
       "                19             94\n",
       "                20             67\n",
       "                21             68\n",
       "                22             60\n",
       "                23             85\n",
       "                24             78\n",
       "                25             79\n",
       "                26             96\n",
       "                27            100\n",
       "                28             96\n",
       "                29            104\n",
       "                30             74\n",
       "                             ... \n",
       "rendrjs  rendr  23              6\n",
       "                24             10\n",
       "                25              4\n",
       "                26             12\n",
       "                27              9\n",
       "                28              4\n",
       "                29              3\n",
       "                30              4\n",
       "                31              4\n",
       "                32              6\n",
       "                33              6\n",
       "                34              5\n",
       "                35              4\n",
       "                36              4\n",
       "                37              7\n",
       "                38              7\n",
       "                39              3\n",
       "                40              2\n",
       "                41              4\n",
       "                42              5\n",
       "                43              5\n",
       "                44              7\n",
       "                45              3\n",
       "                46              3\n",
       "                47              3\n",
       "                48              4\n",
       "                49              3\n",
       "                50              6\n",
       "                51              3\n",
       "                52              2\n",
       "Name: starred_at, dtype: int64"
      ]
     },
     "execution_count": 84,
     "metadata": {},
     "output_type": "execute_result"
    }
   ],
   "source": [
    "starrings52.groupby(by=['owner', 'repo', 'weekofyear'])['starred_at'].count()"
   ]
  },
  {
   "cell_type": "code",
   "execution_count": 92,
   "metadata": {
    "collapsed": false
   },
   "outputs": [],
   "source": [
    "dummies = pd.get_dummies(starrings52.weekofyear, prefix='week')"
   ]
  },
  {
   "cell_type": "code",
   "execution_count": 101,
   "metadata": {
    "collapsed": false
   },
   "outputs": [
    {
     "data": {
      "text/plain": [
       "((14034, 52), (14034, 61))"
      ]
     },
     "execution_count": 101,
     "metadata": {},
     "output_type": "execute_result"
    }
   ],
   "source": [
    "dummies.shape, starrings52.shape"
   ]
  },
  {
   "cell_type": "code",
   "execution_count": 103,
   "metadata": {
    "collapsed": false
   },
   "outputs": [],
   "source": [
    "starrings52 = pd.concat([starrings52[['owner', 'repo']], dummies], axis=1)"
   ]
  },
  {
   "cell_type": "code",
   "execution_count": 105,
   "metadata": {
    "collapsed": false
   },
   "outputs": [
    {
     "data": {
      "text/plain": [
       "(14034, 54)"
      ]
     },
     "execution_count": 105,
     "metadata": {},
     "output_type": "execute_result"
    }
   ],
   "source": [
    "starrings52.shape"
   ]
  },
  {
   "cell_type": "code",
   "execution_count": 106,
   "metadata": {
    "collapsed": false
   },
   "outputs": [
    {
     "data": {
      "text/html": [
       "<div>\n",
       "<table border=\"1\" class=\"dataframe\">\n",
       "  <thead>\n",
       "    <tr style=\"text-align: right;\">\n",
       "      <th></th>\n",
       "      <th>owner</th>\n",
       "      <th>repo</th>\n",
       "      <th>week_1</th>\n",
       "      <th>week_2</th>\n",
       "      <th>week_3</th>\n",
       "      <th>week_4</th>\n",
       "      <th>week_5</th>\n",
       "      <th>week_6</th>\n",
       "      <th>week_7</th>\n",
       "      <th>week_8</th>\n",
       "      <th>...</th>\n",
       "      <th>week_43</th>\n",
       "      <th>week_44</th>\n",
       "      <th>week_45</th>\n",
       "      <th>week_46</th>\n",
       "      <th>week_47</th>\n",
       "      <th>week_48</th>\n",
       "      <th>week_49</th>\n",
       "      <th>week_50</th>\n",
       "      <th>week_51</th>\n",
       "      <th>week_52</th>\n",
       "    </tr>\n",
       "  </thead>\n",
       "  <tbody>\n",
       "    <tr>\n",
       "      <th>351</th>\n",
       "      <td>lebinh</td>\n",
       "      <td>ngxtop</td>\n",
       "      <td>1.0</td>\n",
       "      <td>0.0</td>\n",
       "      <td>0.0</td>\n",
       "      <td>0.0</td>\n",
       "      <td>0.0</td>\n",
       "      <td>0.0</td>\n",
       "      <td>0.0</td>\n",
       "      <td>0.0</td>\n",
       "      <td>...</td>\n",
       "      <td>0.0</td>\n",
       "      <td>0.0</td>\n",
       "      <td>0.0</td>\n",
       "      <td>0.0</td>\n",
       "      <td>0.0</td>\n",
       "      <td>0.0</td>\n",
       "      <td>0.0</td>\n",
       "      <td>0.0</td>\n",
       "      <td>0.0</td>\n",
       "      <td>0.0</td>\n",
       "    </tr>\n",
       "    <tr>\n",
       "      <th>352</th>\n",
       "      <td>lebinh</td>\n",
       "      <td>ngxtop</td>\n",
       "      <td>1.0</td>\n",
       "      <td>0.0</td>\n",
       "      <td>0.0</td>\n",
       "      <td>0.0</td>\n",
       "      <td>0.0</td>\n",
       "      <td>0.0</td>\n",
       "      <td>0.0</td>\n",
       "      <td>0.0</td>\n",
       "      <td>...</td>\n",
       "      <td>0.0</td>\n",
       "      <td>0.0</td>\n",
       "      <td>0.0</td>\n",
       "      <td>0.0</td>\n",
       "      <td>0.0</td>\n",
       "      <td>0.0</td>\n",
       "      <td>0.0</td>\n",
       "      <td>0.0</td>\n",
       "      <td>0.0</td>\n",
       "      <td>0.0</td>\n",
       "    </tr>\n",
       "    <tr>\n",
       "      <th>353</th>\n",
       "      <td>lebinh</td>\n",
       "      <td>ngxtop</td>\n",
       "      <td>1.0</td>\n",
       "      <td>0.0</td>\n",
       "      <td>0.0</td>\n",
       "      <td>0.0</td>\n",
       "      <td>0.0</td>\n",
       "      <td>0.0</td>\n",
       "      <td>0.0</td>\n",
       "      <td>0.0</td>\n",
       "      <td>...</td>\n",
       "      <td>0.0</td>\n",
       "      <td>0.0</td>\n",
       "      <td>0.0</td>\n",
       "      <td>0.0</td>\n",
       "      <td>0.0</td>\n",
       "      <td>0.0</td>\n",
       "      <td>0.0</td>\n",
       "      <td>0.0</td>\n",
       "      <td>0.0</td>\n",
       "      <td>0.0</td>\n",
       "    </tr>\n",
       "    <tr>\n",
       "      <th>354</th>\n",
       "      <td>lebinh</td>\n",
       "      <td>ngxtop</td>\n",
       "      <td>0.0</td>\n",
       "      <td>1.0</td>\n",
       "      <td>0.0</td>\n",
       "      <td>0.0</td>\n",
       "      <td>0.0</td>\n",
       "      <td>0.0</td>\n",
       "      <td>0.0</td>\n",
       "      <td>0.0</td>\n",
       "      <td>...</td>\n",
       "      <td>0.0</td>\n",
       "      <td>0.0</td>\n",
       "      <td>0.0</td>\n",
       "      <td>0.0</td>\n",
       "      <td>0.0</td>\n",
       "      <td>0.0</td>\n",
       "      <td>0.0</td>\n",
       "      <td>0.0</td>\n",
       "      <td>0.0</td>\n",
       "      <td>0.0</td>\n",
       "    </tr>\n",
       "    <tr>\n",
       "      <th>355</th>\n",
       "      <td>lebinh</td>\n",
       "      <td>ngxtop</td>\n",
       "      <td>0.0</td>\n",
       "      <td>1.0</td>\n",
       "      <td>0.0</td>\n",
       "      <td>0.0</td>\n",
       "      <td>0.0</td>\n",
       "      <td>0.0</td>\n",
       "      <td>0.0</td>\n",
       "      <td>0.0</td>\n",
       "      <td>...</td>\n",
       "      <td>0.0</td>\n",
       "      <td>0.0</td>\n",
       "      <td>0.0</td>\n",
       "      <td>0.0</td>\n",
       "      <td>0.0</td>\n",
       "      <td>0.0</td>\n",
       "      <td>0.0</td>\n",
       "      <td>0.0</td>\n",
       "      <td>0.0</td>\n",
       "      <td>0.0</td>\n",
       "    </tr>\n",
       "  </tbody>\n",
       "</table>\n",
       "<p>5 rows × 54 columns</p>\n",
       "</div>"
      ],
      "text/plain": [
       "      owner    repo  week_1  week_2  week_3  week_4  week_5  week_6  week_7  \\\n",
       "351  lebinh  ngxtop     1.0     0.0     0.0     0.0     0.0     0.0     0.0   \n",
       "352  lebinh  ngxtop     1.0     0.0     0.0     0.0     0.0     0.0     0.0   \n",
       "353  lebinh  ngxtop     1.0     0.0     0.0     0.0     0.0     0.0     0.0   \n",
       "354  lebinh  ngxtop     0.0     1.0     0.0     0.0     0.0     0.0     0.0   \n",
       "355  lebinh  ngxtop     0.0     1.0     0.0     0.0     0.0     0.0     0.0   \n",
       "\n",
       "     week_8   ...     week_43  week_44  week_45  week_46  week_47  week_48  \\\n",
       "351     0.0   ...         0.0      0.0      0.0      0.0      0.0      0.0   \n",
       "352     0.0   ...         0.0      0.0      0.0      0.0      0.0      0.0   \n",
       "353     0.0   ...         0.0      0.0      0.0      0.0      0.0      0.0   \n",
       "354     0.0   ...         0.0      0.0      0.0      0.0      0.0      0.0   \n",
       "355     0.0   ...         0.0      0.0      0.0      0.0      0.0      0.0   \n",
       "\n",
       "     week_49  week_50  week_51  week_52  \n",
       "351      0.0      0.0      0.0      0.0  \n",
       "352      0.0      0.0      0.0      0.0  \n",
       "353      0.0      0.0      0.0      0.0  \n",
       "354      0.0      0.0      0.0      0.0  \n",
       "355      0.0      0.0      0.0      0.0  \n",
       "\n",
       "[5 rows x 54 columns]"
      ]
     },
     "execution_count": 106,
     "metadata": {},
     "output_type": "execute_result"
    }
   ],
   "source": [
    "starrings52.head()"
   ]
  },
  {
   "cell_type": "code",
   "execution_count": 109,
   "metadata": {
    "collapsed": false
   },
   "outputs": [],
   "source": [
    "starrings52_group = starrings52.groupby(['owner', 'repo']).sum()"
   ]
  },
  {
   "cell_type": "code",
   "execution_count": 113,
   "metadata": {
    "collapsed": false
   },
   "outputs": [
    {
     "data": {
      "text/plain": [
       "(10, 52)"
      ]
     },
     "execution_count": 113,
     "metadata": {},
     "output_type": "execute_result"
    }
   ],
   "source": [
    "starrings52_group.shape"
   ]
  },
  {
   "cell_type": "code",
   "execution_count": 115,
   "metadata": {
    "collapsed": true
   },
   "outputs": [],
   "source": [
    "starrings52_group.to_csv('./data/starrings_group_sample10.csv', index=True)"
   ]
  }
 ],
 "metadata": {
  "kernelspec": {
   "display_name": "Python [Root]",
   "language": "python",
   "name": "Python [Root]"
  },
  "language_info": {
   "codemirror_mode": {
    "name": "ipython",
    "version": 2
   },
   "file_extension": ".py",
   "mimetype": "text/x-python",
   "name": "python",
   "nbconvert_exporter": "python",
   "pygments_lexer": "ipython2",
   "version": "2.7.12"
  },
  "widgets": {
   "state": {},
   "version": "1.1.2"
  }
 },
 "nbformat": 4,
 "nbformat_minor": 0
}
