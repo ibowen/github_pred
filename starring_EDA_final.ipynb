{
 "cells": [
  {
   "cell_type": "code",
   "execution_count": 1,
   "metadata": {
    "collapsed": true
   },
   "outputs": [],
   "source": [
    "import numpy as np\n",
    "import pandas as pd\n",
    "import matplotlib.pyplot as plt\n",
    "%matplotlib inline\n",
    "import seaborn as sns"
   ]
  },
  {
   "cell_type": "code",
   "execution_count": 2,
   "metadata": {
    "collapsed": false
   },
   "outputs": [],
   "source": [
    "repo_weights = pd.read_csv('./data/repo_weights.csv')"
   ]
  },
  {
   "cell_type": "code",
   "execution_count": 3,
   "metadata": {
    "collapsed": false
   },
   "outputs": [],
   "source": [
    "repo_weights.columns = ['repo', 'weight_followers', 'weight_users', 'weight_avg', 'total_users']"
   ]
  },
  {
   "cell_type": "code",
   "execution_count": 4,
   "metadata": {
    "collapsed": false
   },
   "outputs": [],
   "source": [
    "# remove angles\n",
    "repo_weights = repo_weights[repo_weights['repo'] != 'angle']"
   ]
  },
  {
   "cell_type": "code",
   "execution_count": 5,
   "metadata": {
    "collapsed": true
   },
   "outputs": [],
   "source": [
    "repo_weights.to_csv('./data/repo_weights.csv', index=False)"
   ]
  },
  {
   "cell_type": "code",
   "execution_count": 6,
   "metadata": {
    "collapsed": false
   },
   "outputs": [
    {
     "data": {
      "text/plain": [
       "707"
      ]
     },
     "execution_count": 6,
     "metadata": {},
     "output_type": "execute_result"
    }
   ],
   "source": [
    "len(repo_weights.repo.unique())"
   ]
  },
  {
   "cell_type": "code",
   "execution_count": 7,
   "metadata": {
    "collapsed": false
   },
   "outputs": [
    {
     "data": {
      "text/html": [
       "<div>\n",
       "<table border=\"1\" class=\"dataframe\">\n",
       "  <thead>\n",
       "    <tr style=\"text-align: right;\">\n",
       "      <th></th>\n",
       "      <th>repo</th>\n",
       "      <th>weight_followers</th>\n",
       "      <th>weight_users</th>\n",
       "      <th>weight_avg</th>\n",
       "      <th>total_users</th>\n",
       "    </tr>\n",
       "  </thead>\n",
       "  <tbody>\n",
       "    <tr>\n",
       "      <th>0</th>\n",
       "      <td>google-api-java-client</td>\n",
       "      <td>113.097561</td>\n",
       "      <td>151.343284</td>\n",
       "      <td>132.220422</td>\n",
       "      <td>474</td>\n",
       "    </tr>\n",
       "    <tr>\n",
       "      <th>1</th>\n",
       "      <td>distributedlog</td>\n",
       "      <td>768.658537</td>\n",
       "      <td>812.567164</td>\n",
       "      <td>790.612850</td>\n",
       "      <td>2009</td>\n",
       "    </tr>\n",
       "    <tr>\n",
       "      <th>2</th>\n",
       "      <td>shoulda-matchers</td>\n",
       "      <td>763.243902</td>\n",
       "      <td>791.223881</td>\n",
       "      <td>777.233892</td>\n",
       "      <td>1783</td>\n",
       "    </tr>\n",
       "    <tr>\n",
       "      <th>3</th>\n",
       "      <td>fathom</td>\n",
       "      <td>588.243902</td>\n",
       "      <td>566.985075</td>\n",
       "      <td>577.614489</td>\n",
       "      <td>1277</td>\n",
       "    </tr>\n",
       "    <tr>\n",
       "      <th>4</th>\n",
       "      <td>Tropos</td>\n",
       "      <td>521.414634</td>\n",
       "      <td>553.328358</td>\n",
       "      <td>537.371496</td>\n",
       "      <td>1332</td>\n",
       "    </tr>\n",
       "  </tbody>\n",
       "</table>\n",
       "</div>"
      ],
      "text/plain": [
       "                     repo  weight_followers  weight_users  weight_avg  \\\n",
       "0  google-api-java-client        113.097561    151.343284  132.220422   \n",
       "1          distributedlog        768.658537    812.567164  790.612850   \n",
       "2        shoulda-matchers        763.243902    791.223881  777.233892   \n",
       "3                  fathom        588.243902    566.985075  577.614489   \n",
       "4                  Tropos        521.414634    553.328358  537.371496   \n",
       "\n",
       "   total_users  \n",
       "0          474  \n",
       "1         2009  \n",
       "2         1783  \n",
       "3         1277  \n",
       "4         1332  "
      ]
     },
     "execution_count": 7,
     "metadata": {},
     "output_type": "execute_result"
    }
   ],
   "source": [
    "repo_weights.head()"
   ]
  },
  {
   "cell_type": "code",
   "execution_count": 8,
   "metadata": {
    "collapsed": false
   },
   "outputs": [
    {
     "data": {
      "text/plain": [
       "<matplotlib.axes._subplots.AxesSubplot at 0x1060caed0>"
      ]
     },
     "execution_count": 8,
     "metadata": {},
     "output_type": "execute_result"
    },
    {
     "data": {
      "image/png": "[encoded data removed]",
      "text/plain": [
       "<matplotlib.figure.Figure at 0x1060caf10>"
      ]
     },
     "metadata": {},
     "output_type": "display_data"
    }
   ],
   "source": [
    "repo_weights['total_users'].hist()"
   ]
  },
  {
   "cell_type": "code",
   "execution_count": 9,
   "metadata": {
    "collapsed": false
   },
   "outputs": [
    {
     "data": {
      "text/plain": [
       "<matplotlib.axes._subplots.AxesSubplot at 0x10c6dcd50>"
      ]
     },
     "execution_count": 9,
     "metadata": {},
     "output_type": "execute_result"
    },
    {
     "data": {
      "image/png": "[encoded data removed]",
      "text/plain": [
       "<matplotlib.figure.Figure at 0x10c708210>"
      ]
     },
     "metadata": {},
     "output_type": "display_data"
    }
   ],
   "source": [
    "sns.regplot(x='weight_followers', y='weight_users', data=repo_weights)"
   ]
  },
  {
   "cell_type": "code",
   "execution_count": 10,
   "metadata": {
    "collapsed": false
   },
   "outputs": [
    {
     "data": {
      "text/plain": [
       "<matplotlib.axes._subplots.AxesSubplot at 0x10c8b4110>"
      ]
     },
     "execution_count": 10,
     "metadata": {},
     "output_type": "execute_result"
    },
    {
     "data": {
      "image/png": "[encoded data removed]",
      "text/plain": [
       "<matplotlib.figure.Figure at 0x10c9347d0>"
      ]
     },
     "metadata": {},
     "output_type": "display_data"
    }
   ],
   "source": [
    "sns.regplot(x='total_users', y='weight_users', data=repo_weights)"
   ]
  },
  {
   "cell_type": "markdown",
   "metadata": {},
   "source": [
    "- Weighted followers follow a linear relationship with total weighted stargazers\n",
    "- Weights design basically follow a linear relationship with total stargazers"
   ]
  },
  {
   "cell_type": "markdown",
   "metadata": {},
   "source": [
    "### The past 51 weeks"
   ]
  },
  {
   "cell_type": "code",
   "execution_count": 2,
   "metadata": {
    "collapsed": true
   },
   "outputs": [],
   "source": [
    "starrings_full51_group = pd.read_csv('./data/starrings_full51_group.csv')"
   ]
  },
  {
   "cell_type": "code",
   "execution_count": 3,
   "metadata": {
    "collapsed": false
   },
   "outputs": [
    {
     "data": {
      "text/plain": [
       "26969"
      ]
     },
     "execution_count": 3,
     "metadata": {},
     "output_type": "execute_result"
    }
   ],
   "source": [
    "len(starrings_full51_group['repo'] == 'angle')"
   ]
  },
  {
   "cell_type": "code",
   "execution_count": 4,
   "metadata": {
    "collapsed": false
   },
   "outputs": [
    {
     "data": {
      "text/plain": [
       "704"
      ]
     },
     "execution_count": 4,
     "metadata": {},
     "output_type": "execute_result"
    }
   ],
   "source": [
    "len(starrings_full51_group['repo'].unique())"
   ]
  },
  {
   "cell_type": "code",
   "execution_count": 5,
   "metadata": {
    "collapsed": false
   },
   "outputs": [
    {
     "data": {
      "text/html": [
       "<div>\n",
       "<table border=\"1\" class=\"dataframe\">\n",
       "  <thead>\n",
       "    <tr style=\"text-align: right;\">\n",
       "      <th></th>\n",
       "      <th>owner</th>\n",
       "      <th>repo</th>\n",
       "      <th>weekofyear</th>\n",
       "      <th>total_stars</th>\n",
       "      <th>repo_id</th>\n",
       "    </tr>\n",
       "  </thead>\n",
       "  <tbody>\n",
       "    <tr>\n",
       "      <th>0</th>\n",
       "      <td>BVLC</td>\n",
       "      <td>caffe</td>\n",
       "      <td>1</td>\n",
       "      <td>14</td>\n",
       "      <td>12791642</td>\n",
       "    </tr>\n",
       "    <tr>\n",
       "      <th>1</th>\n",
       "      <td>BVLC</td>\n",
       "      <td>caffe</td>\n",
       "      <td>2</td>\n",
       "      <td>99</td>\n",
       "      <td>12791642</td>\n",
       "    </tr>\n",
       "    <tr>\n",
       "      <th>2</th>\n",
       "      <td>BVLC</td>\n",
       "      <td>caffe</td>\n",
       "      <td>3</td>\n",
       "      <td>96</td>\n",
       "      <td>12791642</td>\n",
       "    </tr>\n",
       "    <tr>\n",
       "      <th>3</th>\n",
       "      <td>BVLC</td>\n",
       "      <td>caffe</td>\n",
       "      <td>4</td>\n",
       "      <td>132</td>\n",
       "      <td>12791642</td>\n",
       "    </tr>\n",
       "    <tr>\n",
       "      <th>4</th>\n",
       "      <td>BVLC</td>\n",
       "      <td>caffe</td>\n",
       "      <td>5</td>\n",
       "      <td>120</td>\n",
       "      <td>12791642</td>\n",
       "    </tr>\n",
       "  </tbody>\n",
       "</table>\n",
       "</div>"
      ],
      "text/plain": [
       "  owner   repo  weekofyear  total_stars   repo_id\n",
       "0  BVLC  caffe           1           14  12791642\n",
       "1  BVLC  caffe           2           99  12791642\n",
       "2  BVLC  caffe           3           96  12791642\n",
       "3  BVLC  caffe           4          132  12791642\n",
       "4  BVLC  caffe           5          120  12791642"
      ]
     },
     "execution_count": 5,
     "metadata": {},
     "output_type": "execute_result"
    }
   ],
   "source": [
    "starrings_full51_group.head()"
   ]
  },
  {
   "cell_type": "code",
   "execution_count": 7,
   "metadata": {
    "collapsed": false
   },
   "outputs": [],
   "source": [
    "owner_repo = starrings_full51_group[['owner', 'repo']].drop_duplicates()"
   ]
  },
  {
   "cell_type": "code",
   "execution_count": 14,
   "metadata": {
    "collapsed": false
   },
   "outputs": [
    {
     "data": {
      "text/plain": [
       "704"
      ]
     },
     "execution_count": 14,
     "metadata": {},
     "output_type": "execute_result"
    }
   ],
   "source": [
    "len(owner_repo)"
   ]
  },
  {
   "cell_type": "code",
   "execution_count": 8,
   "metadata": {
    "collapsed": false
   },
   "outputs": [
    {
     "name": "stdout",
     "output_type": "stream",
     "text": [
      "Already 100 repos\n",
      "Already 200 repos\n",
      "Already 300 repos\n",
      "Already 400 repos\n",
      "Already 500 repos\n",
      "Already 600 repos\n",
      "Already 700 repos\n"
     ]
    }
   ],
   "source": [
    "starrings_full50_growth = pd.DataFrame()\n",
    "i = 1\n",
    "for index, row in owner_repo.iterrows():\n",
    "    if i % 100 == 0:\n",
    "        print 'Already {} repos'.format(i)\n",
    "    slot = starrings_full51_group[(starrings_full51_group['owner'] == row['owner']) & (starrings_full51_group['repo'] == row['repo'])]\n",
    "    first50 = slot['total_stars'].iloc[:-1]\n",
    "    slot = slot.iloc[1:]\n",
    "    slot['prior'] = first50.tolist()\n",
    "    slot['growth'] = slot['total_stars'] - slot['prior']\n",
    "    starrings_full50_growth = pd.concat([starrings_full50_growth, slot], axis=0)\n",
    "    i += 1"
   ]
  },
  {
   "cell_type": "code",
   "execution_count": 16,
   "metadata": {
    "collapsed": false
   },
   "outputs": [
    {
     "data": {
      "text/plain": [
       "700"
      ]
     },
     "execution_count": 16,
     "metadata": {},
     "output_type": "execute_result"
    }
   ],
   "source": [
    "len(starrings_full50_growth['repo'].unique())"
   ]
  },
  {
   "cell_type": "code",
   "execution_count": 9,
   "metadata": {
    "collapsed": false
   },
   "outputs": [
    {
     "data": {
      "text/plain": [
       "(26265, 7)"
      ]
     },
     "execution_count": 9,
     "metadata": {},
     "output_type": "execute_result"
    }
   ],
   "source": [
    "starrings_full50_growth.shape"
   ]
  },
  {
   "cell_type": "code",
   "execution_count": 10,
   "metadata": {
    "collapsed": false
   },
   "outputs": [
    {
     "data": {
      "text/html": [
       "<div>\n",
       "<table border=\"1\" class=\"dataframe\">\n",
       "  <thead>\n",
       "    <tr style=\"text-align: right;\">\n",
       "      <th></th>\n",
       "      <th>owner</th>\n",
       "      <th>repo</th>\n",
       "      <th>weekofyear</th>\n",
       "      <th>total_stars</th>\n",
       "      <th>repo_id</th>\n",
       "      <th>prior</th>\n",
       "      <th>growth</th>\n",
       "    </tr>\n",
       "  </thead>\n",
       "  <tbody>\n",
       "    <tr>\n",
       "      <th>1</th>\n",
       "      <td>BVLC</td>\n",
       "      <td>caffe</td>\n",
       "      <td>2</td>\n",
       "      <td>99</td>\n",
       "      <td>12791642</td>\n",
       "      <td>14.0</td>\n",
       "      <td>85.0</td>\n",
       "    </tr>\n",
       "    <tr>\n",
       "      <th>2</th>\n",
       "      <td>BVLC</td>\n",
       "      <td>caffe</td>\n",
       "      <td>3</td>\n",
       "      <td>96</td>\n",
       "      <td>12791642</td>\n",
       "      <td>99.0</td>\n",
       "      <td>-3.0</td>\n",
       "    </tr>\n",
       "    <tr>\n",
       "      <th>3</th>\n",
       "      <td>BVLC</td>\n",
       "      <td>caffe</td>\n",
       "      <td>4</td>\n",
       "      <td>132</td>\n",
       "      <td>12791642</td>\n",
       "      <td>96.0</td>\n",
       "      <td>36.0</td>\n",
       "    </tr>\n",
       "    <tr>\n",
       "      <th>4</th>\n",
       "      <td>BVLC</td>\n",
       "      <td>caffe</td>\n",
       "      <td>5</td>\n",
       "      <td>120</td>\n",
       "      <td>12791642</td>\n",
       "      <td>132.0</td>\n",
       "      <td>-12.0</td>\n",
       "    </tr>\n",
       "    <tr>\n",
       "      <th>5</th>\n",
       "      <td>BVLC</td>\n",
       "      <td>caffe</td>\n",
       "      <td>6</td>\n",
       "      <td>192</td>\n",
       "      <td>12791642</td>\n",
       "      <td>120.0</td>\n",
       "      <td>72.0</td>\n",
       "    </tr>\n",
       "  </tbody>\n",
       "</table>\n",
       "</div>"
      ],
      "text/plain": [
       "  owner   repo  weekofyear  total_stars   repo_id  prior  growth\n",
       "1  BVLC  caffe           2           99  12791642   14.0    85.0\n",
       "2  BVLC  caffe           3           96  12791642   99.0    -3.0\n",
       "3  BVLC  caffe           4          132  12791642   96.0    36.0\n",
       "4  BVLC  caffe           5          120  12791642  132.0   -12.0\n",
       "5  BVLC  caffe           6          192  12791642  120.0    72.0"
      ]
     },
     "execution_count": 10,
     "metadata": {},
     "output_type": "execute_result"
    }
   ],
   "source": [
    "starrings_full50_growth.head()"
   ]
  },
  {
   "cell_type": "code",
   "execution_count": 11,
   "metadata": {
    "collapsed": true
   },
   "outputs": [],
   "source": [
    "starrings_full50_growth.to_csv('./data/starrings_full50_growth.csv', index=False)"
   ]
  },
  {
   "cell_type": "code",
   "execution_count": 12,
   "metadata": {
    "collapsed": true
   },
   "outputs": [],
   "source": [
    "starrings_full50_growth = pd.read_csv('./data/starrings_full50_growth.csv')"
   ]
  },
  {
   "cell_type": "code",
   "execution_count": 13,
   "metadata": {
    "collapsed": false
   },
   "outputs": [
    {
     "data": {
      "text/plain": [
       "700"
      ]
     },
     "execution_count": 13,
     "metadata": {},
     "output_type": "execute_result"
    }
   ],
   "source": [
    "len(starrings_full50_growth['repo'].unique())"
   ]
  },
  {
   "cell_type": "code",
   "execution_count": 19,
   "metadata": {
    "collapsed": false
   },
   "outputs": [],
   "source": [
    "starrings_full50_growth_mean = starrings_full50_growth.groupby(by=['owner', 'repo'])['growth'].mean().reset_index()"
   ]
  },
  {
   "cell_type": "code",
   "execution_count": 20,
   "metadata": {
    "collapsed": false
   },
   "outputs": [
    {
     "data": {
      "text/plain": [
       "array([[<matplotlib.axes._subplots.AxesSubplot object at 0x10cbe2bd0>]], dtype=object)"
      ]
     },
     "execution_count": 20,
     "metadata": {},
     "output_type": "execute_result"
    },
    {
     "data": {
      "image/png": "[encoded data removed]",
      "text/plain": [
       "<matplotlib.figure.Figure at 0x10ca9c590>"
      ]
     },
     "metadata": {},
     "output_type": "display_data"
    }
   ],
   "source": [
    "starrings_full50_growth_mean.hist(bins=50, figsize=(20,5))"
   ]
  },
  {
   "cell_type": "markdown",
   "metadata": {},
   "source": [
    "- Most repos has the median growth between -10 to 10"
   ]
  },
  {
   "cell_type": "markdown",
   "metadata": {},
   "source": [
    "## Repo static attributes with homepages"
   ]
  },
  {
   "cell_type": "code",
   "execution_count": 21,
   "metadata": {
    "collapsed": true
   },
   "outputs": [],
   "source": [
    "repos_static = pd.read_csv('./data/repos-with-homepage.csv', index_col='Unnamed: 0')"
   ]
  },
  {
   "cell_type": "code",
   "execution_count": 22,
   "metadata": {
    "collapsed": false
   },
   "outputs": [
    {
     "data": {
      "text/html": [
       "<div>\n",
       "<table border=\"1\" class=\"dataframe\">\n",
       "  <thead>\n",
       "    <tr style=\"text-align: right;\">\n",
       "      <th></th>\n",
       "      <th>org_id</th>\n",
       "      <th>repo_id</th>\n",
       "      <th>name</th>\n",
       "      <th>full_name</th>\n",
       "      <th>fork</th>\n",
       "      <th>forks_count</th>\n",
       "      <th>size</th>\n",
       "      <th>has_issues</th>\n",
       "      <th>has_wiki</th>\n",
       "      <th>language</th>\n",
       "      <th>stargazers_count</th>\n",
       "      <th>watchers_count</th>\n",
       "      <th>created_at</th>\n",
       "      <th>updated_at</th>\n",
       "      <th>homepage</th>\n",
       "    </tr>\n",
       "  </thead>\n",
       "  <tbody>\n",
       "    <tr>\n",
       "      <th>1</th>\n",
       "      <td>google</td>\n",
       "      <td>196334</td>\n",
       "      <td>upb</td>\n",
       "      <td>google/upb</td>\n",
       "      <td>False</td>\n",
       "      <td>93</td>\n",
       "      <td>5259</td>\n",
       "      <td>True</td>\n",
       "      <td>True</td>\n",
       "      <td>C</td>\n",
       "      <td>694</td>\n",
       "      <td>694</td>\n",
       "      <td>2009-05-09 02:38:42</td>\n",
       "      <td>2016-09-21 21:30:28</td>\n",
       "      <td>https://github.com/haberman/upb/wiki</td>\n",
       "    </tr>\n",
       "    <tr>\n",
       "      <th>2</th>\n",
       "      <td>google</td>\n",
       "      <td>1936771</td>\n",
       "      <td>truth</td>\n",
       "      <td>google/truth</td>\n",
       "      <td>False</td>\n",
       "      <td>78</td>\n",
       "      <td>9889</td>\n",
       "      <td>True</td>\n",
       "      <td>True</td>\n",
       "      <td>Java</td>\n",
       "      <td>757</td>\n",
       "      <td>757</td>\n",
       "      <td>2011-06-22 18:55:12</td>\n",
       "      <td>2016-09-21 13:20:26</td>\n",
       "      <td>http://google.github.io/truth</td>\n",
       "    </tr>\n",
       "    <tr>\n",
       "      <th>3</th>\n",
       "      <td>google</td>\n",
       "      <td>3248529</td>\n",
       "      <td>signet</td>\n",
       "      <td>google/signet</td>\n",
       "      <td>False</td>\n",
       "      <td>93</td>\n",
       "      <td>581</td>\n",
       "      <td>True</td>\n",
       "      <td>True</td>\n",
       "      <td>Ruby</td>\n",
       "      <td>183</td>\n",
       "      <td>183</td>\n",
       "      <td>2012-01-23 17:13:36</td>\n",
       "      <td>2016-09-21 08:50:23</td>\n",
       "      <td>http://code.google.com/p/oauth-signet/</td>\n",
       "    </tr>\n",
       "    <tr>\n",
       "      <th>4</th>\n",
       "      <td>google</td>\n",
       "      <td>3248531</td>\n",
       "      <td>autoparse</td>\n",
       "      <td>google/autoparse</td>\n",
       "      <td>False</td>\n",
       "      <td>28</td>\n",
       "      <td>231</td>\n",
       "      <td>True</td>\n",
       "      <td>True</td>\n",
       "      <td>Ruby</td>\n",
       "      <td>123</td>\n",
       "      <td>123</td>\n",
       "      <td>2012-01-23 17:13:56</td>\n",
       "      <td>2016-09-11 03:40:23</td>\n",
       "      <td>http://code.google.com/p/ruby-autoparse/</td>\n",
       "    </tr>\n",
       "    <tr>\n",
       "      <th>5</th>\n",
       "      <td>google</td>\n",
       "      <td>3277842</td>\n",
       "      <td>google-api-ruby-client</td>\n",
       "      <td>google/google-api-ruby-client</td>\n",
       "      <td>False</td>\n",
       "      <td>353</td>\n",
       "      <td>14829</td>\n",
       "      <td>True</td>\n",
       "      <td>False</td>\n",
       "      <td>Ruby</td>\n",
       "      <td>1349</td>\n",
       "      <td>1349</td>\n",
       "      <td>2012-01-26 21:54:39</td>\n",
       "      <td>2016-09-22 15:40:41</td>\n",
       "      <td>https://developers.google.com/api-client-libra...</td>\n",
       "    </tr>\n",
       "  </tbody>\n",
       "</table>\n",
       "</div>"
      ],
      "text/plain": [
       "   org_id  repo_id                    name                      full_name  \\\n",
       "1  google   196334                     upb                     google/upb   \n",
       "2  google  1936771                   truth                   google/truth   \n",
       "3  google  3248529                  signet                  google/signet   \n",
       "4  google  3248531               autoparse               google/autoparse   \n",
       "5  google  3277842  google-api-ruby-client  google/google-api-ruby-client   \n",
       "\n",
       "    fork  forks_count   size has_issues has_wiki language  stargazers_count  \\\n",
       "1  False           93   5259       True     True        C               694   \n",
       "2  False           78   9889       True     True     Java               757   \n",
       "3  False           93    581       True     True     Ruby               183   \n",
       "4  False           28    231       True     True     Ruby               123   \n",
       "5  False          353  14829       True    False     Ruby              1349   \n",
       "\n",
       "   watchers_count           created_at           updated_at  \\\n",
       "1             694  2009-05-09 02:38:42  2016-09-21 21:30:28   \n",
       "2             757  2011-06-22 18:55:12  2016-09-21 13:20:26   \n",
       "3             183  2012-01-23 17:13:36  2016-09-21 08:50:23   \n",
       "4             123  2012-01-23 17:13:56  2016-09-11 03:40:23   \n",
       "5            1349  2012-01-26 21:54:39  2016-09-22 15:40:41   \n",
       "\n",
       "                                            homepage  \n",
       "1               https://github.com/haberman/upb/wiki  \n",
       "2                      http://google.github.io/truth  \n",
       "3             http://code.google.com/p/oauth-signet/  \n",
       "4           http://code.google.com/p/ruby-autoparse/  \n",
       "5  https://developers.google.com/api-client-libra...  "
      ]
     },
     "execution_count": 22,
     "metadata": {},
     "output_type": "execute_result"
    }
   ],
   "source": [
    "repos_static.head()"
   ]
  },
  {
   "cell_type": "markdown",
   "metadata": {},
   "source": [
    "### Compare numeric attributes with total starrings"
   ]
  },
  {
   "cell_type": "code",
   "execution_count": 60,
   "metadata": {
    "collapsed": false
   },
   "outputs": [
    {
     "data": {
      "text/plain": [
       "<matplotlib.axes._subplots.AxesSubplot at 0x1106c7890>"
      ]
     },
     "execution_count": 60,
     "metadata": {},
     "output_type": "execute_result"
    },
    {
     "data": {
      "image/png": "[encoded data removed]",
      "text/plain": [
       "<matplotlib.figure.Figure at 0x10fde2710>"
      ]
     },
     "metadata": {},
     "output_type": "display_data"
    }
   ],
   "source": [
    "sns.regplot(x='forks_count', y='stargazers_count', data=repos_static)"
   ]
  },
  {
   "cell_type": "code",
   "execution_count": 61,
   "metadata": {
    "collapsed": false
   },
   "outputs": [
    {
     "data": {
      "text/plain": [
       "<matplotlib.axes._subplots.AxesSubplot at 0x10f6aa390>"
      ]
     },
     "execution_count": 61,
     "metadata": {},
     "output_type": "execute_result"
    },
    {
     "data": {
      "image/png": "[encoded data removed]",
      "text/plain": [
       "<matplotlib.figure.Figure at 0x111499e90>"
      ]
     },
     "metadata": {},
     "output_type": "display_data"
    }
   ],
   "source": [
    "sns.regplot(x='size', y='stargazers_count', data=repos_static)"
   ]
  },
  {
   "cell_type": "code",
   "execution_count": 62,
   "metadata": {
    "collapsed": false
   },
   "outputs": [
    {
     "data": {
      "text/plain": [
       "<matplotlib.axes._subplots.AxesSubplot at 0x10fdcf310>"
      ]
     },
     "execution_count": 62,
     "metadata": {},
     "output_type": "execute_result"
    },
    {
     "data": {
      "image/png": "[encoded data removed]",
      "text/plain": [
       "<matplotlib.figure.Figure at 0x1114cadd0>"
      ]
     },
     "metadata": {},
     "output_type": "display_data"
    }
   ],
   "source": [
    "sns.regplot(x='watchers_count', y='stargazers_count', data=repos_static)"
   ]
  },
  {
   "cell_type": "markdown",
   "metadata": {},
   "source": [
    "- watchers_count has a clear linear relationship with total stargazers\n",
    "- fork_count has a nominal linear relationship with toal stargazers"
   ]
  },
  {
   "cell_type": "markdown",
   "metadata": {},
   "source": [
    "### Compare categorical features with total starrings"
   ]
  },
  {
   "cell_type": "code",
   "execution_count": 63,
   "metadata": {
    "collapsed": false
   },
   "outputs": [
    {
     "data": {
      "text/plain": [
       "<matplotlib.axes._subplots.AxesSubplot at 0x110003c90>"
      ]
     },
     "execution_count": 63,
     "metadata": {},
     "output_type": "execute_result"
    },
    {
     "data": {
      "image/png": "[encoded data removed]",
      "text/plain": [
       "<matplotlib.figure.Figure at 0x10ff96a90>"
      ]
     },
     "metadata": {},
     "output_type": "display_data"
    }
   ],
   "source": [
    "sns.barplot(x='has_wiki', y='stargazers_count', data=repos_static)"
   ]
  },
  {
   "cell_type": "code",
   "execution_count": 64,
   "metadata": {
    "collapsed": false
   },
   "outputs": [
    {
     "data": {
      "image/png": "[encoded data removed]",
      "text/plain": [
       "<matplotlib.figure.Figure at 0x10ff8e710>"
      ]
     },
     "metadata": {},
     "output_type": "display_data"
    }
   ],
   "source": [
    "plt.figure(figsize=(20,5))\n",
    "g = sns.barplot(x='language', y='stargazers_count', data=repos_static)\n",
    "for item in g.get_xticklabels():\n",
    "    item.set_rotation(45)"
   ]
  },
  {
   "cell_type": "markdown",
   "metadata": {
    "collapsed": true
   },
   "source": [
    "### Compare static attributes with median starring growth"
   ]
  },
  {
   "cell_type": "code",
   "execution_count": 23,
   "metadata": {
    "collapsed": false
   },
   "outputs": [],
   "source": [
    "weights_stargrowth = repo_weights.merge(starrings_full50_growth_mean, on=['repo'], how='inner')"
   ]
  },
  {
   "cell_type": "code",
   "execution_count": 24,
   "metadata": {
    "collapsed": false
   },
   "outputs": [
    {
     "data": {
      "text/html": [
       "<div>\n",
       "<table border=\"1\" class=\"dataframe\">\n",
       "  <thead>\n",
       "    <tr style=\"text-align: right;\">\n",
       "      <th></th>\n",
       "      <th>repo</th>\n",
       "      <th>weight_followers</th>\n",
       "      <th>weight_users</th>\n",
       "      <th>weight_avg</th>\n",
       "      <th>total_users</th>\n",
       "      <th>owner</th>\n",
       "      <th>growth</th>\n",
       "    </tr>\n",
       "  </thead>\n",
       "  <tbody>\n",
       "    <tr>\n",
       "      <th>695</th>\n",
       "      <td>spark-training</td>\n",
       "      <td>44.731707</td>\n",
       "      <td>62.029851</td>\n",
       "      <td>53.380779</td>\n",
       "      <td>153</td>\n",
       "      <td>databricks</td>\n",
       "      <td>0.000000</td>\n",
       "    </tr>\n",
       "    <tr>\n",
       "      <th>696</th>\n",
       "      <td>Front-end-Developer-Interview-Questions</td>\n",
       "      <td>7401.878049</td>\n",
       "      <td>7856.641791</td>\n",
       "      <td>7629.259920</td>\n",
       "      <td>23079</td>\n",
       "      <td>h5bp</td>\n",
       "      <td>1.780000</td>\n",
       "    </tr>\n",
       "    <tr>\n",
       "      <th>697</th>\n",
       "      <td>redux</td>\n",
       "      <td>7809.829268</td>\n",
       "      <td>8354.283582</td>\n",
       "      <td>8082.056425</td>\n",
       "      <td>23424</td>\n",
       "      <td>reactjs</td>\n",
       "      <td>5.060000</td>\n",
       "    </tr>\n",
       "    <tr>\n",
       "      <th>698</th>\n",
       "      <td>mobile-boilerplate</td>\n",
       "      <td>1429.487805</td>\n",
       "      <td>1399.208955</td>\n",
       "      <td>1414.348380</td>\n",
       "      <td>3963</td>\n",
       "      <td>h5bp</td>\n",
       "      <td>0.040816</td>\n",
       "    </tr>\n",
       "    <tr>\n",
       "      <th>699</th>\n",
       "      <td>open-graph-protocol</td>\n",
       "      <td>127.512195</td>\n",
       "      <td>124.074627</td>\n",
       "      <td>125.793411</td>\n",
       "      <td>266</td>\n",
       "      <td>facebook</td>\n",
       "      <td>0.000000</td>\n",
       "    </tr>\n",
       "  </tbody>\n",
       "</table>\n",
       "</div>"
      ],
      "text/plain": [
       "                                        repo  weight_followers  weight_users  \\\n",
       "695                           spark-training         44.731707     62.029851   \n",
       "696  Front-end-Developer-Interview-Questions       7401.878049   7856.641791   \n",
       "697                                    redux       7809.829268   8354.283582   \n",
       "698                       mobile-boilerplate       1429.487805   1399.208955   \n",
       "699                      open-graph-protocol        127.512195    124.074627   \n",
       "\n",
       "      weight_avg  total_users       owner    growth  \n",
       "695    53.380779          153  databricks  0.000000  \n",
       "696  7629.259920        23079        h5bp  1.780000  \n",
       "697  8082.056425        23424     reactjs  5.060000  \n",
       "698  1414.348380         3963        h5bp  0.040816  \n",
       "699   125.793411          266    facebook  0.000000  "
      ]
     },
     "execution_count": 24,
     "metadata": {},
     "output_type": "execute_result"
    }
   ],
   "source": [
    "weights_stargrowth.tail()"
   ]
  },
  {
   "cell_type": "code",
   "execution_count": 25,
   "metadata": {
    "collapsed": false
   },
   "outputs": [],
   "source": [
    "weights_stargrowth_static = weights_stargrowth.merge(repos_static, left_on=['owner', 'repo'], right_on=['org_id', 'name'], how='inner')"
   ]
  },
  {
   "cell_type": "code",
   "execution_count": 26,
   "metadata": {
    "collapsed": false
   },
   "outputs": [
    {
     "data": {
      "text/html": [
       "<div>\n",
       "<table border=\"1\" class=\"dataframe\">\n",
       "  <thead>\n",
       "    <tr style=\"text-align: right;\">\n",
       "      <th></th>\n",
       "      <th>repo</th>\n",
       "      <th>weight_followers</th>\n",
       "      <th>weight_users</th>\n",
       "      <th>weight_avg</th>\n",
       "      <th>total_users</th>\n",
       "      <th>owner</th>\n",
       "      <th>growth</th>\n",
       "      <th>org_id</th>\n",
       "      <th>repo_id</th>\n",
       "      <th>name</th>\n",
       "      <th>...</th>\n",
       "      <th>forks_count</th>\n",
       "      <th>size</th>\n",
       "      <th>has_issues</th>\n",
       "      <th>has_wiki</th>\n",
       "      <th>language</th>\n",
       "      <th>stargazers_count</th>\n",
       "      <th>watchers_count</th>\n",
       "      <th>created_at</th>\n",
       "      <th>updated_at</th>\n",
       "      <th>homepage</th>\n",
       "    </tr>\n",
       "  </thead>\n",
       "  <tbody>\n",
       "    <tr>\n",
       "      <th>0</th>\n",
       "      <td>google-api-java-client</td>\n",
       "      <td>113.097561</td>\n",
       "      <td>151.343284</td>\n",
       "      <td>132.220422</td>\n",
       "      <td>474</td>\n",
       "      <td>google</td>\n",
       "      <td>0.000000</td>\n",
       "      <td>google</td>\n",
       "      <td>25881432</td>\n",
       "      <td>google-api-java-client</td>\n",
       "      <td>...</td>\n",
       "      <td>281</td>\n",
       "      <td>11784</td>\n",
       "      <td>True</td>\n",
       "      <td>False</td>\n",
       "      <td>Java</td>\n",
       "      <td>475</td>\n",
       "      <td>475</td>\n",
       "      <td>2014-10-28 17:31:34</td>\n",
       "      <td>2016-09-22 23:51:48</td>\n",
       "      <td>https://developers.google.com/api-client-libra...</td>\n",
       "    </tr>\n",
       "    <tr>\n",
       "      <th>1</th>\n",
       "      <td>distributedlog</td>\n",
       "      <td>768.658537</td>\n",
       "      <td>812.567164</td>\n",
       "      <td>790.612850</td>\n",
       "      <td>2009</td>\n",
       "      <td>twitter</td>\n",
       "      <td>-68.526316</td>\n",
       "      <td>twitter</td>\n",
       "      <td>50056934</td>\n",
       "      <td>distributedlog</td>\n",
       "      <td>...</td>\n",
       "      <td>229</td>\n",
       "      <td>8109</td>\n",
       "      <td>True</td>\n",
       "      <td>True</td>\n",
       "      <td>Java</td>\n",
       "      <td>2007</td>\n",
       "      <td>2007</td>\n",
       "      <td>2016-01-20 20:07:32</td>\n",
       "      <td>2016-09-22 13:56:23</td>\n",
       "      <td>http://distributedlog.io</td>\n",
       "    </tr>\n",
       "    <tr>\n",
       "      <th>2</th>\n",
       "      <td>shoulda-matchers</td>\n",
       "      <td>763.243902</td>\n",
       "      <td>791.223881</td>\n",
       "      <td>777.233892</td>\n",
       "      <td>1783</td>\n",
       "      <td>thoughtbot</td>\n",
       "      <td>0.100000</td>\n",
       "      <td>thoughtbot</td>\n",
       "      <td>1172597</td>\n",
       "      <td>shoulda-matchers</td>\n",
       "      <td>...</td>\n",
       "      <td>521</td>\n",
       "      <td>14641</td>\n",
       "      <td>True</td>\n",
       "      <td>True</td>\n",
       "      <td>Ruby</td>\n",
       "      <td>1784</td>\n",
       "      <td>1784</td>\n",
       "      <td>2010-12-15 22:41:52</td>\n",
       "      <td>2016-09-22 18:47:55</td>\n",
       "      <td>http://matchers.shoulda.io</td>\n",
       "    </tr>\n",
       "    <tr>\n",
       "      <th>3</th>\n",
       "      <td>fathom</td>\n",
       "      <td>588.243902</td>\n",
       "      <td>566.985075</td>\n",
       "      <td>577.614489</td>\n",
       "      <td>1277</td>\n",
       "      <td>mozilla</td>\n",
       "      <td>0.333333</td>\n",
       "      <td>mozilla</td>\n",
       "      <td>54228300</td>\n",
       "      <td>fathom</td>\n",
       "      <td>...</td>\n",
       "      <td>47</td>\n",
       "      <td>165</td>\n",
       "      <td>True</td>\n",
       "      <td>True</td>\n",
       "      <td>JavaScript</td>\n",
       "      <td>1273</td>\n",
       "      <td>1273</td>\n",
       "      <td>2016-03-18 20:03:05</td>\n",
       "      <td>2016-09-22 21:21:31</td>\n",
       "      <td>https://www.npmjs.com/package/fathom-web</td>\n",
       "    </tr>\n",
       "    <tr>\n",
       "      <th>4</th>\n",
       "      <td>Tropos</td>\n",
       "      <td>521.414634</td>\n",
       "      <td>553.328358</td>\n",
       "      <td>537.371496</td>\n",
       "      <td>1332</td>\n",
       "      <td>thoughtbot</td>\n",
       "      <td>0.060000</td>\n",
       "      <td>thoughtbot</td>\n",
       "      <td>27887352</td>\n",
       "      <td>Tropos</td>\n",
       "      <td>...</td>\n",
       "      <td>190</td>\n",
       "      <td>1361</td>\n",
       "      <td>True</td>\n",
       "      <td>False</td>\n",
       "      <td>Objective-C</td>\n",
       "      <td>1336</td>\n",
       "      <td>1336</td>\n",
       "      <td>2014-12-11 19:16:06</td>\n",
       "      <td>2016-09-23 01:46:02</td>\n",
       "      <td>troposweather.com</td>\n",
       "    </tr>\n",
       "  </tbody>\n",
       "</table>\n",
       "<p>5 rows × 22 columns</p>\n",
       "</div>"
      ],
      "text/plain": [
       "                     repo  weight_followers  weight_users  weight_avg  \\\n",
       "0  google-api-java-client        113.097561    151.343284  132.220422   \n",
       "1          distributedlog        768.658537    812.567164  790.612850   \n",
       "2        shoulda-matchers        763.243902    791.223881  777.233892   \n",
       "3                  fathom        588.243902    566.985075  577.614489   \n",
       "4                  Tropos        521.414634    553.328358  537.371496   \n",
       "\n",
       "   total_users       owner     growth      org_id   repo_id  \\\n",
       "0          474      google   0.000000      google  25881432   \n",
       "1         2009     twitter -68.526316     twitter  50056934   \n",
       "2         1783  thoughtbot   0.100000  thoughtbot   1172597   \n",
       "3         1277     mozilla   0.333333     mozilla  54228300   \n",
       "4         1332  thoughtbot   0.060000  thoughtbot  27887352   \n",
       "\n",
       "                     name                        ...                          \\\n",
       "0  google-api-java-client                        ...                           \n",
       "1          distributedlog                        ...                           \n",
       "2        shoulda-matchers                        ...                           \n",
       "3                  fathom                        ...                           \n",
       "4                  Tropos                        ...                           \n",
       "\n",
       "  forks_count   size  has_issues  has_wiki     language stargazers_count  \\\n",
       "0         281  11784        True     False         Java              475   \n",
       "1         229   8109        True      True         Java             2007   \n",
       "2         521  14641        True      True         Ruby             1784   \n",
       "3          47    165        True      True   JavaScript             1273   \n",
       "4         190   1361        True     False  Objective-C             1336   \n",
       "\n",
       "  watchers_count           created_at           updated_at  \\\n",
       "0            475  2014-10-28 17:31:34  2016-09-22 23:51:48   \n",
       "1           2007  2016-01-20 20:07:32  2016-09-22 13:56:23   \n",
       "2           1784  2010-12-15 22:41:52  2016-09-22 18:47:55   \n",
       "3           1273  2016-03-18 20:03:05  2016-09-22 21:21:31   \n",
       "4           1336  2014-12-11 19:16:06  2016-09-23 01:46:02   \n",
       "\n",
       "                                            homepage  \n",
       "0  https://developers.google.com/api-client-libra...  \n",
       "1                           http://distributedlog.io  \n",
       "2                         http://matchers.shoulda.io  \n",
       "3           https://www.npmjs.com/package/fathom-web  \n",
       "4                                  troposweather.com  \n",
       "\n",
       "[5 rows x 22 columns]"
      ]
     },
     "execution_count": 26,
     "metadata": {},
     "output_type": "execute_result"
    }
   ],
   "source": [
    "weights_stargrowth_static.head()"
   ]
  },
  {
   "cell_type": "code",
   "execution_count": 27,
   "metadata": {
    "collapsed": true
   },
   "outputs": [],
   "source": [
    "weights_stargrowth_static.to_csv('./data/starrings_summary.csv', index=False)"
   ]
  },
  {
   "cell_type": "code",
   "execution_count": null,
   "metadata": {
    "collapsed": true
   },
   "outputs": [],
   "source": []
  }
 ],
 "metadata": {
  "kernelspec": {
   "display_name": "Python 2",
   "language": "python",
   "name": "python2"
  },
  "language_info": {
   "codemirror_mode": {
    "name": "ipython",
    "version": 2
   },
   "file_extension": ".py",
   "mimetype": "text/x-python",
   "name": "python",
   "nbconvert_exporter": "python",
   "pygments_lexer": "ipython2",
   "version": "2.7.10"
  },
  "widgets": {
   "state": {},
   "version": "1.1.2"
  }
 },
 "nbformat": 4,
 "nbformat_minor": 0
}
